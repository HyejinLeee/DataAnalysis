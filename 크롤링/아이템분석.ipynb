{
 "cells": [
  {
   "cell_type": "code",
   "execution_count": 250,
   "id": "e43884ff",
   "metadata": {},
   "outputs": [],
   "source": [
    "import pandas as pd \n",
    "import numpy as np\n",
    "import matplotlib.pyplot as plt\n",
    "import seaborn as sns\n",
    "import datetime as dt"
   ]
  },
  {
   "cell_type": "code",
   "execution_count": 251,
   "id": "f9bd039c",
   "metadata": {},
   "outputs": [],
   "source": [
    "df = pd.read_excel('review.xlsx')"
   ]
  },
  {
   "cell_type": "code",
   "execution_count": 252,
   "id": "0170996b",
   "metadata": {},
   "outputs": [
    {
     "data": {
      "text/html": [
       "<div>\n",
       "<style scoped>\n",
       "    .dataframe tbody tr th:only-of-type {\n",
       "        vertical-align: middle;\n",
       "    }\n",
       "\n",
       "    .dataframe tbody tr th {\n",
       "        vertical-align: top;\n",
       "    }\n",
       "\n",
       "    .dataframe thead th {\n",
       "        text-align: right;\n",
       "    }\n",
       "</style>\n",
       "<table border=\"1\" class=\"dataframe\">\n",
       "  <thead>\n",
       "    <tr style=\"text-align: right;\">\n",
       "      <th></th>\n",
       "      <th>Unnamed: 0</th>\n",
       "      <th>item</th>\n",
       "      <th>date</th>\n",
       "      <th>star</th>\n",
       "      <th>startext</th>\n",
       "      <th>review</th>\n",
       "    </tr>\n",
       "  </thead>\n",
       "  <tbody>\n",
       "    <tr>\n",
       "      <th>0</th>\n",
       "      <td>0</td>\n",
       "      <td>스킨 셀 엘릭시르 크림</td>\n",
       "      <td>등록일 : 2022-10-31</td>\n",
       "      <td>★★★★★</td>\n",
       "      <td>아주만족</td>\n",
       "      <td>환절기에 사용하기 딱 좋네요~\\n화장품 흡수 도와주는 다른 기기랑 같이 사용하고 있...</td>\n",
       "    </tr>\n",
       "    <tr>\n",
       "      <th>1</th>\n",
       "      <td>1</td>\n",
       "      <td>스킨 셀 엘릭시르 앰플 1세트</td>\n",
       "      <td>등록일 : 2022-10-31</td>\n",
       "      <td>★★★★★</td>\n",
       "      <td>아주만족</td>\n",
       "      <td>건조하고 힘 없는 피부에 잘 쓰고 있습니다.\\n나이가 드니까 유분이 자꾸 빠져서 늘...</td>\n",
       "    </tr>\n",
       "    <tr>\n",
       "      <th>2</th>\n",
       "      <td>2</td>\n",
       "      <td>듀얼소닉 스킨 엘릭시르 마스크팩(5매입)</td>\n",
       "      <td>등록일 : 2022-10-31</td>\n",
       "      <td>★★★★★</td>\n",
       "      <td>아주만족</td>\n",
       "      <td>직장을 옮기면서 마스크를 필수로 착용해야 하는 환경이 되다보니 피부가 완전 망가졌어...</td>\n",
       "    </tr>\n",
       "    <tr>\n",
       "      <th>3</th>\n",
       "      <td>3</td>\n",
       "      <td>촉촉탄력페이스 패키지 (크림 1개+헤어밴드...</td>\n",
       "      <td>등록일 : 2022-10-31</td>\n",
       "      <td>★★★★★</td>\n",
       "      <td>아주만족</td>\n",
       "      <td>크림제형이 되게 쫀쫀해요 그렇다고 끈적임이 심한건 전혀 아니고\\n제형만큼 실제 피부...</td>\n",
       "    </tr>\n",
       "    <tr>\n",
       "      <th>4</th>\n",
       "      <td>4</td>\n",
       "      <td>[렌탈]프로페셔널 세트 48개월/58,900원</td>\n",
       "      <td>등록일 : 2022-10-31</td>\n",
       "      <td>★★★★★</td>\n",
       "      <td>아주만족</td>\n",
       "      <td>친구가 추천해서 구매해보았는데\\n완전 느낌좋아요\\n비싼걸 구매했다고\\n잔소리하던 신...</td>\n",
       "    </tr>\n",
       "  </tbody>\n",
       "</table>\n",
       "</div>"
      ],
      "text/plain": [
       "   Unnamed: 0                        item              date   star startext  \\\n",
       "0           0                스킨 셀 엘릭시르 크림  등록일 : 2022-10-31  ★★★★★     아주만족   \n",
       "1           1            스킨 셀 엘릭시르 앰플 1세트  등록일 : 2022-10-31  ★★★★★     아주만족   \n",
       "2           2      듀얼소닉 스킨 엘릭시르 마스크팩(5매입)  등록일 : 2022-10-31  ★★★★★     아주만족   \n",
       "3           3  촉촉탄력페이스 패키지 (크림 1개+헤어밴드...  등록일 : 2022-10-31  ★★★★★     아주만족   \n",
       "4           4   [렌탈]프로페셔널 세트 48개월/58,900원  등록일 : 2022-10-31  ★★★★★     아주만족   \n",
       "\n",
       "                                              review  \n",
       "0  환절기에 사용하기 딱 좋네요~\\n화장품 흡수 도와주는 다른 기기랑 같이 사용하고 있...  \n",
       "1  건조하고 힘 없는 피부에 잘 쓰고 있습니다.\\n나이가 드니까 유분이 자꾸 빠져서 늘...  \n",
       "2  직장을 옮기면서 마스크를 필수로 착용해야 하는 환경이 되다보니 피부가 완전 망가졌어...  \n",
       "3  크림제형이 되게 쫀쫀해요 그렇다고 끈적임이 심한건 전혀 아니고\\n제형만큼 실제 피부...  \n",
       "4  친구가 추천해서 구매해보았는데\\n완전 느낌좋아요\\n비싼걸 구매했다고\\n잔소리하던 신...  "
      ]
     },
     "execution_count": 252,
     "metadata": {},
     "output_type": "execute_result"
    }
   ],
   "source": [
    "df.head()"
   ]
  },
  {
   "cell_type": "markdown",
   "id": "c5894cfe",
   "metadata": {},
   "source": [
    "데이터 전처리"
   ]
  },
  {
   "cell_type": "code",
   "execution_count": 253,
   "id": "007acb45",
   "metadata": {},
   "outputs": [
    {
     "data": {
      "text/plain": [
       "['스킨 셀 엘릭시르 크림',\n",
       " '스킨 셀 엘릭시르 앰플 1세트',\n",
       " '듀얼소닉 스킨 엘릭시르 마스크팩(5매입)',\n",
       " '촉촉탄력페이스 패키지 (크림 1개+헤어밴드...',\n",
       " '[렌탈]프로페셔널 세트 48개월/58,900원',\n",
       " '마스크팩 2주 보습 케어 20매',\n",
       " '블루밍 모이스처 젤 250mlx 3개',\n",
       " '[렌탈]럭셔리 세트 48개월/38,900원',\n",
       " '프로페셔널 세트 [사은품:앰플2+헤어밴드1]',\n",
       " '프로페셔널 2배샷 패키지',\n",
       " '스킨 셀 엘릭시르 토너',\n",
       " '엘릭시르 베이직 코스메틱 3종세트 (토너+...',\n",
       " '블루밍 모이스처 젤 250mlx 8개',\n",
       " '앰플 마스터 패키지 (앰플 4세트+마스크팩...',\n",
       " '엘릭시르 탄력관리 세트 (앰플+크림+마스크...',\n",
       " '블루밍 모이스처 젤 250ml',\n",
       " '[렌탈] 프로페셔널 바디 풀세트 48개월/68,...',\n",
       " '쫀득 페이스 더블 패키지 (앰플 2세트+마스...',\n",
       " '럭셔리 페이스 시크릿 세트',\n",
       " '프로페셔널 페이스 더블샷 패키지',\n",
       " '럭셔리 세트 [사은품:헤어밴드1]',\n",
       " '프로페셔널 페이스 시크릿 세트',\n",
       " '블루밍 모이스처 젤 250ml x 2개',\n",
       " '마스크팩 한달 보습 케어 40매',\n",
       " '더블 보습 패키지 (앰플 2세트+마스크팩 5...',\n",
       " '럭셔리 바디 풀세트 [사은품:블루밍젤3+헤...',\n",
       " '럭셔리 세트 2배샷 패키지',\n",
       " '프로페셔널 페이스 카트리지',\n",
       " '프로페셔널 아이 시크릿 세트',\n",
       " '럭셔리 페이스 카트리지',\n",
       " '듀얼소닉 스킨 엘릭시르 마스크팩(10매입)',\n",
       " '프로페셔널 바디 풀세트 [사은품:블루밍젤5...',\n",
       " '프로페셔널 바디 카트리지[사은품 : 젤 5개...',\n",
       " '[렌탈] 럭셔리 바디 풀세트 48개월/48,900...',\n",
       " '프로페셔널 올인원 패키지 (바디 카트리지1...',\n",
       " '프로페셔널 페이스 카트리지 2배샷 ( 총 :...',\n",
       " '럭셔리 바디 카트리지 (2만샷, 1샷 20도트)...',\n",
       " '프로페셔널 페이스&아이 세트 (프로페셔널...',\n",
       " '프로페셔널 아이 카트리지 2배샷 ( 총 : 12...',\n",
       " '프로페셔널 페이스 카트리지 2개 패키지',\n",
       " '프로페셔널 바디&아이 세트 (바디 카트리...',\n",
       " '럭셔리 아이 시크릿 세트',\n",
       " '럭셔리 바디&아이 세트 (바디 카트리지+아...',\n",
       " '프로페셔널 바디&페이스 세트 (바디 카트리...',\n",
       " '럭셔리 바디&페이스 세트 (바디 카트리지+...',\n",
       " '럭셔리 올인원 패키지 (바디 카트리지1개+...',\n",
       " '듀얼소닉 헤어밴드 (베이지 or 그레이)',\n",
       " '럭셔리 페이스 카트리지 2개 패키지 [사은...',\n",
       " '럭셔리 페이스&아이 세트 (럭셔리 페이스...',\n",
       " '프로페셔널 아이 카트리지']"
      ]
     },
     "execution_count": 253,
     "metadata": {},
     "output_type": "execute_result"
    }
   ],
   "source": [
    "df.item.unique().tolist()"
   ]
  },
  {
   "cell_type": "markdown",
   "id": "90e918d8",
   "metadata": {},
   "source": [
    "전체 아이템 개수"
   ]
  },
  {
   "cell_type": "code",
   "execution_count": 254,
   "id": "fae3f134",
   "metadata": {},
   "outputs": [
    {
     "data": {
      "text/plain": [
       "4451"
      ]
     },
     "execution_count": 254,
     "metadata": {},
     "output_type": "execute_result"
    }
   ],
   "source": [
    "len(df)"
   ]
  },
  {
   "cell_type": "markdown",
   "id": "363822b1",
   "metadata": {},
   "source": [
    "프로페셔널이 포함된 아이템 추출"
   ]
  },
  {
   "cell_type": "code",
   "execution_count": 255,
   "id": "0ffe1120",
   "metadata": {},
   "outputs": [],
   "source": [
    "df_pro = df[df['item'].str.contains('프로페셔널')]"
   ]
  },
  {
   "cell_type": "code",
   "execution_count": 256,
   "id": "48c97ee7",
   "metadata": {},
   "outputs": [
    {
     "data": {
      "text/plain": [
       "4021"
      ]
     },
     "execution_count": 256,
     "metadata": {},
     "output_type": "execute_result"
    }
   ],
   "source": [
    "len(df_pro)"
   ]
  },
  {
   "cell_type": "markdown",
   "id": "47ce4197",
   "metadata": {},
   "source": [
    "프로페셔널이 포함된 아이템은 4021개"
   ]
  },
  {
   "cell_type": "markdown",
   "id": "88da2dd8",
   "metadata": {},
   "source": [
    "등록일을 시계열 데이터로 만들기 위한 전처리 "
   ]
  },
  {
   "cell_type": "markdown",
   "id": "f7503020",
   "metadata": {},
   "source": [
    "등록일 : 2022-10-31 에서 공백 및 등록일 : 텍스트 제거 "
   ]
  },
  {
   "cell_type": "code",
   "execution_count": 257,
   "id": "1518d428",
   "metadata": {},
   "outputs": [
    {
     "name": "stderr",
     "output_type": "stream",
     "text": [
      "C:\\Users\\Public\\Documents\\ESTsoft\\CreatorTemp\\ipykernel_22524\\1896957077.py:1: SettingWithCopyWarning: \n",
      "A value is trying to be set on a copy of a slice from a DataFrame.\n",
      "Try using .loc[row_indexer,col_indexer] = value instead\n",
      "\n",
      "See the caveats in the documentation: https://pandas.pydata.org/pandas-docs/stable/user_guide/indexing.html#returning-a-view-versus-a-copy\n",
      "  df_pro['date'] = df_pro['date'].str.replace(\"등록일 : \", \"\")\n"
     ]
    }
   ],
   "source": [
    "df_pro['date'] = df_pro['date'].str.replace(\"등록일 : \", \"\")"
   ]
  },
  {
   "cell_type": "code",
   "execution_count": 258,
   "id": "ed3b5006",
   "metadata": {},
   "outputs": [
    {
     "data": {
      "text/plain": [
       "4       2022-10-31\n",
       "7       2022-10-31\n",
       "8       2022-10-31\n",
       "11      2022-10-31\n",
       "12      2022-10-31\n",
       "           ...    \n",
       "4446    2019-01-29\n",
       "4447    2019-01-20\n",
       "4448    2019-01-19\n",
       "4449    2019-01-05\n",
       "4450    2019-01-05\n",
       "Name: date, Length: 4021, dtype: object"
      ]
     },
     "execution_count": 258,
     "metadata": {},
     "output_type": "execute_result"
    }
   ],
   "source": [
    "df_pro['date']"
   ]
  },
  {
   "cell_type": "code",
   "execution_count": 259,
   "id": "f8714229",
   "metadata": {},
   "outputs": [
    {
     "name": "stderr",
     "output_type": "stream",
     "text": [
      "C:\\Users\\Public\\Documents\\ESTsoft\\CreatorTemp\\ipykernel_22524\\1393728418.py:1: SettingWithCopyWarning: \n",
      "A value is trying to be set on a copy of a slice from a DataFrame.\n",
      "Try using .loc[row_indexer,col_indexer] = value instead\n",
      "\n",
      "See the caveats in the documentation: https://pandas.pydata.org/pandas-docs/stable/user_guide/indexing.html#returning-a-view-versus-a-copy\n",
      "  df_pro['date'] = pd.to_datetime(df_pro['date'], errors='ignore' , format=\"%Y-%m-%d\")\n"
     ]
    }
   ],
   "source": [
    "df_pro['date'] = pd.to_datetime(df_pro['date'], errors='ignore' , format=\"%Y-%m-%d\")"
   ]
  },
  {
   "cell_type": "code",
   "execution_count": 260,
   "id": "10dab779",
   "metadata": {},
   "outputs": [
    {
     "data": {
      "text/plain": [
       "4       2022-10-31\n",
       "7       2022-10-31\n",
       "8       2022-10-31\n",
       "11      2022-10-31\n",
       "12      2022-10-31\n",
       "           ...    \n",
       "4446    2019-01-29\n",
       "4447    2019-01-20\n",
       "4448    2019-01-19\n",
       "4449    2019-01-05\n",
       "4450    2019-01-05\n",
       "Name: date, Length: 4021, dtype: object"
      ]
     },
     "execution_count": 260,
     "metadata": {},
     "output_type": "execute_result"
    }
   ],
   "source": [
    "df_pro['date']"
   ]
  },
  {
   "cell_type": "markdown",
   "id": "35eb2c0c",
   "metadata": {},
   "source": [
    "정규표현식으로 날짜 형식 1901-01-01 형식으로 변환되었는지 체크"
   ]
  },
  {
   "cell_type": "code",
   "execution_count": 261,
   "id": "e4fdc66f",
   "metadata": {},
   "outputs": [],
   "source": [
    "import re\n",
    "\n",
    "def chkeckError(datas):   \n",
    "    #wow = re.search(\"M[a-z]+\\.\", datas)\n",
    "    wow = re.match(\"[0-9]{4}-[0-9]{2}-[0-9]{2}\", datas)\n",
    "    \n",
    "    if wow == None:\n",
    "        return True\n",
    "    \n",
    "    return False"
   ]
  },
  {
   "cell_type": "code",
   "execution_count": 262,
   "id": "4f2195e3",
   "metadata": {},
   "outputs": [
    {
     "name": "stderr",
     "output_type": "stream",
     "text": [
      "C:\\Users\\Public\\Documents\\ESTsoft\\CreatorTemp\\ipykernel_22524\\3283850189.py:1: SettingWithCopyWarning: \n",
      "A value is trying to be set on a copy of a slice from a DataFrame.\n",
      "Try using .loc[row_indexer,col_indexer] = value instead\n",
      "\n",
      "See the caveats in the documentation: https://pandas.pydata.org/pandas-docs/stable/user_guide/indexing.html#returning-a-view-versus-a-copy\n",
      "  df_pro[\"dateCheck\"]=df_pro[\"date\"].map(chkeckError)\n"
     ]
    }
   ],
   "source": [
    "df_pro[\"dateCheck\"]=df_pro[\"date\"].map(chkeckError)"
   ]
  },
  {
   "cell_type": "code",
   "execution_count": 263,
   "id": "61305c8e",
   "metadata": {},
   "outputs": [
    {
     "data": {
      "text/plain": [
       "4       False\n",
       "7       False\n",
       "8       False\n",
       "11      False\n",
       "12      False\n",
       "        ...  \n",
       "4446    False\n",
       "4447    False\n",
       "4448    False\n",
       "4449    False\n",
       "4450    False\n",
       "Name: dateCheck, Length: 4021, dtype: bool"
      ]
     },
     "execution_count": 263,
     "metadata": {},
     "output_type": "execute_result"
    }
   ],
   "source": [
    "df_pro[\"dateCheck\"]"
   ]
  },
  {
   "cell_type": "markdown",
   "id": "99a68d53",
   "metadata": {},
   "source": [
    "날짜 형식이 아닌 date 확인하여 삭제 "
   ]
  },
  {
   "cell_type": "code",
   "execution_count": 264,
   "id": "3f08a60d",
   "metadata": {},
   "outputs": [
    {
     "data": {
      "text/html": [
       "<div>\n",
       "<style scoped>\n",
       "    .dataframe tbody tr th:only-of-type {\n",
       "        vertical-align: middle;\n",
       "    }\n",
       "\n",
       "    .dataframe tbody tr th {\n",
       "        vertical-align: top;\n",
       "    }\n",
       "\n",
       "    .dataframe thead th {\n",
       "        text-align: right;\n",
       "    }\n",
       "</style>\n",
       "<table border=\"1\" class=\"dataframe\">\n",
       "  <thead>\n",
       "    <tr style=\"text-align: right;\">\n",
       "      <th></th>\n",
       "      <th>Unnamed: 0</th>\n",
       "      <th>item</th>\n",
       "      <th>date</th>\n",
       "      <th>star</th>\n",
       "      <th>startext</th>\n",
       "      <th>review</th>\n",
       "      <th>dateCheck</th>\n",
       "    </tr>\n",
       "  </thead>\n",
       "  <tbody>\n",
       "    <tr>\n",
       "      <th>3777</th>\n",
       "      <td>3777</td>\n",
       "      <td>프로페셔널 세트 [사은품:앰플2+헤어밴드1]</td>\n",
       "      <td>조회수 : 17</td>\n",
       "      <td>★★★★</td>\n",
       "      <td>만족</td>\n",
       "      <td>[병원시술보단 집에서 편히 할 수 있는 홈케어로 구매했어요. 설명서대로 듀얼모드로 ...</td>\n",
       "      <td>True</td>\n",
       "    </tr>\n",
       "    <tr>\n",
       "      <th>3787</th>\n",
       "      <td>3787</td>\n",
       "      <td>프로페셔널 세트 [사은품:앰플2+헤어밴드1]</td>\n",
       "      <td>조회수 : 17</td>\n",
       "      <td>★★★★</td>\n",
       "      <td>만족</td>\n",
       "      <td>[병원시술보단 집에서 편히 할 수 있는 홈케어로 구매했어요. 설명서대로 듀얼모드로 ...</td>\n",
       "      <td>True</td>\n",
       "    </tr>\n",
       "    <tr>\n",
       "      <th>3816</th>\n",
       "      <td>3816</td>\n",
       "      <td>프로페셔널 세트 [사은품:앰플2+헤어밴드1]</td>\n",
       "      <td>조회수 : 7</td>\n",
       "      <td>★★★★★</td>\n",
       "      <td>아주만족</td>\n",
       "      <td>[집에서 관리받을수 있다는점이 우선 좋네요.\\n한번 사용한결과 피부과에서 느끼는 자...</td>\n",
       "      <td>True</td>\n",
       "    </tr>\n",
       "    <tr>\n",
       "      <th>3818</th>\n",
       "      <td>3818</td>\n",
       "      <td>프로페셔널 세트 [사은품:앰플2+헤어밴드1]</td>\n",
       "      <td>조회수 : 3</td>\n",
       "      <td>★★★★★</td>\n",
       "      <td>아주만족</td>\n",
       "      <td>[기계 사용하고 팩 한번했는데 다음날 뽀송한 느낌이에요]\\n기계 사용하고 팩 한번했...</td>\n",
       "      <td>True</td>\n",
       "    </tr>\n",
       "    <tr>\n",
       "      <th>3826</th>\n",
       "      <td>3826</td>\n",
       "      <td>프로페셔널 세트 [사은품:앰플2+헤어밴드1]</td>\n",
       "      <td>조회수 : 7</td>\n",
       "      <td>★★★★★</td>\n",
       "      <td>아주만족</td>\n",
       "      <td>[집에서 관리받을수 있다는점이 우선 좋네요.\\n한번 사용한결과 피부과에서 느끼는 자...</td>\n",
       "      <td>True</td>\n",
       "    </tr>\n",
       "    <tr>\n",
       "      <th>3828</th>\n",
       "      <td>3828</td>\n",
       "      <td>프로페셔널 세트 [사은품:앰플2+헤어밴드1]</td>\n",
       "      <td>조회수 : 3</td>\n",
       "      <td>★★★★★</td>\n",
       "      <td>아주만족</td>\n",
       "      <td>[기계 사용하고 팩 한번했는데 다음날 뽀송한 느낌이에요]\\n기계 사용하고 팩 한번했...</td>\n",
       "      <td>True</td>\n",
       "    </tr>\n",
       "    <tr>\n",
       "      <th>3838</th>\n",
       "      <td>3838</td>\n",
       "      <td>프로페셔널 세트 [사은품:앰플2+헤어밴드1]</td>\n",
       "      <td>조회수 : 0</td>\n",
       "      <td>★★★★★</td>\n",
       "      <td>아주만족</td>\n",
       "      <td>한번했는데도 확실히 효과과 있네여 병원 안가도 집에서 할수 있어서 너무 좋은데 쫌 ...</td>\n",
       "      <td>True</td>\n",
       "    </tr>\n",
       "    <tr>\n",
       "      <th>3848</th>\n",
       "      <td>3848</td>\n",
       "      <td>프로페셔널 세트 [사은품:앰플2+헤어밴드1]</td>\n",
       "      <td>조회수 : 0</td>\n",
       "      <td>★★★★★</td>\n",
       "      <td>아주만족</td>\n",
       "      <td>한번했는데도 확실히 효과과 있네여 병원 안가도 집에서 할수 있어서 너무 좋은데 쫌 ...</td>\n",
       "      <td>True</td>\n",
       "    </tr>\n",
       "    <tr>\n",
       "      <th>3850</th>\n",
       "      <td>3850</td>\n",
       "      <td>프로페셔널 세트 [사은품:앰플2+헤어밴드1]</td>\n",
       "      <td>조회수 : 1</td>\n",
       "      <td>★★</td>\n",
       "      <td>미흡</td>\n",
       "      <td>꾸준히 쓰면 좋아지겠죠?</td>\n",
       "      <td>True</td>\n",
       "    </tr>\n",
       "    <tr>\n",
       "      <th>3860</th>\n",
       "      <td>3860</td>\n",
       "      <td>프로페셔널 세트 [사은품:앰플2+헤어밴드1]</td>\n",
       "      <td>조회수 : 6</td>\n",
       "      <td>★★★★★</td>\n",
       "      <td>아주만족</td>\n",
       "      <td>[피부가 약한 편이여서 피부 시술은 하게되면 다른 분들보다는 강도를 많이 약하게 하...</td>\n",
       "      <td>True</td>\n",
       "    </tr>\n",
       "    <tr>\n",
       "      <th>3870</th>\n",
       "      <td>3870</td>\n",
       "      <td>프로페셔널 세트 [사은품:앰플2+헤어밴드1]</td>\n",
       "      <td>조회수 : 6</td>\n",
       "      <td>★★★★★</td>\n",
       "      <td>아주만족</td>\n",
       "      <td>[피부가 약한 편이여서 피부 시술은 하게되면 다른 분들보다는 강도를 많이 약하게 하...</td>\n",
       "      <td>True</td>\n",
       "    </tr>\n",
       "    <tr>\n",
       "      <th>3897</th>\n",
       "      <td>3897</td>\n",
       "      <td>프로페셔널 세트 [사은품:앰플2+헤어밴드1]</td>\n",
       "      <td>조회수 : 2</td>\n",
       "      <td>★★★★</td>\n",
       "      <td>만족</td>\n",
       "      <td>[꾸준히 써보려구여~~]\\n꾸준히 써보려구여~~\\n\\n\\n\\n...더보기</td>\n",
       "      <td>True</td>\n",
       "    </tr>\n",
       "    <tr>\n",
       "      <th>3927</th>\n",
       "      <td>3927</td>\n",
       "      <td>프로페셔널 세트 [사은품:앰플2+헤어밴드1]</td>\n",
       "      <td>조회수 : 0</td>\n",
       "      <td>★★★★★</td>\n",
       "      <td>아주만족</td>\n",
       "      <td>만족했습니다 ^^</td>\n",
       "      <td>True</td>\n",
       "    </tr>\n",
       "    <tr>\n",
       "      <th>3937</th>\n",
       "      <td>3937</td>\n",
       "      <td>프로페셔널 세트 [사은품:앰플2+헤어밴드1]</td>\n",
       "      <td>조회수 : 0</td>\n",
       "      <td>★★★★★</td>\n",
       "      <td>아주만족</td>\n",
       "      <td>만족했습니다 ^^</td>\n",
       "      <td>True</td>\n",
       "    </tr>\n",
       "    <tr>\n",
       "      <th>4059</th>\n",
       "      <td>4059</td>\n",
       "      <td>프로페셔널 세트 [사은품:앰플2+헤어밴드1]</td>\n",
       "      <td>조회수 : 1</td>\n",
       "      <td>★★★★★</td>\n",
       "      <td>아주만족</td>\n",
       "      <td>[배송이 엄청빨라요 바로 다음날 왔네요ㅎ 여러가지 제품들이 많았고 제품이 가격대가 ...</td>\n",
       "      <td>True</td>\n",
       "    </tr>\n",
       "  </tbody>\n",
       "</table>\n",
       "</div>"
      ],
      "text/plain": [
       "      Unnamed: 0                      item      date   star startext  \\\n",
       "3777        3777  프로페셔널 세트 [사은품:앰플2+헤어밴드1]  조회수 : 17   ★★★★       만족   \n",
       "3787        3787  프로페셔널 세트 [사은품:앰플2+헤어밴드1]  조회수 : 17   ★★★★       만족   \n",
       "3816        3816  프로페셔널 세트 [사은품:앰플2+헤어밴드1]   조회수 : 7  ★★★★★     아주만족   \n",
       "3818        3818  프로페셔널 세트 [사은품:앰플2+헤어밴드1]   조회수 : 3  ★★★★★     아주만족   \n",
       "3826        3826  프로페셔널 세트 [사은품:앰플2+헤어밴드1]   조회수 : 7  ★★★★★     아주만족   \n",
       "3828        3828  프로페셔널 세트 [사은품:앰플2+헤어밴드1]   조회수 : 3  ★★★★★     아주만족   \n",
       "3838        3838  프로페셔널 세트 [사은품:앰플2+헤어밴드1]   조회수 : 0  ★★★★★     아주만족   \n",
       "3848        3848  프로페셔널 세트 [사은품:앰플2+헤어밴드1]   조회수 : 0  ★★★★★     아주만족   \n",
       "3850        3850  프로페셔널 세트 [사은품:앰플2+헤어밴드1]   조회수 : 1     ★★       미흡   \n",
       "3860        3860  프로페셔널 세트 [사은품:앰플2+헤어밴드1]   조회수 : 6  ★★★★★     아주만족   \n",
       "3870        3870  프로페셔널 세트 [사은품:앰플2+헤어밴드1]   조회수 : 6  ★★★★★     아주만족   \n",
       "3897        3897  프로페셔널 세트 [사은품:앰플2+헤어밴드1]   조회수 : 2   ★★★★       만족   \n",
       "3927        3927  프로페셔널 세트 [사은품:앰플2+헤어밴드1]   조회수 : 0  ★★★★★     아주만족   \n",
       "3937        3937  프로페셔널 세트 [사은품:앰플2+헤어밴드1]   조회수 : 0  ★★★★★     아주만족   \n",
       "4059        4059  프로페셔널 세트 [사은품:앰플2+헤어밴드1]   조회수 : 1  ★★★★★     아주만족   \n",
       "\n",
       "                                                 review  dateCheck  \n",
       "3777  [병원시술보단 집에서 편히 할 수 있는 홈케어로 구매했어요. 설명서대로 듀얼모드로 ...       True  \n",
       "3787  [병원시술보단 집에서 편히 할 수 있는 홈케어로 구매했어요. 설명서대로 듀얼모드로 ...       True  \n",
       "3816  [집에서 관리받을수 있다는점이 우선 좋네요.\\n한번 사용한결과 피부과에서 느끼는 자...       True  \n",
       "3818  [기계 사용하고 팩 한번했는데 다음날 뽀송한 느낌이에요]\\n기계 사용하고 팩 한번했...       True  \n",
       "3826  [집에서 관리받을수 있다는점이 우선 좋네요.\\n한번 사용한결과 피부과에서 느끼는 자...       True  \n",
       "3828  [기계 사용하고 팩 한번했는데 다음날 뽀송한 느낌이에요]\\n기계 사용하고 팩 한번했...       True  \n",
       "3838  한번했는데도 확실히 효과과 있네여 병원 안가도 집에서 할수 있어서 너무 좋은데 쫌 ...       True  \n",
       "3848  한번했는데도 확실히 효과과 있네여 병원 안가도 집에서 할수 있어서 너무 좋은데 쫌 ...       True  \n",
       "3850                                      꾸준히 쓰면 좋아지겠죠?       True  \n",
       "3860  [피부가 약한 편이여서 피부 시술은 하게되면 다른 분들보다는 강도를 많이 약하게 하...       True  \n",
       "3870  [피부가 약한 편이여서 피부 시술은 하게되면 다른 분들보다는 강도를 많이 약하게 하...       True  \n",
       "3897           [꾸준히 써보려구여~~]\\n꾸준히 써보려구여~~\\n\\n\\n\\n...더보기       True  \n",
       "3927                                          만족했습니다 ^^       True  \n",
       "3937                                          만족했습니다 ^^       True  \n",
       "4059  [배송이 엄청빨라요 바로 다음날 왔네요ㅎ 여러가지 제품들이 많았고 제품이 가격대가 ...       True  "
      ]
     },
     "execution_count": 264,
     "metadata": {},
     "output_type": "execute_result"
    }
   ],
   "source": [
    "df_pro[df_pro[\"dateCheck\"]==True]"
   ]
  },
  {
   "cell_type": "markdown",
   "id": "8f90ed52",
   "metadata": {},
   "source": [
    "날짜 형식이 아닌 행 총 15개 있는 것을 확인"
   ]
  },
  {
   "cell_type": "code",
   "execution_count": 265,
   "id": "c3b5455d",
   "metadata": {},
   "outputs": [
    {
     "data": {
      "text/plain": [
       "15"
      ]
     },
     "execution_count": 265,
     "metadata": {},
     "output_type": "execute_result"
    }
   ],
   "source": [
    "len(df_pro[df_pro[\"dateCheck\"]==True])"
   ]
  },
  {
   "cell_type": "markdown",
   "id": "ed26c5c7",
   "metadata": {},
   "source": [
    "날짜 형식이 아닌 아이템 삭제"
   ]
  },
  {
   "cell_type": "code",
   "execution_count": 266,
   "id": "d70b6cd0",
   "metadata": {},
   "outputs": [],
   "source": [
    "df_pro = df_pro.drop(index = df_pro[df_pro[\"dateCheck\"]==True].index)"
   ]
  },
  {
   "cell_type": "markdown",
   "id": "21a513b9",
   "metadata": {},
   "source": [
    "date 열을 시간 포맷으로 변경함 "
   ]
  },
  {
   "cell_type": "code",
   "execution_count": 267,
   "id": "3ab980f4",
   "metadata": {},
   "outputs": [],
   "source": [
    "df_pro['date'] = pd.to_datetime(df_pro['date'], format=\"%Y-%m-%d\")"
   ]
  },
  {
   "cell_type": "code",
   "execution_count": 268,
   "id": "9a4e9c99",
   "metadata": {},
   "outputs": [],
   "source": [
    "df_pro['resample'] = df_pro['date'].dt.to_period(freq='Q')"
   ]
  },
  {
   "cell_type": "code",
   "execution_count": 269,
   "id": "8b4f942f",
   "metadata": {},
   "outputs": [
    {
     "data": {
      "text/plain": [
       "<AxesSubplot:>"
      ]
     },
     "execution_count": 269,
     "metadata": {},
     "output_type": "execute_result"
    },
    {
     "data": {
      "image/png": "[encoded data removed]",
      "text/plain": [
       "<Figure size 432x288 with 1 Axes>"
      ]
     },
     "metadata": {
      "needs_background": "light"
     },
     "output_type": "display_data"
    }
   ],
   "source": [
    "df_pro['resample'].value_counts().plot.bar()"
   ]
  },
  {
   "cell_type": "markdown",
   "id": "c7739617",
   "metadata": {},
   "source": [
    "위의 그래프를 보면 2022 1분기, 2021년 4분기에 리뷰가 많이 등록됨을 알 수 있다. "
   ]
  },
  {
   "cell_type": "code",
   "execution_count": 270,
   "id": "d3b96e5e",
   "metadata": {},
   "outputs": [],
   "source": [
    "#test.index = test.index.to_series().astype(str)"
   ]
  },
  {
   "cell_type": "markdown",
   "id": "8350cba0",
   "metadata": {},
   "source": [
    "★전체 아이템에 대한 분석★"
   ]
  },
  {
   "cell_type": "code",
   "execution_count": 271,
   "id": "344248fe",
   "metadata": {},
   "outputs": [
    {
     "data": {
      "text/plain": [
       "★★★★★    3471\n",
       "★★★★      470\n",
       "★★★        58\n",
       "★★          6\n",
       "★           1\n",
       "Name: star, dtype: int64"
      ]
     },
     "execution_count": 271,
     "metadata": {},
     "output_type": "execute_result"
    }
   ],
   "source": [
    "df_pro['star'].value_counts()"
   ]
  },
  {
   "cell_type": "markdown",
   "id": "0e7edc9d",
   "metadata": {},
   "source": [
    "1) 전체 평점 평균 "
   ]
  },
  {
   "cell_type": "code",
   "execution_count": 272,
   "id": "1ad5eb8b",
   "metadata": {},
   "outputs": [],
   "source": [
    "df_pro['point'] = df_pro['star'].replace({\"★★★★★\":5, \"★★★★\":4, \"★★★\":3, \"★★\":2, \"★\":1 } )"
   ]
  },
  {
   "cell_type": "code",
   "execution_count": 273,
   "id": "05ff0737",
   "metadata": {},
   "outputs": [
    {
     "data": {
      "text/plain": [
       "5    3471\n",
       "4     470\n",
       "3      58\n",
       "2       6\n",
       "1       1\n",
       "Name: point, dtype: int64"
      ]
     },
     "execution_count": 273,
     "metadata": {},
     "output_type": "execute_result"
    }
   ],
   "source": [
    "df_pro['point'].value_counts()"
   ]
  },
  {
   "cell_type": "code",
   "execution_count": 274,
   "id": "08f7076d",
   "metadata": {},
   "outputs": [
    {
     "data": {
      "text/plain": [
       "4.848227658512232"
      ]
     },
     "execution_count": 274,
     "metadata": {},
     "output_type": "execute_result"
    }
   ],
   "source": [
    "df_pro['point'].mean()"
   ]
  },
  {
   "cell_type": "markdown",
   "id": "c1b5ec03",
   "metadata": {},
   "source": [
    "=> 전체 평점 평균 : 4.85"
   ]
  },
  {
   "cell_type": "markdown",
   "id": "927933d0",
   "metadata": {},
   "source": [
    "plot chart "
   ]
  },
  {
   "cell_type": "code",
   "execution_count": 275,
   "id": "4fa2243c",
   "metadata": {},
   "outputs": [
    {
     "data": {
      "image/png": "[encoded data removed]",
      "text/plain": [
       "<Figure size 432x576 with 1 Axes>"
      ]
     },
     "metadata": {},
     "output_type": "display_data"
    }
   ],
   "source": [
    "plt.figure(figsize=(6, 8))\n",
    "plt.pie(df_pro['point'].value_counts(), labels =[5,4,3,2,1],  autopct='%.1f%%')\n",
    "plt.show()"
   ]
  },
  {
   "cell_type": "markdown",
   "id": "56c5dd3c",
   "metadata": {},
   "source": [
    "위의 그림을 보면 별점 5점이 약 86.6 % 임을 알 수 있다. "
   ]
  },
  {
   "cell_type": "code",
   "execution_count": null,
   "id": "c28ebecb",
   "metadata": {},
   "outputs": [],
   "source": []
  }
 ],
 "metadata": {
  "kernelspec": {
   "display_name": "Python 3 (ipykernel)",
   "language": "python",
   "name": "python3"
  },
  "language_info": {
   "codemirror_mode": {
    "name": "ipython",
    "version": 3
   },
   "file_extension": ".py",
   "mimetype": "text/x-python",
   "name": "python",
   "nbconvert_exporter": "python",
   "pygments_lexer": "ipython3",
   "version": "3.9.12"
  }
 },
 "nbformat": 4,
 "nbformat_minor": 5
}
