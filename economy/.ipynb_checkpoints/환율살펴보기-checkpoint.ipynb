{
 "cells": [
  {
   "cell_type": "code",
   "execution_count": 2,
   "metadata": {
    "execution": {
     "iopub.execute_input": "2022-12-11T18:50:08.415776Z",
     "iopub.status.busy": "2022-12-11T18:50:08.415039Z",
     "iopub.status.idle": "2022-12-11T18:50:09.944216Z",
     "shell.execute_reply": "2022-12-11T18:50:09.943823Z",
     "shell.execute_reply.started": "2022-12-11T18:50:08.415776Z"
    },
    "executionInfo": {
     "elapsed": 346,
     "status": "ok",
     "timestamp": 1663820781451,
     "user": {
      "displayName": "이혜진",
      "userId": "05706981884636951498"
     },
     "user_tz": -540
    },
    "id": "G_FlhTg12g3A"
   },
   "outputs": [],
   "source": [
    "import pandas as pd\n",
    "import matplotlib.pyplot as plt"
   ]
  },
  {
   "cell_type": "code",
   "execution_count": 3,
   "metadata": {
    "execution": {
     "iopub.execute_input": "2022-12-11T18:50:09.949384Z",
     "iopub.status.busy": "2022-12-11T18:50:09.949384Z",
     "iopub.status.idle": "2022-12-11T18:50:09.961654Z",
     "shell.execute_reply": "2022-12-11T18:50:09.959482Z",
     "shell.execute_reply.started": "2022-12-11T18:50:09.949384Z"
    },
    "id": "9Bg7_k3i3BFP"
   },
   "outputs": [],
   "source": [
    "#환율 매매기준율(기준환율)에 대한 정의 \n",
    "# https://korealtyusa.com/매매기준율/"
   ]
  },
  {
   "cell_type": "code",
   "execution_count": 4,
   "metadata": {
    "execution": {
     "iopub.execute_input": "2022-12-11T18:50:09.963012Z",
     "iopub.status.busy": "2022-12-11T18:50:09.963012Z",
     "iopub.status.idle": "2022-12-11T18:50:09.975263Z",
     "shell.execute_reply": "2022-12-11T18:50:09.973327Z",
     "shell.execute_reply.started": "2022-12-11T18:50:09.963012Z"
    },
    "id": "0DzS3coy3ClU"
   },
   "outputs": [],
   "source": [
    "# 데이터 출처 : 한국은행 경제통계시스템 \n",
    "# https://ecos.bok.or.kr/#/SearchStat"
   ]
  },
  {
   "cell_type": "code",
   "execution_count": 5,
   "metadata": {
    "execution": {
     "iopub.execute_input": "2022-12-11T18:50:09.978982Z",
     "iopub.status.busy": "2022-12-11T18:50:09.977579Z",
     "iopub.status.idle": "2022-12-11T18:50:10.004192Z",
     "shell.execute_reply": "2022-12-11T18:50:10.003193Z",
     "shell.execute_reply.started": "2022-12-11T18:50:09.978982Z"
    },
    "executionInfo": {
     "elapsed": 1397,
     "status": "ok",
     "timestamp": 1663820785822,
     "user": {
      "displayName": "이혜진",
      "userId": "05706981884636951498"
     },
     "user_tz": -540
    },
    "id": "WHa9LuEZ3D1K"
   },
   "outputs": [],
   "source": [
    "df = pd.read_csv('data/USD_KRW_KRBANK.csv')"
   ]
  },
  {
   "cell_type": "code",
   "execution_count": 6,
   "metadata": {
    "colab": {
     "base_uri": "https://localhost:8080/",
     "height": 237
    },
    "execution": {
     "iopub.execute_input": "2022-12-11T18:50:10.008991Z",
     "iopub.status.busy": "2022-12-11T18:50:10.007975Z",
     "iopub.status.idle": "2022-12-11T18:50:10.049226Z",
     "shell.execute_reply": "2022-12-11T18:50:10.048750Z",
     "shell.execute_reply.started": "2022-12-11T18:50:10.008991Z"
    },
    "executionInfo": {
     "elapsed": 470,
     "status": "ok",
     "timestamp": 1663186896221,
     "user": {
      "displayName": "이혜진",
      "userId": "05706981884636951498"
     },
     "user_tz": -540
    },
    "id": "G-xGYuoJ2vK0",
    "outputId": "d78cd06f-4e85-4c7c-efe0-6a4bfb3dbb33"
   },
   "outputs": [
    {
     "data": {
      "text/html": [
       "<div>\n",
       "<style scoped>\n",
       "    .dataframe tbody tr th:only-of-type {\n",
       "        vertical-align: middle;\n",
       "    }\n",
       "\n",
       "    .dataframe tbody tr th {\n",
       "        vertical-align: top;\n",
       "    }\n",
       "\n",
       "    .dataframe thead th {\n",
       "        text-align: right;\n",
       "    }\n",
       "</style>\n",
       "<table border=\"1\" class=\"dataframe\">\n",
       "  <thead>\n",
       "    <tr style=\"text-align: right;\">\n",
       "      <th></th>\n",
       "      <th>변환</th>\n",
       "      <th>원자료</th>\n",
       "    </tr>\n",
       "  </thead>\n",
       "  <tbody>\n",
       "    <tr>\n",
       "      <th>5379</th>\n",
       "      <td>2022/09/06</td>\n",
       "      <td>1,369.70</td>\n",
       "    </tr>\n",
       "    <tr>\n",
       "      <th>5380</th>\n",
       "      <td>2022/09/07</td>\n",
       "      <td>1,370.30</td>\n",
       "    </tr>\n",
       "    <tr>\n",
       "      <th>5381</th>\n",
       "      <td>2022/09/08</td>\n",
       "      <td>1,385.30</td>\n",
       "    </tr>\n",
       "    <tr>\n",
       "      <th>5382</th>\n",
       "      <td>2022/09/13</td>\n",
       "      <td>1,381.20</td>\n",
       "    </tr>\n",
       "    <tr>\n",
       "      <th>5383</th>\n",
       "      <td>2022/09/14</td>\n",
       "      <td>1,374.80</td>\n",
       "    </tr>\n",
       "  </tbody>\n",
       "</table>\n",
       "</div>"
      ],
      "text/plain": [
       "              변환       원자료\n",
       "5379  2022/09/06  1,369.70\n",
       "5380  2022/09/07  1,370.30\n",
       "5381  2022/09/08  1,385.30\n",
       "5382  2022/09/13  1,381.20\n",
       "5383  2022/09/14  1,374.80"
      ]
     },
     "execution_count": 6,
     "metadata": {},
     "output_type": "execute_result"
    }
   ],
   "source": [
    "df.tail()"
   ]
  },
  {
   "cell_type": "code",
   "execution_count": 7,
   "metadata": {
    "colab": {
     "base_uri": "https://localhost:8080/",
     "height": 206
    },
    "execution": {
     "iopub.execute_input": "2022-12-11T18:50:10.050245Z",
     "iopub.status.busy": "2022-12-11T18:50:10.050245Z",
     "iopub.status.idle": "2022-12-11T18:50:10.079956Z",
     "shell.execute_reply": "2022-12-11T18:50:10.079458Z",
     "shell.execute_reply.started": "2022-12-11T18:50:10.050245Z"
    },
    "executionInfo": {
     "elapsed": 19,
     "status": "ok",
     "timestamp": 1663186866360,
     "user": {
      "displayName": "이혜진",
      "userId": "05706981884636951498"
     },
     "user_tz": -540
    },
    "id": "JYjepdWx9wo_",
    "outputId": "5018f02a-09be-4ef3-f042-4f704c550706"
   },
   "outputs": [
    {
     "data": {
      "text/html": [
       "<div>\n",
       "<style scoped>\n",
       "    .dataframe tbody tr th:only-of-type {\n",
       "        vertical-align: middle;\n",
       "    }\n",
       "\n",
       "    .dataframe tbody tr th {\n",
       "        vertical-align: top;\n",
       "    }\n",
       "\n",
       "    .dataframe thead th {\n",
       "        text-align: right;\n",
       "    }\n",
       "</style>\n",
       "<table border=\"1\" class=\"dataframe\">\n",
       "  <thead>\n",
       "    <tr style=\"text-align: right;\">\n",
       "      <th></th>\n",
       "      <th>날짜</th>\n",
       "      <th>환율</th>\n",
       "    </tr>\n",
       "  </thead>\n",
       "  <tbody>\n",
       "    <tr>\n",
       "      <th>0</th>\n",
       "      <td>2001/01/02</td>\n",
       "      <td>1,259.70</td>\n",
       "    </tr>\n",
       "    <tr>\n",
       "      <th>1</th>\n",
       "      <td>2001/01/03</td>\n",
       "      <td>1,267.80</td>\n",
       "    </tr>\n",
       "    <tr>\n",
       "      <th>2</th>\n",
       "      <td>2001/01/04</td>\n",
       "      <td>1,285.40</td>\n",
       "    </tr>\n",
       "    <tr>\n",
       "      <th>3</th>\n",
       "      <td>2001/01/05</td>\n",
       "      <td>1,249.30</td>\n",
       "    </tr>\n",
       "    <tr>\n",
       "      <th>4</th>\n",
       "      <td>2001/01/08</td>\n",
       "      <td>1,267.80</td>\n",
       "    </tr>\n",
       "  </tbody>\n",
       "</table>\n",
       "</div>"
      ],
      "text/plain": [
       "           날짜        환율\n",
       "0  2001/01/02  1,259.70\n",
       "1  2001/01/03  1,267.80\n",
       "2  2001/01/04  1,285.40\n",
       "3  2001/01/05  1,249.30\n",
       "4  2001/01/08  1,267.80"
      ]
     },
     "execution_count": 7,
     "metadata": {},
     "output_type": "execute_result"
    }
   ],
   "source": [
    "# column name 변경\n",
    "df.columns = ['날짜', '환율']\n",
    "df.head()"
   ]
  },
  {
   "cell_type": "code",
   "execution_count": 8,
   "metadata": {
    "colab": {
     "base_uri": "https://localhost:8080/",
     "height": 237
    },
    "execution": {
     "iopub.execute_input": "2022-12-11T18:50:10.081972Z",
     "iopub.status.busy": "2022-12-11T18:50:10.081972Z",
     "iopub.status.idle": "2022-12-11T18:50:10.110195Z",
     "shell.execute_reply": "2022-12-11T18:50:10.109694Z",
     "shell.execute_reply.started": "2022-12-11T18:50:10.081972Z"
    },
    "executionInfo": {
     "elapsed": 18,
     "status": "ok",
     "timestamp": 1663186866361,
     "user": {
      "displayName": "이혜진",
      "userId": "05706981884636951498"
     },
     "user_tz": -540
    },
    "id": "C5gs5FiR-DSM",
    "outputId": "d9759aab-5d28-4223-f0ba-fc364a26c794"
   },
   "outputs": [
    {
     "data": {
      "text/html": [
       "<div>\n",
       "<style scoped>\n",
       "    .dataframe tbody tr th:only-of-type {\n",
       "        vertical-align: middle;\n",
       "    }\n",
       "\n",
       "    .dataframe tbody tr th {\n",
       "        vertical-align: top;\n",
       "    }\n",
       "\n",
       "    .dataframe thead th {\n",
       "        text-align: right;\n",
       "    }\n",
       "</style>\n",
       "<table border=\"1\" class=\"dataframe\">\n",
       "  <thead>\n",
       "    <tr style=\"text-align: right;\">\n",
       "      <th></th>\n",
       "      <th>환율</th>\n",
       "    </tr>\n",
       "    <tr>\n",
       "      <th>날짜</th>\n",
       "      <th></th>\n",
       "    </tr>\n",
       "  </thead>\n",
       "  <tbody>\n",
       "    <tr>\n",
       "      <th>2001/01/02</th>\n",
       "      <td>1,259.70</td>\n",
       "    </tr>\n",
       "    <tr>\n",
       "      <th>2001/01/03</th>\n",
       "      <td>1,267.80</td>\n",
       "    </tr>\n",
       "    <tr>\n",
       "      <th>2001/01/04</th>\n",
       "      <td>1,285.40</td>\n",
       "    </tr>\n",
       "    <tr>\n",
       "      <th>2001/01/05</th>\n",
       "      <td>1,249.30</td>\n",
       "    </tr>\n",
       "    <tr>\n",
       "      <th>2001/01/08</th>\n",
       "      <td>1,267.80</td>\n",
       "    </tr>\n",
       "  </tbody>\n",
       "</table>\n",
       "</div>"
      ],
      "text/plain": [
       "                  환율\n",
       "날짜                  \n",
       "2001/01/02  1,259.70\n",
       "2001/01/03  1,267.80\n",
       "2001/01/04  1,285.40\n",
       "2001/01/05  1,249.30\n",
       "2001/01/08  1,267.80"
      ]
     },
     "execution_count": 8,
     "metadata": {},
     "output_type": "execute_result"
    }
   ],
   "source": [
    "df.set_index('날짜',inplace = True)\n",
    "df.head()"
   ]
  },
  {
   "cell_type": "code",
   "execution_count": 9,
   "metadata": {
    "execution": {
     "iopub.execute_input": "2022-12-11T18:50:10.112207Z",
     "iopub.status.busy": "2022-12-11T18:50:10.112207Z",
     "iopub.status.idle": "2022-12-11T18:50:10.129207Z",
     "shell.execute_reply": "2022-12-11T18:50:10.126028Z",
     "shell.execute_reply.started": "2022-12-11T18:50:10.112207Z"
    },
    "id": "j-KA4lm-2v-g"
   },
   "outputs": [],
   "source": [
    "#index 를 datetime 형식으로 변경 (추후에 편한 정렬 및 loc 를 위해)\n",
    "df.index = pd.to_datetime(df.index)\n",
    "df = df.sort_index()"
   ]
  },
  {
   "cell_type": "code",
   "execution_count": 10,
   "metadata": {
    "colab": {
     "base_uri": "https://localhost:8080/"
    },
    "execution": {
     "iopub.execute_input": "2022-12-11T18:50:10.132339Z",
     "iopub.status.busy": "2022-12-11T18:50:10.131839Z",
     "iopub.status.idle": "2022-12-11T18:50:10.141755Z",
     "shell.execute_reply": "2022-12-11T18:50:10.141256Z",
     "shell.execute_reply.started": "2022-12-11T18:50:10.132339Z"
    },
    "executionInfo": {
     "elapsed": 19,
     "status": "ok",
     "timestamp": 1663186866364,
     "user": {
      "displayName": "이혜진",
      "userId": "05706981884636951498"
     },
     "user_tz": -540
    },
    "id": "2xiW2Rrn2wZP",
    "outputId": "a3d4dc82-36df-4bc4-901f-0fa30fd007f2"
   },
   "outputs": [
    {
     "data": {
      "text/plain": [
       "DatetimeIndex(['2001-01-02', '2001-01-03', '2001-01-04', '2001-01-05',\n",
       "               '2001-01-08', '2001-01-09', '2001-01-10', '2001-01-11',\n",
       "               '2001-01-12', '2001-01-15',\n",
       "               ...\n",
       "               '2022-08-30', '2022-08-31', '2022-09-01', '2022-09-02',\n",
       "               '2022-09-05', '2022-09-06', '2022-09-07', '2022-09-08',\n",
       "               '2022-09-13', '2022-09-14'],\n",
       "              dtype='datetime64[ns]', name='날짜', length=5384, freq=None)"
      ]
     },
     "execution_count": 10,
     "metadata": {},
     "output_type": "execute_result"
    }
   ],
   "source": [
    "df.index"
   ]
  },
  {
   "cell_type": "code",
   "execution_count": 11,
   "metadata": {
    "colab": {
     "base_uri": "https://localhost:8080/",
     "height": 237
    },
    "execution": {
     "iopub.execute_input": "2022-12-11T18:50:10.143081Z",
     "iopub.status.busy": "2022-12-11T18:50:10.143081Z",
     "iopub.status.idle": "2022-12-11T18:50:10.160606Z",
     "shell.execute_reply": "2022-12-11T18:50:10.156494Z",
     "shell.execute_reply.started": "2022-12-11T18:50:10.143081Z"
    },
    "executionInfo": {
     "elapsed": 18,
     "status": "ok",
     "timestamp": 1663186866365,
     "user": {
      "displayName": "이혜진",
      "userId": "05706981884636951498"
     },
     "user_tz": -540
    },
    "id": "uPaR9JMD3Hi5",
    "outputId": "78b6ea54-4500-4508-80c2-1d22cee40507"
   },
   "outputs": [
    {
     "data": {
      "text/html": [
       "<div>\n",
       "<style scoped>\n",
       "    .dataframe tbody tr th:only-of-type {\n",
       "        vertical-align: middle;\n",
       "    }\n",
       "\n",
       "    .dataframe tbody tr th {\n",
       "        vertical-align: top;\n",
       "    }\n",
       "\n",
       "    .dataframe thead th {\n",
       "        text-align: right;\n",
       "    }\n",
       "</style>\n",
       "<table border=\"1\" class=\"dataframe\">\n",
       "  <thead>\n",
       "    <tr style=\"text-align: right;\">\n",
       "      <th></th>\n",
       "      <th>환율</th>\n",
       "    </tr>\n",
       "    <tr>\n",
       "      <th>날짜</th>\n",
       "      <th></th>\n",
       "    </tr>\n",
       "  </thead>\n",
       "  <tbody>\n",
       "    <tr>\n",
       "      <th>2001-01-02</th>\n",
       "      <td>1,259.70</td>\n",
       "    </tr>\n",
       "    <tr>\n",
       "      <th>2001-01-03</th>\n",
       "      <td>1,267.80</td>\n",
       "    </tr>\n",
       "    <tr>\n",
       "      <th>2001-01-04</th>\n",
       "      <td>1,285.40</td>\n",
       "    </tr>\n",
       "    <tr>\n",
       "      <th>2001-01-05</th>\n",
       "      <td>1,249.30</td>\n",
       "    </tr>\n",
       "    <tr>\n",
       "      <th>2001-01-08</th>\n",
       "      <td>1,267.80</td>\n",
       "    </tr>\n",
       "  </tbody>\n",
       "</table>\n",
       "</div>"
      ],
      "text/plain": [
       "                  환율\n",
       "날짜                  \n",
       "2001-01-02  1,259.70\n",
       "2001-01-03  1,267.80\n",
       "2001-01-04  1,285.40\n",
       "2001-01-05  1,249.30\n",
       "2001-01-08  1,267.80"
      ]
     },
     "execution_count": 11,
     "metadata": {},
     "output_type": "execute_result"
    }
   ],
   "source": [
    "df.head()"
   ]
  },
  {
   "cell_type": "code",
   "execution_count": 12,
   "metadata": {
    "execution": {
     "iopub.execute_input": "2022-12-11T18:50:10.165088Z",
     "iopub.status.busy": "2022-12-11T18:50:10.164589Z",
     "iopub.status.idle": "2022-12-11T18:50:10.187433Z",
     "shell.execute_reply": "2022-12-11T18:50:10.186435Z",
     "shell.execute_reply.started": "2022-12-11T18:50:10.165088Z"
    },
    "id": "Q4Gj9KST6CuP"
   },
   "outputs": [],
   "source": [
    "# 연도, 월, 일, 분기를 따로 저장\n",
    "df['일자'] = df.index"
   ]
  },
  {
   "cell_type": "code",
   "execution_count": 13,
   "metadata": {
    "execution": {
     "iopub.execute_input": "2022-12-11T18:50:10.188449Z",
     "iopub.status.busy": "2022-12-11T18:50:10.188449Z",
     "iopub.status.idle": "2022-12-11T18:50:10.201701Z",
     "shell.execute_reply": "2022-12-11T18:50:10.201203Z",
     "shell.execute_reply.started": "2022-12-11T18:50:10.188449Z"
    },
    "id": "LLtwKVPM6DeK"
   },
   "outputs": [],
   "source": [
    "df['연'] = df['일자'].dt.year\n",
    "df['월'] = df['일자'].dt.month\n",
    "df['일'] = df['일자'].dt.day\n",
    "df['분기'] = df['일자'].dt.quarter"
   ]
  },
  {
   "cell_type": "code",
   "execution_count": 14,
   "metadata": {
    "colab": {
     "base_uri": "https://localhost:8080/",
     "height": 237
    },
    "execution": {
     "iopub.execute_input": "2022-12-11T18:50:10.204173Z",
     "iopub.status.busy": "2022-12-11T18:50:10.203141Z",
     "iopub.status.idle": "2022-12-11T18:50:10.233729Z",
     "shell.execute_reply": "2022-12-11T18:50:10.231156Z",
     "shell.execute_reply.started": "2022-12-11T18:50:10.204173Z"
    },
    "executionInfo": {
     "elapsed": 339,
     "status": "ok",
     "timestamp": 1663186866687,
     "user": {
      "displayName": "이혜진",
      "userId": "05706981884636951498"
     },
     "user_tz": -540
    },
    "id": "7zPPnThs6Dxb",
    "outputId": "2f866d2a-0feb-4065-afb5-cd2a04f3e642"
   },
   "outputs": [
    {
     "data": {
      "text/html": [
       "<div>\n",
       "<style scoped>\n",
       "    .dataframe tbody tr th:only-of-type {\n",
       "        vertical-align: middle;\n",
       "    }\n",
       "\n",
       "    .dataframe tbody tr th {\n",
       "        vertical-align: top;\n",
       "    }\n",
       "\n",
       "    .dataframe thead th {\n",
       "        text-align: right;\n",
       "    }\n",
       "</style>\n",
       "<table border=\"1\" class=\"dataframe\">\n",
       "  <thead>\n",
       "    <tr style=\"text-align: right;\">\n",
       "      <th></th>\n",
       "      <th>환율</th>\n",
       "      <th>일자</th>\n",
       "      <th>연</th>\n",
       "      <th>월</th>\n",
       "      <th>일</th>\n",
       "      <th>분기</th>\n",
       "    </tr>\n",
       "    <tr>\n",
       "      <th>날짜</th>\n",
       "      <th></th>\n",
       "      <th></th>\n",
       "      <th></th>\n",
       "      <th></th>\n",
       "      <th></th>\n",
       "      <th></th>\n",
       "    </tr>\n",
       "  </thead>\n",
       "  <tbody>\n",
       "    <tr>\n",
       "      <th>2001-01-02</th>\n",
       "      <td>1,259.70</td>\n",
       "      <td>2001-01-02</td>\n",
       "      <td>2001</td>\n",
       "      <td>1</td>\n",
       "      <td>2</td>\n",
       "      <td>1</td>\n",
       "    </tr>\n",
       "    <tr>\n",
       "      <th>2001-01-03</th>\n",
       "      <td>1,267.80</td>\n",
       "      <td>2001-01-03</td>\n",
       "      <td>2001</td>\n",
       "      <td>1</td>\n",
       "      <td>3</td>\n",
       "      <td>1</td>\n",
       "    </tr>\n",
       "    <tr>\n",
       "      <th>2001-01-04</th>\n",
       "      <td>1,285.40</td>\n",
       "      <td>2001-01-04</td>\n",
       "      <td>2001</td>\n",
       "      <td>1</td>\n",
       "      <td>4</td>\n",
       "      <td>1</td>\n",
       "    </tr>\n",
       "    <tr>\n",
       "      <th>2001-01-05</th>\n",
       "      <td>1,249.30</td>\n",
       "      <td>2001-01-05</td>\n",
       "      <td>2001</td>\n",
       "      <td>1</td>\n",
       "      <td>5</td>\n",
       "      <td>1</td>\n",
       "    </tr>\n",
       "    <tr>\n",
       "      <th>2001-01-08</th>\n",
       "      <td>1,267.80</td>\n",
       "      <td>2001-01-08</td>\n",
       "      <td>2001</td>\n",
       "      <td>1</td>\n",
       "      <td>8</td>\n",
       "      <td>1</td>\n",
       "    </tr>\n",
       "  </tbody>\n",
       "</table>\n",
       "</div>"
      ],
      "text/plain": [
       "                  환율         일자     연  월  일  분기\n",
       "날짜                                             \n",
       "2001-01-02  1,259.70 2001-01-02  2001  1  2   1\n",
       "2001-01-03  1,267.80 2001-01-03  2001  1  3   1\n",
       "2001-01-04  1,285.40 2001-01-04  2001  1  4   1\n",
       "2001-01-05  1,249.30 2001-01-05  2001  1  5   1\n",
       "2001-01-08  1,267.80 2001-01-08  2001  1  8   1"
      ]
     },
     "execution_count": 14,
     "metadata": {},
     "output_type": "execute_result"
    }
   ],
   "source": [
    "df.head()"
   ]
  },
  {
   "cell_type": "code",
   "execution_count": 15,
   "metadata": {
    "colab": {
     "base_uri": "https://localhost:8080/"
    },
    "execution": {
     "iopub.execute_input": "2022-12-11T18:50:10.238119Z",
     "iopub.status.busy": "2022-12-11T18:50:10.237117Z",
     "iopub.status.idle": "2022-12-11T18:50:10.263646Z",
     "shell.execute_reply": "2022-12-11T18:50:10.262646Z",
     "shell.execute_reply.started": "2022-12-11T18:50:10.238119Z"
    },
    "executionInfo": {
     "elapsed": 17,
     "status": "ok",
     "timestamp": 1663186866688,
     "user": {
      "displayName": "이혜진",
      "userId": "05706981884636951498"
     },
     "user_tz": -540
    },
    "id": "kF6p4y9fRZU4",
    "outputId": "ac1b0232-4948-4ffc-eb65-5360ca36b537"
   },
   "outputs": [
    {
     "name": "stdout",
     "output_type": "stream",
     "text": [
      "<class 'pandas.core.frame.DataFrame'>\n",
      "DatetimeIndex: 5384 entries, 2001-01-02 to 2022-09-14\n",
      "Data columns (total 6 columns):\n",
      " #   Column  Non-Null Count  Dtype         \n",
      "---  ------  --------------  -----         \n",
      " 0   환율      5384 non-null   object        \n",
      " 1   일자      5384 non-null   datetime64[ns]\n",
      " 2   연       5384 non-null   int64         \n",
      " 3   월       5384 non-null   int64         \n",
      " 4   일       5384 non-null   int64         \n",
      " 5   분기      5384 non-null   int64         \n",
      "dtypes: datetime64[ns](1), int64(4), object(1)\n",
      "memory usage: 294.4+ KB\n"
     ]
    }
   ],
   "source": [
    "df.info()"
   ]
  },
  {
   "cell_type": "markdown",
   "metadata": {
    "id": "1FUw7USSRqPD"
   },
   "source": [
    "환율이 object type(일반 문자형) 이므로 int64 로 변환해준다. "
   ]
  },
  {
   "cell_type": "code",
   "execution_count": 16,
   "metadata": {
    "execution": {
     "iopub.execute_input": "2022-12-11T18:50:10.266083Z",
     "iopub.status.busy": "2022-12-11T18:50:10.265583Z",
     "iopub.status.idle": "2022-12-11T18:50:10.295751Z",
     "shell.execute_reply": "2022-12-11T18:50:10.294187Z",
     "shell.execute_reply.started": "2022-12-11T18:50:10.266083Z"
    },
    "id": "YGe9N0bERx0d"
   },
   "outputs": [],
   "source": [
    "# 환율에 ',' 가 포함되어 있으므로, 삭제함\n",
    "df[\"환율\"] = df[\"환율\"].str.replace(pat='[,]', repl=r'', regex=True)"
   ]
  },
  {
   "cell_type": "code",
   "execution_count": 17,
   "metadata": {
    "execution": {
     "iopub.execute_input": "2022-12-11T18:50:10.297091Z",
     "iopub.status.busy": "2022-12-11T18:50:10.297091Z",
     "iopub.status.idle": "2022-12-11T18:50:10.311303Z",
     "shell.execute_reply": "2022-12-11T18:50:10.309575Z",
     "shell.execute_reply.started": "2022-12-11T18:50:10.297091Z"
    },
    "id": "uHXsfMdLRyGT"
   },
   "outputs": [],
   "source": [
    "# 환율을 float 형으로 변환\n",
    "df[\"환율\"] = df[\"환율\"].astype(float)"
   ]
  },
  {
   "cell_type": "code",
   "execution_count": 18,
   "metadata": {
    "colab": {
     "base_uri": "https://localhost:8080/"
    },
    "execution": {
     "iopub.execute_input": "2022-12-11T18:50:10.313662Z",
     "iopub.status.busy": "2022-12-11T18:50:10.313662Z",
     "iopub.status.idle": "2022-12-11T18:50:10.342433Z",
     "shell.execute_reply": "2022-12-11T18:50:10.340271Z",
     "shell.execute_reply.started": "2022-12-11T18:50:10.313662Z"
    },
    "executionInfo": {
     "elapsed": 16,
     "status": "ok",
     "timestamp": 1663186866690,
     "user": {
      "displayName": "이혜진",
      "userId": "05706981884636951498"
     },
     "user_tz": -540
    },
    "id": "MbnRHag-UFNU",
    "outputId": "4b2db992-2754-4930-ac99-e857ed9975fd"
   },
   "outputs": [
    {
     "name": "stdout",
     "output_type": "stream",
     "text": [
      "<class 'pandas.core.frame.DataFrame'>\n",
      "DatetimeIndex: 5384 entries, 2001-01-02 to 2022-09-14\n",
      "Data columns (total 6 columns):\n",
      " #   Column  Non-Null Count  Dtype         \n",
      "---  ------  --------------  -----         \n",
      " 0   환율      5384 non-null   float64       \n",
      " 1   일자      5384 non-null   datetime64[ns]\n",
      " 2   연       5384 non-null   int64         \n",
      " 3   월       5384 non-null   int64         \n",
      " 4   일       5384 non-null   int64         \n",
      " 5   분기      5384 non-null   int64         \n",
      "dtypes: datetime64[ns](1), float64(1), int64(4)\n",
      "memory usage: 294.4 KB\n"
     ]
    }
   ],
   "source": [
    "# 환율이 float 형으로 변환된 사항 확인\n",
    "df.info()"
   ]
  },
  {
   "cell_type": "markdown",
   "metadata": {
    "id": "YBnNDeuwRo8m"
   },
   "source": []
  },
  {
   "cell_type": "code",
   "execution_count": 19,
   "metadata": {
    "execution": {
     "iopub.execute_input": "2022-12-11T18:50:10.345672Z",
     "iopub.status.busy": "2022-12-11T18:50:10.344669Z",
     "iopub.status.idle": "2022-12-11T18:50:10.357871Z",
     "shell.execute_reply": "2022-12-11T18:50:10.356256Z",
     "shell.execute_reply.started": "2022-12-11T18:50:10.345672Z"
    },
    "id": "1r591WF1fF0T"
   },
   "outputs": [],
   "source": [
    "gb = df.groupby(['연','월'])"
   ]
  },
  {
   "cell_type": "code",
   "execution_count": 20,
   "metadata": {
    "execution": {
     "iopub.execute_input": "2022-12-11T18:50:10.360883Z",
     "iopub.status.busy": "2022-12-11T18:50:10.360883Z",
     "iopub.status.idle": "2022-12-11T18:50:10.372485Z",
     "shell.execute_reply": "2022-12-11T18:50:10.371484Z",
     "shell.execute_reply.started": "2022-12-11T18:50:10.360883Z"
    },
    "id": "iSf_heSYPfXH"
   },
   "outputs": [],
   "source": [
    "#gb.agg({'환율': [min, max]}).to_csv('/content/drive/MyDrive/Colab/group_by.csv')"
   ]
  },
  {
   "cell_type": "code",
   "execution_count": 21,
   "metadata": {
    "colab": {
     "base_uri": "https://localhost:8080/",
     "height": 237
    },
    "execution": {
     "iopub.execute_input": "2022-12-11T18:50:10.375521Z",
     "iopub.status.busy": "2022-12-11T18:50:10.374407Z",
     "iopub.status.idle": "2022-12-11T18:50:10.418447Z",
     "shell.execute_reply": "2022-12-11T18:50:10.417947Z",
     "shell.execute_reply.started": "2022-12-11T18:50:10.375521Z"
    },
    "executionInfo": {
     "elapsed": 5,
     "status": "ok",
     "timestamp": 1663187364920,
     "user": {
      "displayName": "이혜진",
      "userId": "05706981884636951498"
     },
     "user_tz": -540
    },
    "id": "ATDwcD6DN49Z",
    "outputId": "9c892b5a-4453-4eed-b459-dce188afabee"
   },
   "outputs": [
    {
     "data": {
      "text/html": [
       "<div>\n",
       "<style scoped>\n",
       "    .dataframe tbody tr th:only-of-type {\n",
       "        vertical-align: middle;\n",
       "    }\n",
       "\n",
       "    .dataframe tbody tr th {\n",
       "        vertical-align: top;\n",
       "    }\n",
       "\n",
       "    .dataframe thead th {\n",
       "        text-align: right;\n",
       "    }\n",
       "</style>\n",
       "<table border=\"1\" class=\"dataframe\">\n",
       "  <thead>\n",
       "    <tr style=\"text-align: right;\">\n",
       "      <th></th>\n",
       "      <th>환율</th>\n",
       "      <th>일자</th>\n",
       "      <th>연</th>\n",
       "      <th>월</th>\n",
       "      <th>일</th>\n",
       "      <th>분기</th>\n",
       "      <th>이평150</th>\n",
       "      <th>이평90</th>\n",
       "    </tr>\n",
       "    <tr>\n",
       "      <th>날짜</th>\n",
       "      <th></th>\n",
       "      <th></th>\n",
       "      <th></th>\n",
       "      <th></th>\n",
       "      <th></th>\n",
       "      <th></th>\n",
       "      <th></th>\n",
       "      <th></th>\n",
       "    </tr>\n",
       "  </thead>\n",
       "  <tbody>\n",
       "    <tr>\n",
       "      <th>2022-09-06</th>\n",
       "      <td>1369.7</td>\n",
       "      <td>2022-09-06</td>\n",
       "      <td>2022</td>\n",
       "      <td>9</td>\n",
       "      <td>6</td>\n",
       "      <td>3</td>\n",
       "      <td>1263.922000</td>\n",
       "      <td>1295.895556</td>\n",
       "    </tr>\n",
       "    <tr>\n",
       "      <th>2022-09-07</th>\n",
       "      <td>1370.3</td>\n",
       "      <td>2022-09-07</td>\n",
       "      <td>2022</td>\n",
       "      <td>9</td>\n",
       "      <td>7</td>\n",
       "      <td>3</td>\n",
       "      <td>1265.077333</td>\n",
       "      <td>1297.086667</td>\n",
       "    </tr>\n",
       "    <tr>\n",
       "      <th>2022-09-08</th>\n",
       "      <td>1385.3</td>\n",
       "      <td>2022-09-08</td>\n",
       "      <td>2022</td>\n",
       "      <td>9</td>\n",
       "      <td>8</td>\n",
       "      <td>3</td>\n",
       "      <td>1266.296667</td>\n",
       "      <td>1298.374444</td>\n",
       "    </tr>\n",
       "    <tr>\n",
       "      <th>2022-09-13</th>\n",
       "      <td>1381.2</td>\n",
       "      <td>2022-09-13</td>\n",
       "      <td>2022</td>\n",
       "      <td>9</td>\n",
       "      <td>13</td>\n",
       "      <td>3</td>\n",
       "      <td>1267.466667</td>\n",
       "      <td>1299.661111</td>\n",
       "    </tr>\n",
       "    <tr>\n",
       "      <th>2022-09-14</th>\n",
       "      <td>1374.8</td>\n",
       "      <td>2022-09-14</td>\n",
       "      <td>2022</td>\n",
       "      <td>9</td>\n",
       "      <td>14</td>\n",
       "      <td>3</td>\n",
       "      <td>1268.596000</td>\n",
       "      <td>1300.872222</td>\n",
       "    </tr>\n",
       "  </tbody>\n",
       "</table>\n",
       "</div>"
      ],
      "text/plain": [
       "                환율         일자     연  월   일  분기        이평150         이평90\n",
       "날짜                                                                      \n",
       "2022-09-06  1369.7 2022-09-06  2022  9   6   3  1263.922000  1295.895556\n",
       "2022-09-07  1370.3 2022-09-07  2022  9   7   3  1265.077333  1297.086667\n",
       "2022-09-08  1385.3 2022-09-08  2022  9   8   3  1266.296667  1298.374444\n",
       "2022-09-13  1381.2 2022-09-13  2022  9  13   3  1267.466667  1299.661111\n",
       "2022-09-14  1374.8 2022-09-14  2022  9  14   3  1268.596000  1300.872222"
      ]
     },
     "execution_count": 21,
     "metadata": {},
     "output_type": "execute_result"
    }
   ],
   "source": [
    "#이평선 150, 90 값 저장하기.\n",
    "df['이평150'] = df['환율'].rolling(150).mean()\n",
    "df['이평90'] = df['환율'].rolling(90).mean()\n",
    "df.tail()"
   ]
  },
  {
   "cell_type": "code",
   "execution_count": 22,
   "metadata": {
    "colab": {
     "base_uri": "https://localhost:8080/",
     "height": 237
    },
    "execution": {
     "iopub.execute_input": "2022-12-11T18:50:10.420462Z",
     "iopub.status.busy": "2022-12-11T18:50:10.420462Z",
     "iopub.status.idle": "2022-12-11T18:50:10.449539Z",
     "shell.execute_reply": "2022-12-11T18:50:10.448368Z",
     "shell.execute_reply.started": "2022-12-11T18:50:10.420462Z"
    },
    "executionInfo": {
     "elapsed": 14,
     "status": "ok",
     "timestamp": 1663186866691,
     "user": {
      "displayName": "이혜진",
      "userId": "05706981884636951498"
     },
     "user_tz": -540
    },
    "id": "EBEVflAHN5lg",
    "outputId": "2a41b51b-c228-4070-bb08-ec8ed372bd09"
   },
   "outputs": [
    {
     "data": {
      "text/html": [
       "<div>\n",
       "<style scoped>\n",
       "    .dataframe tbody tr th:only-of-type {\n",
       "        vertical-align: middle;\n",
       "    }\n",
       "\n",
       "    .dataframe tbody tr th {\n",
       "        vertical-align: top;\n",
       "    }\n",
       "\n",
       "    .dataframe thead th {\n",
       "        text-align: right;\n",
       "    }\n",
       "</style>\n",
       "<table border=\"1\" class=\"dataframe\">\n",
       "  <thead>\n",
       "    <tr style=\"text-align: right;\">\n",
       "      <th></th>\n",
       "      <th>환율</th>\n",
       "      <th>일자</th>\n",
       "      <th>연</th>\n",
       "      <th>월</th>\n",
       "      <th>일</th>\n",
       "      <th>분기</th>\n",
       "      <th>이평150</th>\n",
       "      <th>이평90</th>\n",
       "    </tr>\n",
       "    <tr>\n",
       "      <th>날짜</th>\n",
       "      <th></th>\n",
       "      <th></th>\n",
       "      <th></th>\n",
       "      <th></th>\n",
       "      <th></th>\n",
       "      <th></th>\n",
       "      <th></th>\n",
       "      <th></th>\n",
       "    </tr>\n",
       "  </thead>\n",
       "  <tbody>\n",
       "    <tr>\n",
       "      <th>2007-01-02</th>\n",
       "      <td>929.6</td>\n",
       "      <td>2007-01-02</td>\n",
       "      <td>2007</td>\n",
       "      <td>1</td>\n",
       "      <td>2</td>\n",
       "      <td>1</td>\n",
       "      <td>947.923333</td>\n",
       "      <td>943.521111</td>\n",
       "    </tr>\n",
       "    <tr>\n",
       "      <th>2007-01-03</th>\n",
       "      <td>926.0</td>\n",
       "      <td>2007-01-03</td>\n",
       "      <td>2007</td>\n",
       "      <td>1</td>\n",
       "      <td>3</td>\n",
       "      <td>1</td>\n",
       "      <td>947.767333</td>\n",
       "      <td>943.177778</td>\n",
       "    </tr>\n",
       "    <tr>\n",
       "      <th>2007-01-04</th>\n",
       "      <td>926.1</td>\n",
       "      <td>2007-01-04</td>\n",
       "      <td>2007</td>\n",
       "      <td>1</td>\n",
       "      <td>4</td>\n",
       "      <td>1</td>\n",
       "      <td>947.613333</td>\n",
       "      <td>942.838889</td>\n",
       "    </tr>\n",
       "    <tr>\n",
       "      <th>2007-01-05</th>\n",
       "      <td>931.2</td>\n",
       "      <td>2007-01-05</td>\n",
       "      <td>2007</td>\n",
       "      <td>1</td>\n",
       "      <td>5</td>\n",
       "      <td>1</td>\n",
       "      <td>947.512667</td>\n",
       "      <td>942.538889</td>\n",
       "    </tr>\n",
       "    <tr>\n",
       "      <th>2007-01-08</th>\n",
       "      <td>932.6</td>\n",
       "      <td>2007-01-08</td>\n",
       "      <td>2007</td>\n",
       "      <td>1</td>\n",
       "      <td>8</td>\n",
       "      <td>1</td>\n",
       "      <td>947.414000</td>\n",
       "      <td>942.226667</td>\n",
       "    </tr>\n",
       "  </tbody>\n",
       "</table>\n",
       "</div>"
      ],
      "text/plain": [
       "               환율         일자     연  월  일  분기       이평150        이평90\n",
       "날짜                                                                  \n",
       "2007-01-02  929.6 2007-01-02  2007  1  2   1  947.923333  943.521111\n",
       "2007-01-03  926.0 2007-01-03  2007  1  3   1  947.767333  943.177778\n",
       "2007-01-04  926.1 2007-01-04  2007  1  4   1  947.613333  942.838889\n",
       "2007-01-05  931.2 2007-01-05  2007  1  5   1  947.512667  942.538889\n",
       "2007-01-08  932.6 2007-01-08  2007  1  8   1  947.414000  942.226667"
      ]
     },
     "execution_count": 22,
     "metadata": {},
     "output_type": "execute_result"
    }
   ],
   "source": [
    "#df2022 = df.loc['2022']\n",
    "#2007년 환율데이터부터 그래프로 살펴보도록 하겠다.\n",
    "df2022 = df.loc['2007':]\n",
    "df2022.head()"
   ]
  },
  {
   "cell_type": "code",
   "execution_count": 29,
   "metadata": {
    "execution": {
     "iopub.execute_input": "2022-12-11T18:54:57.266490Z",
     "iopub.status.busy": "2022-12-11T18:54:57.265372Z",
     "iopub.status.idle": "2022-12-11T18:54:57.292622Z",
     "shell.execute_reply": "2022-12-11T18:54:57.292124Z",
     "shell.execute_reply.started": "2022-12-11T18:54:57.266410Z"
    }
   },
   "outputs": [],
   "source": [
    "# 한글 폰트 사용을 위해서 세팅\n",
    "from matplotlib import font_manager\n",
    "import matplotlib.font_manager as fm\n",
    "font_path = \"C:/Windows/Fonts/NGULIM.TTF\"\n",
    "font = fm.FontProperties(fname=font_path).get_name()\n",
    "plt.rc('font', family=font_name)"
   ]
  },
  {
   "cell_type": "code",
   "execution_count": 26,
   "metadata": {
    "colab": {
     "base_uri": "https://localhost:8080/"
    },
    "execution": {
     "iopub.execute_input": "2022-12-11T18:51:25.479770Z",
     "iopub.status.busy": "2022-12-11T18:51:25.478770Z",
     "iopub.status.idle": "2022-12-11T18:51:25.642019Z",
     "shell.execute_reply": "2022-12-11T18:51:25.640898Z",
     "shell.execute_reply.started": "2022-12-11T18:51:25.479770Z"
    },
    "executionInfo": {
     "elapsed": 14,
     "status": "ok",
     "timestamp": 1663186866692,
     "user": {
      "displayName": "이혜진",
      "userId": "05706981884636951498"
     },
     "user_tz": -540
    },
    "id": "nekt7eEXuKdX",
    "outputId": "358445cd-9bb5-4d3e-dc4c-83c3dc1a2985",
    "tags": []
   },
   "outputs": [],
   "source": [
    "# import matplotlib.font_manager as fm  # 폰트 관련 용도\n",
    "\n",
    "# sys_font=fm.findSystemFonts()\n",
    "# path = '/usr/share/fonts/truetype/nanum/NanumGothic.ttf'  # 설치된 나눔글꼴중 원하는 녀석의 전체 경로를 가져오자\n",
    "# font_name = fm.FontProperties(fname=path, size=10).get_name()\n",
    "# plt.rc('font', family=font_name)"
   ]
  },
  {
   "cell_type": "code",
   "execution_count": 30,
   "metadata": {
    "colab": {
     "base_uri": "https://localhost:8080/",
     "height": 619
    },
    "execution": {
     "iopub.execute_input": "2022-12-11T18:55:00.590606Z",
     "iopub.status.busy": "2022-12-11T18:55:00.589484Z",
     "iopub.status.idle": "2022-12-11T18:55:00.957847Z",
     "shell.execute_reply": "2022-12-11T18:55:00.956545Z",
     "shell.execute_reply.started": "2022-12-11T18:55:00.590606Z"
    },
    "executionInfo": {
     "elapsed": 671,
     "status": "ok",
     "timestamp": 1663187547939,
     "user": {
      "displayName": "이혜진",
      "userId": "05706981884636951498"
     },
     "user_tz": -540
    },
    "id": "eqzKMI8thjq6",
    "outputId": "f724f6e3-c780-4afe-9d6f-677e7b838431",
    "tags": []
   },
   "outputs": [
    {
     "data": {
      "image/png": "[encoded data removed]",
      "text/plain": [
       "<Figure size 2000x1000 with 1 Axes>"
      ]
     },
     "metadata": {},
     "output_type": "display_data"
    }
   ],
   "source": [
    "fig = plt.figure(figsize=(20, 10))\n",
    "ax = fig.add_subplot(1, 1, 1)\n",
    "\n",
    "\n",
    "ax.plot(df2022.index, df2022['환율'], label='환율' , color='g')\n",
    "ax.plot(df2022.index, df2022['이평150'], label='이평150', color='r')\n",
    "ax.plot(df2022.index, df2022['이평90'], label='이평90', color='b')\n",
    "\n",
    "ax.set_xlabel(\"날짜\")\n",
    "ax.set_ylabel(\"원\")\n",
    "ax.set_title(\"환율과 이평\")\n",
    "\n",
    "\n",
    "#한글폰트 지정\n",
    "#plt.rc('font', family='NanumGothic')\n",
    "plt.legend(loc='best')\n",
    "plt.show()"
   ]
  },
  {
   "cell_type": "code",
   "execution_count": null,
   "metadata": {
    "id": "N27ZLVZTLefW"
   },
   "outputs": [],
   "source": []
  },
  {
   "cell_type": "code",
   "execution_count": null,
   "metadata": {
    "execution": {
     "iopub.status.busy": "2022-12-11T18:50:10.849572Z",
     "iopub.status.idle": "2022-12-11T18:50:10.849572Z",
     "shell.execute_reply": "2022-12-11T18:50:10.849572Z",
     "shell.execute_reply.started": "2022-12-11T18:50:10.849572Z"
    },
    "id": "tOIQLxgmhkTN"
   },
   "outputs": [],
   "source": [
    "# 데이타 샘플링, #Groupby 살펴보기 #이평값 검증"
   ]
  },
  {
   "cell_type": "code",
   "execution_count": null,
   "metadata": {
    "id": "ne7oMA3VhkpP"
   },
   "outputs": [],
   "source": []
  },
  {
   "cell_type": "code",
   "execution_count": null,
   "metadata": {
    "id": "LuqlvCy2hk_L"
   },
   "outputs": [],
   "source": []
  }
 ],
 "metadata": {
  "accelerator": "GPU",
  "colab": {
   "authorship_tag": "ABX9TyMd3R8RXY/PiIEcAtZJiyq7",
   "collapsed_sections": [],
   "mount_file_id": "1gxpzpivZSpj-VxyEzM8Ip66mIGzNBgwo",
   "provenance": [
    {
     "file_id": "1gxpzpivZSpj-VxyEzM8Ip66mIGzNBgwo",
     "timestamp": 1663185085212
    }
   ]
  },
  "gpuClass": "standard",
  "kernelspec": {
   "display_name": "Python 3 (ipykernel)",
   "language": "python",
   "name": "python3"
  },
  "language_info": {
   "codemirror_mode": {
    "name": "ipython",
    "version": 3
   },
   "file_extension": ".py",
   "mimetype": "text/x-python",
   "name": "python",
   "nbconvert_exporter": "python",
   "pygments_lexer": "ipython3",
   "version": "3.9.13"
  }
 },
 "nbformat": 4,
 "nbformat_minor": 4
}
