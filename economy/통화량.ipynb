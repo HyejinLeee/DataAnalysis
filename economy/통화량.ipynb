{
 "cells": [
  {
   "cell_type": "code",
   "execution_count": 1,
   "metadata": {
    "execution": {
     "iopub.execute_input": "2022-12-11T18:28:38.629150Z",
     "iopub.status.busy": "2022-12-11T18:28:38.628152Z",
     "iopub.status.idle": "2022-12-11T18:28:40.448219Z",
     "shell.execute_reply": "2022-12-11T18:28:40.447621Z",
     "shell.execute_reply.started": "2022-12-11T18:28:38.629150Z"
    },
    "executionInfo": {
     "elapsed": 14,
     "status": "ok",
     "timestamp": 1664572155093,
     "user": {
      "displayName": "이혜진",
      "userId": "05706981884636951498"
     },
     "user_tz": -540
    },
    "id": "G_FlhTg12g3A"
   },
   "outputs": [],
   "source": [
    "import pandas as pd\n",
    "import matplotlib.pyplot as plt"
   ]
  },
  {
   "cell_type": "code",
   "execution_count": 2,
   "metadata": {
    "execution": {
     "iopub.execute_input": "2022-12-11T18:28:40.452677Z",
     "iopub.status.busy": "2022-12-11T18:28:40.451677Z",
     "iopub.status.idle": "2022-12-11T18:28:40.464920Z",
     "shell.execute_reply": "2022-12-11T18:28:40.463386Z",
     "shell.execute_reply.started": "2022-12-11T18:28:40.452677Z"
    },
    "executionInfo": {
     "elapsed": 12,
     "status": "ok",
     "timestamp": 1664572155094,
     "user": {
      "displayName": "이혜진",
      "userId": "05706981884636951498"
     },
     "user_tz": -540
    },
    "id": "9Bg7_k3i3BFP"
   },
   "outputs": [],
   "source": [
    "#환율 매매기준율(기준환율)에 대한 정의 \n",
    "# https://korealtyusa.com/매매기준율/"
   ]
  },
  {
   "cell_type": "code",
   "execution_count": 3,
   "metadata": {
    "execution": {
     "iopub.execute_input": "2022-12-11T18:28:40.466342Z",
     "iopub.status.busy": "2022-12-11T18:28:40.466342Z",
     "iopub.status.idle": "2022-12-11T18:28:40.480318Z",
     "shell.execute_reply": "2022-12-11T18:28:40.478817Z",
     "shell.execute_reply.started": "2022-12-11T18:28:40.466342Z"
    },
    "executionInfo": {
     "elapsed": 11,
     "status": "ok",
     "timestamp": 1664572155095,
     "user": {
      "displayName": "이혜진",
      "userId": "05706981884636951498"
     },
     "user_tz": -540
    },
    "id": "0DzS3coy3ClU"
   },
   "outputs": [],
   "source": [
    "# 데이터 출처 : 한국은행 경제통계시스템 \n",
    "# https://ecos.bok.or.kr/#/SearchStat"
   ]
  },
  {
   "cell_type": "code",
   "execution_count": 4,
   "metadata": {
    "execution": {
     "iopub.execute_input": "2022-12-11T18:28:40.482241Z",
     "iopub.status.busy": "2022-12-11T18:28:40.481233Z",
     "iopub.status.idle": "2022-12-11T18:28:41.293713Z",
     "shell.execute_reply": "2022-12-11T18:28:41.292762Z",
     "shell.execute_reply.started": "2022-12-11T18:28:40.482241Z"
    },
    "executionInfo": {
     "elapsed": 2862,
     "status": "ok",
     "timestamp": 1664572157946,
     "user": {
      "displayName": "이혜진",
      "userId": "05706981884636951498"
     },
     "user_tz": -540
    },
    "id": "WHa9LuEZ3D1K"
   },
   "outputs": [],
   "source": [
    "df = pd.read_excel('data/Currency.xlsx', index_col=0)"
   ]
  },
  {
   "cell_type": "code",
   "execution_count": 5,
   "metadata": {
    "colab": {
     "base_uri": "https://localhost:8080/",
     "height": 237
    },
    "execution": {
     "iopub.execute_input": "2022-12-11T18:28:41.299605Z",
     "iopub.status.busy": "2022-12-11T18:28:41.299605Z",
     "iopub.status.idle": "2022-12-11T18:28:41.356437Z",
     "shell.execute_reply": "2022-12-11T18:28:41.354798Z",
     "shell.execute_reply.started": "2022-12-11T18:28:41.299605Z"
    },
    "executionInfo": {
     "elapsed": 43,
     "status": "ok",
     "timestamp": 1664572157947,
     "user": {
      "displayName": "이혜진",
      "userId": "05706981884636951498"
     },
     "user_tz": -540
    },
    "id": "G-xGYuoJ2vK0",
    "outputId": "747e3c91-30a2-4de6-b751-024da53d9d85"
   },
   "outputs": [
    {
     "data": {
      "text/html": [
       "<div>\n",
       "<style scoped>\n",
       "    .dataframe tbody tr th:only-of-type {\n",
       "        vertical-align: middle;\n",
       "    }\n",
       "\n",
       "    .dataframe tbody tr th {\n",
       "        vertical-align: top;\n",
       "    }\n",
       "\n",
       "    .dataframe thead th {\n",
       "        text-align: right;\n",
       "    }\n",
       "</style>\n",
       "<table border=\"1\" class=\"dataframe\">\n",
       "  <thead>\n",
       "    <tr style=\"text-align: right;\">\n",
       "      <th></th>\n",
       "      <th>M2(평잔, 원계열)</th>\n",
       "      <th>M2 (말잔,원계열)</th>\n",
       "      <th>M1 (평잔, 원계열)</th>\n",
       "      <th>M1 (말잔, 원계열)</th>\n",
       "    </tr>\n",
       "    <tr>\n",
       "      <th>항목명1</th>\n",
       "      <th></th>\n",
       "      <th></th>\n",
       "      <th></th>\n",
       "      <th></th>\n",
       "    </tr>\n",
       "  </thead>\n",
       "  <tbody>\n",
       "    <tr>\n",
       "      <th>2022/03</th>\n",
       "      <td>3672133.4</td>\n",
       "      <td>3652818.7</td>\n",
       "      <td>1370237.5</td>\n",
       "      <td>1381077.5</td>\n",
       "    </tr>\n",
       "    <tr>\n",
       "      <th>2022/04</th>\n",
       "      <td>3675828.7</td>\n",
       "      <td>3673715.3</td>\n",
       "      <td>1377050.8</td>\n",
       "      <td>1380658.0</td>\n",
       "    </tr>\n",
       "    <tr>\n",
       "      <th>2022/05</th>\n",
       "      <td>3694489.3</td>\n",
       "      <td>3699349.5</td>\n",
       "      <td>1374671.3</td>\n",
       "      <td>1386374.8</td>\n",
       "    </tr>\n",
       "    <tr>\n",
       "      <th>2022/06</th>\n",
       "      <td>3714135.0</td>\n",
       "      <td>3702913.2</td>\n",
       "      <td>1386071.5</td>\n",
       "      <td>1401276.6</td>\n",
       "    </tr>\n",
       "    <tr>\n",
       "      <th>2022/07</th>\n",
       "      <td>3720324.1</td>\n",
       "      <td>3718139.9</td>\n",
       "      <td>1366219.8</td>\n",
       "      <td>1344145.6</td>\n",
       "    </tr>\n",
       "  </tbody>\n",
       "</table>\n",
       "</div>"
      ],
      "text/plain": [
       "         M2(평잔, 원계열)  M2 (말잔,원계열)  M1 (평잔, 원계열)  M1 (말잔, 원계열)\n",
       "항목명1                                                         \n",
       "2022/03    3672133.4    3652818.7     1370237.5     1381077.5\n",
       "2022/04    3675828.7    3673715.3     1377050.8     1380658.0\n",
       "2022/05    3694489.3    3699349.5     1374671.3     1386374.8\n",
       "2022/06    3714135.0    3702913.2     1386071.5     1401276.6\n",
       "2022/07    3720324.1    3718139.9     1366219.8     1344145.6"
      ]
     },
     "execution_count": 5,
     "metadata": {},
     "output_type": "execute_result"
    }
   ],
   "source": [
    "df.tail()"
   ]
  },
  {
   "cell_type": "code",
   "execution_count": 6,
   "metadata": {
    "execution": {
     "iopub.execute_input": "2022-12-11T18:28:41.358497Z",
     "iopub.status.busy": "2022-12-11T18:28:41.357496Z",
     "iopub.status.idle": "2022-12-11T18:28:41.372894Z",
     "shell.execute_reply": "2022-12-11T18:28:41.370954Z",
     "shell.execute_reply.started": "2022-12-11T18:28:41.358497Z"
    },
    "executionInfo": {
     "elapsed": 38,
     "status": "ok",
     "timestamp": 1664572157948,
     "user": {
      "displayName": "이혜진",
      "userId": "05706981884636951498"
     },
     "user_tz": -540
    },
    "id": "JYjepdWx9wo_"
   },
   "outputs": [],
   "source": [
    "# 평잔 데이터를 볼 예정\n",
    "df_2 = df[['M1 (평잔, 원계열)', 'M2(평잔, 원계열)']]\n",
    "df_2.columns = ['M1', 'M2']"
   ]
  },
  {
   "cell_type": "code",
   "execution_count": 7,
   "metadata": {
    "colab": {
     "base_uri": "https://localhost:8080/",
     "height": 237
    },
    "execution": {
     "iopub.execute_input": "2022-12-11T18:28:41.373994Z",
     "iopub.status.busy": "2022-12-11T18:28:41.373994Z",
     "iopub.status.idle": "2022-12-11T18:28:41.388626Z",
     "shell.execute_reply": "2022-12-11T18:28:41.385656Z",
     "shell.execute_reply.started": "2022-12-11T18:28:41.373994Z"
    },
    "executionInfo": {
     "elapsed": 37,
     "status": "ok",
     "timestamp": 1664572157948,
     "user": {
      "displayName": "이혜진",
      "userId": "05706981884636951498"
     },
     "user_tz": -540
    },
    "id": "C5gs5FiR-DSM",
    "outputId": "3aeba313-9bcb-420e-879b-3d0be4fcd0a4"
   },
   "outputs": [
    {
     "data": {
      "text/html": [
       "<div>\n",
       "<style scoped>\n",
       "    .dataframe tbody tr th:only-of-type {\n",
       "        vertical-align: middle;\n",
       "    }\n",
       "\n",
       "    .dataframe tbody tr th {\n",
       "        vertical-align: top;\n",
       "    }\n",
       "\n",
       "    .dataframe thead th {\n",
       "        text-align: right;\n",
       "    }\n",
       "</style>\n",
       "<table border=\"1\" class=\"dataframe\">\n",
       "  <thead>\n",
       "    <tr style=\"text-align: right;\">\n",
       "      <th></th>\n",
       "      <th>M1</th>\n",
       "      <th>M2</th>\n",
       "    </tr>\n",
       "    <tr>\n",
       "      <th>항목명1</th>\n",
       "      <th></th>\n",
       "      <th></th>\n",
       "    </tr>\n",
       "  </thead>\n",
       "  <tbody>\n",
       "    <tr>\n",
       "      <th>2001/01</th>\n",
       "      <td>200074.9</td>\n",
       "      <td>711867.7</td>\n",
       "    </tr>\n",
       "    <tr>\n",
       "      <th>2001/02</th>\n",
       "      <td>201160.7</td>\n",
       "      <td>716583.9</td>\n",
       "    </tr>\n",
       "    <tr>\n",
       "      <th>2001/03</th>\n",
       "      <td>206680.3</td>\n",
       "      <td>717847.3</td>\n",
       "    </tr>\n",
       "    <tr>\n",
       "      <th>2001/04</th>\n",
       "      <td>204714.3</td>\n",
       "      <td>718780.3</td>\n",
       "    </tr>\n",
       "    <tr>\n",
       "      <th>2001/05</th>\n",
       "      <td>204840.0</td>\n",
       "      <td>723359.5</td>\n",
       "    </tr>\n",
       "  </tbody>\n",
       "</table>\n",
       "</div>"
      ],
      "text/plain": [
       "               M1        M2\n",
       "항목명1                       \n",
       "2001/01  200074.9  711867.7\n",
       "2001/02  201160.7  716583.9\n",
       "2001/03  206680.3  717847.3\n",
       "2001/04  204714.3  718780.3\n",
       "2001/05  204840.0  723359.5"
      ]
     },
     "execution_count": 7,
     "metadata": {},
     "output_type": "execute_result"
    }
   ],
   "source": [
    "df_2.head()"
   ]
  },
  {
   "cell_type": "code",
   "execution_count": 8,
   "metadata": {
    "execution": {
     "iopub.execute_input": "2022-12-11T18:28:41.394755Z",
     "iopub.status.busy": "2022-12-11T18:28:41.394255Z",
     "iopub.status.idle": "2022-12-11T18:28:41.416470Z",
     "shell.execute_reply": "2022-12-11T18:28:41.415971Z",
     "shell.execute_reply.started": "2022-12-11T18:28:41.394755Z"
    },
    "executionInfo": {
     "elapsed": 36,
     "status": "ok",
     "timestamp": 1664572157949,
     "user": {
      "displayName": "이혜진",
      "userId": "05706981884636951498"
     },
     "user_tz": -540
    },
    "id": "j-KA4lm-2v-g"
   },
   "outputs": [],
   "source": [
    "#index 를 datetime 형식으로 변경 (추후에 편한 정렬 및 loc 를 위해)\n",
    "df_2.index = pd.to_datetime(df_2.index)\n",
    "df_2 = df_2.sort_index()"
   ]
  },
  {
   "cell_type": "code",
   "execution_count": 9,
   "metadata": {
    "colab": {
     "base_uri": "https://localhost:8080/"
    },
    "execution": {
     "iopub.execute_input": "2022-12-11T18:28:41.423773Z",
     "iopub.status.busy": "2022-12-11T18:28:41.422143Z",
     "iopub.status.idle": "2022-12-11T18:28:41.447092Z",
     "shell.execute_reply": "2022-12-11T18:28:41.446595Z",
     "shell.execute_reply.started": "2022-12-11T18:28:41.423773Z"
    },
    "executionInfo": {
     "elapsed": 36,
     "status": "ok",
     "timestamp": 1664572157950,
     "user": {
      "displayName": "이혜진",
      "userId": "05706981884636951498"
     },
     "user_tz": -540
    },
    "id": "2xiW2Rrn2wZP",
    "outputId": "bc44342e-c9d0-4eb4-c5d2-53f97608f3a2"
   },
   "outputs": [
    {
     "data": {
      "text/plain": [
       "DatetimeIndex(['2001-01-01', '2001-02-01', '2001-03-01', '2001-04-01',\n",
       "               '2001-05-01', '2001-06-01', '2001-07-01', '2001-08-01',\n",
       "               '2001-09-01', '2001-10-01',\n",
       "               ...\n",
       "               '2021-10-01', '2021-11-01', '2021-12-01', '2022-01-01',\n",
       "               '2022-02-01', '2022-03-01', '2022-04-01', '2022-05-01',\n",
       "               '2022-06-01', '2022-07-01'],\n",
       "              dtype='datetime64[ns]', name='항목명1', length=259, freq=None)"
      ]
     },
     "execution_count": 9,
     "metadata": {},
     "output_type": "execute_result"
    }
   ],
   "source": [
    "df_2.index"
   ]
  },
  {
   "cell_type": "code",
   "execution_count": 10,
   "metadata": {
    "colab": {
     "base_uri": "https://localhost:8080/",
     "height": 237
    },
    "execution": {
     "iopub.execute_input": "2022-12-11T18:28:41.448527Z",
     "iopub.status.busy": "2022-12-11T18:28:41.448527Z",
     "iopub.status.idle": "2022-12-11T18:28:41.478854Z",
     "shell.execute_reply": "2022-12-11T18:28:41.476853Z",
     "shell.execute_reply.started": "2022-12-11T18:28:41.448527Z"
    },
    "executionInfo": {
     "elapsed": 31,
     "status": "ok",
     "timestamp": 1664572157951,
     "user": {
      "displayName": "이혜진",
      "userId": "05706981884636951498"
     },
     "user_tz": -540
    },
    "id": "uPaR9JMD3Hi5",
    "outputId": "cacc1271-b770-4a23-dd6b-548bb4d47eb0"
   },
   "outputs": [
    {
     "data": {
      "text/html": [
       "<div>\n",
       "<style scoped>\n",
       "    .dataframe tbody tr th:only-of-type {\n",
       "        vertical-align: middle;\n",
       "    }\n",
       "\n",
       "    .dataframe tbody tr th {\n",
       "        vertical-align: top;\n",
       "    }\n",
       "\n",
       "    .dataframe thead th {\n",
       "        text-align: right;\n",
       "    }\n",
       "</style>\n",
       "<table border=\"1\" class=\"dataframe\">\n",
       "  <thead>\n",
       "    <tr style=\"text-align: right;\">\n",
       "      <th></th>\n",
       "      <th>M1</th>\n",
       "      <th>M2</th>\n",
       "    </tr>\n",
       "    <tr>\n",
       "      <th>항목명1</th>\n",
       "      <th></th>\n",
       "      <th></th>\n",
       "    </tr>\n",
       "  </thead>\n",
       "  <tbody>\n",
       "    <tr>\n",
       "      <th>2001-01-01</th>\n",
       "      <td>200074.9</td>\n",
       "      <td>711867.7</td>\n",
       "    </tr>\n",
       "    <tr>\n",
       "      <th>2001-02-01</th>\n",
       "      <td>201160.7</td>\n",
       "      <td>716583.9</td>\n",
       "    </tr>\n",
       "    <tr>\n",
       "      <th>2001-03-01</th>\n",
       "      <td>206680.3</td>\n",
       "      <td>717847.3</td>\n",
       "    </tr>\n",
       "    <tr>\n",
       "      <th>2001-04-01</th>\n",
       "      <td>204714.3</td>\n",
       "      <td>718780.3</td>\n",
       "    </tr>\n",
       "    <tr>\n",
       "      <th>2001-05-01</th>\n",
       "      <td>204840.0</td>\n",
       "      <td>723359.5</td>\n",
       "    </tr>\n",
       "  </tbody>\n",
       "</table>\n",
       "</div>"
      ],
      "text/plain": [
       "                  M1        M2\n",
       "항목명1                          \n",
       "2001-01-01  200074.9  711867.7\n",
       "2001-02-01  201160.7  716583.9\n",
       "2001-03-01  206680.3  717847.3\n",
       "2001-04-01  204714.3  718780.3\n",
       "2001-05-01  204840.0  723359.5"
      ]
     },
     "execution_count": 10,
     "metadata": {},
     "output_type": "execute_result"
    }
   ],
   "source": [
    "df_2.head()"
   ]
  },
  {
   "cell_type": "code",
   "execution_count": 11,
   "metadata": {
    "execution": {
     "iopub.execute_input": "2022-12-11T18:28:41.482457Z",
     "iopub.status.busy": "2022-12-11T18:28:41.481958Z",
     "iopub.status.idle": "2022-12-11T18:28:41.509175Z",
     "shell.execute_reply": "2022-12-11T18:28:41.508031Z",
     "shell.execute_reply.started": "2022-12-11T18:28:41.482457Z"
    },
    "executionInfo": {
     "elapsed": 28,
     "status": "ok",
     "timestamp": 1664572157952,
     "user": {
      "displayName": "이혜진",
      "userId": "05706981884636951498"
     },
     "user_tz": -540
    },
    "id": "Q4Gj9KST6CuP"
   },
   "outputs": [],
   "source": [
    "# 연도, 월, 일, 분기를 따로 저장\n",
    "df_2['일자'] = df_2.index"
   ]
  },
  {
   "cell_type": "code",
   "execution_count": 12,
   "metadata": {
    "execution": {
     "iopub.execute_input": "2022-12-11T18:28:41.510693Z",
     "iopub.status.busy": "2022-12-11T18:28:41.509674Z",
     "iopub.status.idle": "2022-12-11T18:28:41.524959Z",
     "shell.execute_reply": "2022-12-11T18:28:41.523960Z",
     "shell.execute_reply.started": "2022-12-11T18:28:41.510693Z"
    },
    "executionInfo": {
     "elapsed": 28,
     "status": "ok",
     "timestamp": 1664572157953,
     "user": {
      "displayName": "이혜진",
      "userId": "05706981884636951498"
     },
     "user_tz": -540
    },
    "id": "LLtwKVPM6DeK"
   },
   "outputs": [],
   "source": [
    "df_2['연'] = df_2['일자'].dt.year\n",
    "df_2['월'] = df_2['일자'].dt.month\n",
    "df_2['분기'] = df_2['일자'].dt.quarter"
   ]
  },
  {
   "cell_type": "code",
   "execution_count": 13,
   "metadata": {
    "colab": {
     "base_uri": "https://localhost:8080/",
     "height": 237
    },
    "execution": {
     "iopub.execute_input": "2022-12-11T18:28:41.526822Z",
     "iopub.status.busy": "2022-12-11T18:28:41.526323Z",
     "iopub.status.idle": "2022-12-11T18:28:41.571381Z",
     "shell.execute_reply": "2022-12-11T18:28:41.570181Z",
     "shell.execute_reply.started": "2022-12-11T18:28:41.526822Z"
    },
    "executionInfo": {
     "elapsed": 27,
     "status": "ok",
     "timestamp": 1664572157953,
     "user": {
      "displayName": "이혜진",
      "userId": "05706981884636951498"
     },
     "user_tz": -540
    },
    "id": "7zPPnThs6Dxb",
    "outputId": "d7ed7391-8655-4425-a2d0-231f039a1706"
   },
   "outputs": [
    {
     "data": {
      "text/html": [
       "<div>\n",
       "<style scoped>\n",
       "    .dataframe tbody tr th:only-of-type {\n",
       "        vertical-align: middle;\n",
       "    }\n",
       "\n",
       "    .dataframe tbody tr th {\n",
       "        vertical-align: top;\n",
       "    }\n",
       "\n",
       "    .dataframe thead th {\n",
       "        text-align: right;\n",
       "    }\n",
       "</style>\n",
       "<table border=\"1\" class=\"dataframe\">\n",
       "  <thead>\n",
       "    <tr style=\"text-align: right;\">\n",
       "      <th></th>\n",
       "      <th>M1</th>\n",
       "      <th>M2</th>\n",
       "      <th>일자</th>\n",
       "      <th>연</th>\n",
       "      <th>월</th>\n",
       "      <th>분기</th>\n",
       "    </tr>\n",
       "    <tr>\n",
       "      <th>항목명1</th>\n",
       "      <th></th>\n",
       "      <th></th>\n",
       "      <th></th>\n",
       "      <th></th>\n",
       "      <th></th>\n",
       "      <th></th>\n",
       "    </tr>\n",
       "  </thead>\n",
       "  <tbody>\n",
       "    <tr>\n",
       "      <th>2001-01-01</th>\n",
       "      <td>200074.9</td>\n",
       "      <td>711867.7</td>\n",
       "      <td>2001-01-01</td>\n",
       "      <td>2001</td>\n",
       "      <td>1</td>\n",
       "      <td>1</td>\n",
       "    </tr>\n",
       "    <tr>\n",
       "      <th>2001-02-01</th>\n",
       "      <td>201160.7</td>\n",
       "      <td>716583.9</td>\n",
       "      <td>2001-02-01</td>\n",
       "      <td>2001</td>\n",
       "      <td>2</td>\n",
       "      <td>1</td>\n",
       "    </tr>\n",
       "    <tr>\n",
       "      <th>2001-03-01</th>\n",
       "      <td>206680.3</td>\n",
       "      <td>717847.3</td>\n",
       "      <td>2001-03-01</td>\n",
       "      <td>2001</td>\n",
       "      <td>3</td>\n",
       "      <td>1</td>\n",
       "    </tr>\n",
       "    <tr>\n",
       "      <th>2001-04-01</th>\n",
       "      <td>204714.3</td>\n",
       "      <td>718780.3</td>\n",
       "      <td>2001-04-01</td>\n",
       "      <td>2001</td>\n",
       "      <td>4</td>\n",
       "      <td>2</td>\n",
       "    </tr>\n",
       "    <tr>\n",
       "      <th>2001-05-01</th>\n",
       "      <td>204840.0</td>\n",
       "      <td>723359.5</td>\n",
       "      <td>2001-05-01</td>\n",
       "      <td>2001</td>\n",
       "      <td>5</td>\n",
       "      <td>2</td>\n",
       "    </tr>\n",
       "  </tbody>\n",
       "</table>\n",
       "</div>"
      ],
      "text/plain": [
       "                  M1        M2         일자     연  월  분기\n",
       "항목명1                                                  \n",
       "2001-01-01  200074.9  711867.7 2001-01-01  2001  1   1\n",
       "2001-02-01  201160.7  716583.9 2001-02-01  2001  2   1\n",
       "2001-03-01  206680.3  717847.3 2001-03-01  2001  3   1\n",
       "2001-04-01  204714.3  718780.3 2001-04-01  2001  4   2\n",
       "2001-05-01  204840.0  723359.5 2001-05-01  2001  5   2"
      ]
     },
     "execution_count": 13,
     "metadata": {},
     "output_type": "execute_result"
    }
   ],
   "source": [
    "df_2.head()"
   ]
  },
  {
   "cell_type": "code",
   "execution_count": 14,
   "metadata": {
    "colab": {
     "base_uri": "https://localhost:8080/"
    },
    "execution": {
     "iopub.execute_input": "2022-12-11T18:28:41.575877Z",
     "iopub.status.busy": "2022-12-11T18:28:41.575877Z",
     "iopub.status.idle": "2022-12-11T18:28:41.617051Z",
     "shell.execute_reply": "2022-12-11T18:28:41.616052Z",
     "shell.execute_reply.started": "2022-12-11T18:28:41.575877Z"
    },
    "executionInfo": {
     "elapsed": 25,
     "status": "ok",
     "timestamp": 1664572157954,
     "user": {
      "displayName": "이혜진",
      "userId": "05706981884636951498"
     },
     "user_tz": -540
    },
    "id": "kF6p4y9fRZU4",
    "outputId": "8e40bca7-a53b-4c51-870b-a7c5beb7e1e3"
   },
   "outputs": [
    {
     "name": "stdout",
     "output_type": "stream",
     "text": [
      "<class 'pandas.core.frame.DataFrame'>\n",
      "DatetimeIndex: 259 entries, 2001-01-01 to 2022-07-01\n",
      "Data columns (total 6 columns):\n",
      " #   Column  Non-Null Count  Dtype         \n",
      "---  ------  --------------  -----         \n",
      " 0   M1      259 non-null    float64       \n",
      " 1   M2      259 non-null    float64       \n",
      " 2   일자      259 non-null    datetime64[ns]\n",
      " 3   연       259 non-null    int64         \n",
      " 4   월       259 non-null    int64         \n",
      " 5   분기      259 non-null    int64         \n",
      "dtypes: datetime64[ns](1), float64(2), int64(3)\n",
      "memory usage: 14.2 KB\n"
     ]
    }
   ],
   "source": [
    "df_2.info()"
   ]
  },
  {
   "cell_type": "markdown",
   "metadata": {
    "id": "YBnNDeuwRo8m"
   },
   "source": []
  },
  {
   "cell_type": "code",
   "execution_count": 15,
   "metadata": {
    "colab": {
     "base_uri": "https://localhost:8080/",
     "height": 621
    },
    "execution": {
     "iopub.execute_input": "2022-12-11T18:28:41.619366Z",
     "iopub.status.busy": "2022-12-11T18:28:41.618207Z",
     "iopub.status.idle": "2022-12-11T18:28:42.060557Z",
     "shell.execute_reply": "2022-12-11T18:28:42.060013Z",
     "shell.execute_reply.started": "2022-12-11T18:28:41.619366Z"
    },
    "executionInfo": {
     "elapsed": 1566,
     "status": "ok",
     "timestamp": 1664572159499,
     "user": {
      "displayName": "이혜진",
      "userId": "05706981884636951498"
     },
     "user_tz": -540
    },
    "id": "eqzKMI8thjq6",
    "outputId": "c8c334df-fcca-4827-b3dd-78c2561c17dc"
   },
   "outputs": [
    {
     "data": {
      "image/png": "[encoded data removed]",
      "text/plain": [
       "<Figure size 2000x1000 with 1 Axes>"
      ]
     },
     "metadata": {},
     "output_type": "display_data"
    }
   ],
   "source": [
    "fig = plt.figure(figsize=(20, 10))\n",
    "ax = fig.add_subplot(1, 1, 1)\n",
    "\n",
    "\n",
    "ax.plot(df_2.index, df_2['M1'], label='M1' , color='g')\n",
    "ax.plot(df_2.index, df_2['M2'], label='M2', color='r')\n",
    "\n",
    "\n",
    "ax.set_xlabel(\"year\")\n",
    "ax.set_ylabel(\"billion\")\n",
    "ax.set_title(\"Currency M1 M2\")\n",
    "\n",
    "\n",
    "#한글폰트 지정\n",
    "#plt.rc('font', family='NanumGothic')\n",
    "plt.legend(loc='best')\n",
    "plt.show()"
   ]
  },
  {
   "cell_type": "code",
   "execution_count": 16,
   "metadata": {
    "execution": {
     "iopub.execute_input": "2022-12-11T18:28:42.062585Z",
     "iopub.status.busy": "2022-12-11T18:28:42.061576Z",
     "iopub.status.idle": "2022-12-11T18:28:42.081961Z",
     "shell.execute_reply": "2022-12-11T18:28:42.078852Z",
     "shell.execute_reply.started": "2022-12-11T18:28:42.062585Z"
    },
    "executionInfo": {
     "elapsed": 40,
     "status": "ok",
     "timestamp": 1664572159500,
     "user": {
      "displayName": "이혜진",
      "userId": "05706981884636951498"
     },
     "user_tz": -540
    },
    "id": "N27ZLVZTLefW"
   },
   "outputs": [],
   "source": [
    "df_2['전년동월M1'] = df_2['M1'].shift(12)\n",
    "df_2['전년동월M2'] = df_2['M2'].shift(12)"
   ]
  },
  {
   "cell_type": "code",
   "execution_count": 17,
   "metadata": {
    "execution": {
     "iopub.execute_input": "2022-12-11T18:28:42.086723Z",
     "iopub.status.busy": "2022-12-11T18:28:42.085539Z",
     "iopub.status.idle": "2022-12-11T18:28:42.111227Z",
     "shell.execute_reply": "2022-12-11T18:28:42.109841Z",
     "shell.execute_reply.started": "2022-12-11T18:28:42.086723Z"
    },
    "executionInfo": {
     "elapsed": 39,
     "status": "ok",
     "timestamp": 1664572159501,
     "user": {
      "displayName": "이혜진",
      "userId": "05706981884636951498"
     },
     "user_tz": -540
    },
    "id": "tOIQLxgmhkTN"
   },
   "outputs": [],
   "source": [
    "#전년 동월의 통화량이 높은 것이 있는지 확인해보았다.\n",
    "df_comp = df_2[(df_2['전년동월M1'] > df_2['M1'])  ]"
   ]
  },
  {
   "cell_type": "code",
   "execution_count": 18,
   "metadata": {
    "colab": {
     "base_uri": "https://localhost:8080/"
    },
    "execution": {
     "iopub.execute_input": "2022-12-11T18:28:42.113234Z",
     "iopub.status.busy": "2022-12-11T18:28:42.112233Z",
     "iopub.status.idle": "2022-12-11T18:28:42.142226Z",
     "shell.execute_reply": "2022-12-11T18:28:42.141204Z",
     "shell.execute_reply.started": "2022-12-11T18:28:42.113234Z"
    },
    "executionInfo": {
     "elapsed": 40,
     "status": "ok",
     "timestamp": 1664572159502,
     "user": {
      "displayName": "이혜진",
      "userId": "05706981884636951498"
     },
     "user_tz": -540
    },
    "id": "ne7oMA3VhkpP",
    "outputId": "ad53b036-91cc-4b04-ff9f-e2cbed8a7192"
   },
   "outputs": [
    {
     "name": "stdout",
     "output_type": "stream",
     "text": [
      "<class 'pandas.core.frame.DataFrame'>\n",
      "DatetimeIndex: 24 entries, 2005-11-01 to 2008-04-01\n",
      "Data columns (total 8 columns):\n",
      " #   Column  Non-Null Count  Dtype         \n",
      "---  ------  --------------  -----         \n",
      " 0   M1      24 non-null     float64       \n",
      " 1   M2      24 non-null     float64       \n",
      " 2   일자      24 non-null     datetime64[ns]\n",
      " 3   연       24 non-null     int64         \n",
      " 4   월       24 non-null     int64         \n",
      " 5   분기      24 non-null     int64         \n",
      " 6   전년동월M1  24 non-null     float64       \n",
      " 7   전년동월M2  24 non-null     float64       \n",
      "dtypes: datetime64[ns](1), float64(4), int64(3)\n",
      "memory usage: 1.7 KB\n"
     ]
    }
   ],
   "source": [
    "df_comp.info()\n",
    "#아래와 같이 총 24개 월이 있었다. M2 확인 결과, 전년 동월이 높은 경우는 없었음. "
   ]
  },
  {
   "cell_type": "code",
   "execution_count": 19,
   "metadata": {
    "execution": {
     "iopub.execute_input": "2022-12-11T18:28:42.143688Z",
     "iopub.status.busy": "2022-12-11T18:28:42.143688Z",
     "iopub.status.idle": "2022-12-11T18:28:42.158833Z",
     "shell.execute_reply": "2022-12-11T18:28:42.156288Z",
     "shell.execute_reply.started": "2022-12-11T18:28:42.143688Z"
    },
    "executionInfo": {
     "elapsed": 35,
     "status": "ok",
     "timestamp": 1664572159503,
     "user": {
      "displayName": "이혜진",
      "userId": "05706981884636951498"
     },
     "user_tz": -540
    },
    "id": "9s97dLOjgnIY"
   },
   "outputs": [],
   "source": [
    "df_2['전년동월M1증감율'] = ( (df_2['M1'] - df_2['전년동월M1'] ) / df_2['전년동월M1'] ) *100\n",
    "df_2['전년동월M2증감율'] = ( (df_2['M2'] - df_2['전년동월M2'] ) / df_2['전년동월M2'] ) *100"
   ]
  },
  {
   "cell_type": "code",
   "execution_count": 20,
   "metadata": {
    "colab": {
     "base_uri": "https://localhost:8080/",
     "height": 237
    },
    "execution": {
     "iopub.execute_input": "2022-12-11T18:28:42.162331Z",
     "iopub.status.busy": "2022-12-11T18:28:42.161337Z",
     "iopub.status.idle": "2022-12-11T18:28:42.204190Z",
     "shell.execute_reply": "2022-12-11T18:28:42.203199Z",
     "shell.execute_reply.started": "2022-12-11T18:28:42.162331Z"
    },
    "executionInfo": {
     "elapsed": 35,
     "status": "ok",
     "timestamp": 1664572159504,
     "user": {
      "displayName": "이혜진",
      "userId": "05706981884636951498"
     },
     "user_tz": -540
    },
    "id": "J99tyJEzibt9",
    "outputId": "74abc3b8-4758-4e60-f722-d5d8024d7adc"
   },
   "outputs": [
    {
     "data": {
      "text/html": [
       "<div>\n",
       "<style scoped>\n",
       "    .dataframe tbody tr th:only-of-type {\n",
       "        vertical-align: middle;\n",
       "    }\n",
       "\n",
       "    .dataframe tbody tr th {\n",
       "        vertical-align: top;\n",
       "    }\n",
       "\n",
       "    .dataframe thead th {\n",
       "        text-align: right;\n",
       "    }\n",
       "</style>\n",
       "<table border=\"1\" class=\"dataframe\">\n",
       "  <thead>\n",
       "    <tr style=\"text-align: right;\">\n",
       "      <th></th>\n",
       "      <th>M1</th>\n",
       "      <th>M2</th>\n",
       "      <th>일자</th>\n",
       "      <th>연</th>\n",
       "      <th>월</th>\n",
       "      <th>분기</th>\n",
       "      <th>전년동월M1</th>\n",
       "      <th>전년동월M2</th>\n",
       "      <th>전년동월M1증감율</th>\n",
       "      <th>전년동월M2증감율</th>\n",
       "    </tr>\n",
       "    <tr>\n",
       "      <th>항목명1</th>\n",
       "      <th></th>\n",
       "      <th></th>\n",
       "      <th></th>\n",
       "      <th></th>\n",
       "      <th></th>\n",
       "      <th></th>\n",
       "      <th></th>\n",
       "      <th></th>\n",
       "      <th></th>\n",
       "      <th></th>\n",
       "    </tr>\n",
       "  </thead>\n",
       "  <tbody>\n",
       "    <tr>\n",
       "      <th>2022-03-01</th>\n",
       "      <td>1370237.5</td>\n",
       "      <td>3672133.4</td>\n",
       "      <td>2022-03-01</td>\n",
       "      <td>2022</td>\n",
       "      <td>3</td>\n",
       "      <td>1</td>\n",
       "      <td>1231321.1</td>\n",
       "      <td>3313182.2</td>\n",
       "      <td>11.281899</td>\n",
       "      <td>10.834031</td>\n",
       "    </tr>\n",
       "    <tr>\n",
       "      <th>2022-04-01</th>\n",
       "      <td>1377050.8</td>\n",
       "      <td>3675828.7</td>\n",
       "      <td>2022-04-01</td>\n",
       "      <td>2022</td>\n",
       "      <td>4</td>\n",
       "      <td>2</td>\n",
       "      <td>1257170.1</td>\n",
       "      <td>3358874.9</td>\n",
       "      <td>9.535758</td>\n",
       "      <td>9.436309</td>\n",
       "    </tr>\n",
       "    <tr>\n",
       "      <th>2022-05-01</th>\n",
       "      <td>1374671.3</td>\n",
       "      <td>3694489.3</td>\n",
       "      <td>2022-05-01</td>\n",
       "      <td>2022</td>\n",
       "      <td>5</td>\n",
       "      <td>2</td>\n",
       "      <td>1264219.8</td>\n",
       "      <td>3379753.9</td>\n",
       "      <td>8.736732</td>\n",
       "      <td>9.312376</td>\n",
       "    </tr>\n",
       "    <tr>\n",
       "      <th>2022-06-01</th>\n",
       "      <td>1386071.5</td>\n",
       "      <td>3714135.0</td>\n",
       "      <td>2022-06-01</td>\n",
       "      <td>2022</td>\n",
       "      <td>6</td>\n",
       "      <td>2</td>\n",
       "      <td>1285488.7</td>\n",
       "      <td>3413899.8</td>\n",
       "      <td>7.824480</td>\n",
       "      <td>8.794494</td>\n",
       "    </tr>\n",
       "    <tr>\n",
       "      <th>2022-07-01</th>\n",
       "      <td>1366219.8</td>\n",
       "      <td>3720324.1</td>\n",
       "      <td>2022-07-01</td>\n",
       "      <td>2022</td>\n",
       "      <td>7</td>\n",
       "      <td>3</td>\n",
       "      <td>1296969.0</td>\n",
       "      <td>3445243.0</td>\n",
       "      <td>5.339434</td>\n",
       "      <td>7.984374</td>\n",
       "    </tr>\n",
       "  </tbody>\n",
       "</table>\n",
       "</div>"
      ],
      "text/plain": [
       "                   M1         M2         일자     연  월  분기     전년동월M1  \\\n",
       "항목명1                                                                  \n",
       "2022-03-01  1370237.5  3672133.4 2022-03-01  2022  3   1  1231321.1   \n",
       "2022-04-01  1377050.8  3675828.7 2022-04-01  2022  4   2  1257170.1   \n",
       "2022-05-01  1374671.3  3694489.3 2022-05-01  2022  5   2  1264219.8   \n",
       "2022-06-01  1386071.5  3714135.0 2022-06-01  2022  6   2  1285488.7   \n",
       "2022-07-01  1366219.8  3720324.1 2022-07-01  2022  7   3  1296969.0   \n",
       "\n",
       "               전년동월M2  전년동월M1증감율  전년동월M2증감율  \n",
       "항목명1                                         \n",
       "2022-03-01  3313182.2  11.281899  10.834031  \n",
       "2022-04-01  3358874.9   9.535758   9.436309  \n",
       "2022-05-01  3379753.9   8.736732   9.312376  \n",
       "2022-06-01  3413899.8   7.824480   8.794494  \n",
       "2022-07-01  3445243.0   5.339434   7.984374  "
      ]
     },
     "execution_count": 20,
     "metadata": {},
     "output_type": "execute_result"
    }
   ],
   "source": [
    "df_2.tail()"
   ]
  },
  {
   "cell_type": "code",
   "execution_count": 21,
   "metadata": {
    "colab": {
     "base_uri": "https://localhost:8080/",
     "height": 621
    },
    "execution": {
     "iopub.execute_input": "2022-12-11T18:28:42.206560Z",
     "iopub.status.busy": "2022-12-11T18:28:42.206560Z",
     "iopub.status.idle": "2022-12-11T18:28:42.476102Z",
     "shell.execute_reply": "2022-12-11T18:28:42.475715Z",
     "shell.execute_reply.started": "2022-12-11T18:28:42.206560Z"
    },
    "executionInfo": {
     "elapsed": 1493,
     "status": "ok",
     "timestamp": 1664572588917,
     "user": {
      "displayName": "이혜진",
      "userId": "05706981884636951498"
     },
     "user_tz": -540
    },
    "id": "Oe-00mWgidtM",
    "outputId": "f1054d91-772e-4f77-9ebc-69bbd1d7526c"
   },
   "outputs": [
    {
     "data": {
      "image/png": "[encoded data removed]",
      "text/plain": [
       "<Figure size 2000x1000 with 1 Axes>"
      ]
     },
     "metadata": {},
     "output_type": "display_data"
    }
   ],
   "source": [
    "fig = plt.figure(figsize=(20, 10))\n",
    "ax = fig.add_subplot(1, 1, 1)\n",
    "\n",
    "\n",
    "ax.plot(df_2.index, df_2['전년동월M1증감율'], label='M1' , color='g')\n",
    "ax.plot(df_2.index, df_2['전년동월M2증감율'], label='M2', color='r')\n",
    "\n",
    "\n",
    "ax.set_xlabel(\"year\")\n",
    "ax.set_ylabel(\"inc/dec %\")\n",
    "ax.set_title(\"Currency inc/dec % M1 M2\")\n",
    "\n",
    "ax.axhline(0, 0,1, color='lightgray', linestyle='solid', linewidth=3)\n",
    "\n",
    "\n",
    "#한글폰트 지정\n",
    "#plt.rc('font', family='NanumGothic')\n",
    "plt.legend(loc='best')\n",
    "plt.show()"
   ]
  },
  {
   "cell_type": "code",
   "execution_count": 23,
   "metadata": {
    "execution": {
     "iopub.execute_input": "2022-12-11T18:29:35.378321Z",
     "iopub.status.busy": "2022-12-11T18:29:35.378321Z",
     "iopub.status.idle": "2022-12-11T18:29:35.462544Z",
     "shell.execute_reply": "2022-12-11T18:29:35.460904Z",
     "shell.execute_reply.started": "2022-12-11T18:29:35.378321Z"
    },
    "executionInfo": {
     "elapsed": 1578,
     "status": "ok",
     "timestamp": 1664572161056,
     "user": {
      "displayName": "이혜진",
      "userId": "05706981884636951498"
     },
     "user_tz": -540
    },
    "id": "ICPl5qQ9keEX",
    "tags": []
   },
   "outputs": [],
   "source": [
    "df_by = pd.read_excel('data/M2 경제주체별 보유현황(평잔, 원계열).xlsx', skiprows=1 , index_col=0)"
   ]
  },
  {
   "cell_type": "code",
   "execution_count": 24,
   "metadata": {
    "colab": {
     "base_uri": "https://localhost:8080/",
     "height": 237
    },
    "execution": {
     "iopub.execute_input": "2022-12-11T18:29:53.553332Z",
     "iopub.status.busy": "2022-12-11T18:29:53.552333Z",
     "iopub.status.idle": "2022-12-11T18:29:53.577607Z",
     "shell.execute_reply": "2022-12-11T18:29:53.576049Z",
     "shell.execute_reply.started": "2022-12-11T18:29:53.553332Z"
    },
    "executionInfo": {
     "elapsed": 66,
     "status": "ok",
     "timestamp": 1664572161058,
     "user": {
      "displayName": "이혜진",
      "userId": "05706981884636951498"
     },
     "user_tz": -540
    },
    "id": "yuYA1c0Lc7Ti",
    "outputId": "5a1e69a0-ddec-4e44-c24d-87169a5b08a8",
    "tags": []
   },
   "outputs": [
    {
     "data": {
      "text/html": [
       "<div>\n",
       "<style scoped>\n",
       "    .dataframe tbody tr th:only-of-type {\n",
       "        vertical-align: middle;\n",
       "    }\n",
       "\n",
       "    .dataframe tbody tr th {\n",
       "        vertical-align: top;\n",
       "    }\n",
       "\n",
       "    .dataframe thead th {\n",
       "        text-align: right;\n",
       "    }\n",
       "</style>\n",
       "<table border=\"1\" class=\"dataframe\">\n",
       "  <thead>\n",
       "    <tr style=\"text-align: right;\">\n",
       "      <th></th>\n",
       "      <th>M2(평잔, 원계열)</th>\n",
       "      <th>가계 및 비영리단체 1)</th>\n",
       "      <th>기업 2)</th>\n",
       "      <th>기타금융기관 3)</th>\n",
       "      <th>기타부문 4)</th>\n",
       "    </tr>\n",
       "    <tr>\n",
       "      <th>계정항목</th>\n",
       "      <th></th>\n",
       "      <th></th>\n",
       "      <th></th>\n",
       "      <th></th>\n",
       "      <th></th>\n",
       "    </tr>\n",
       "  </thead>\n",
       "  <tbody>\n",
       "    <tr>\n",
       "      <th>2001/12</th>\n",
       "      <td>767051.1</td>\n",
       "      <td>468715.2</td>\n",
       "      <td>186504.1</td>\n",
       "      <td>65745.3</td>\n",
       "      <td>46086.5</td>\n",
       "    </tr>\n",
       "    <tr>\n",
       "      <th>2002/01</th>\n",
       "      <td>772614.7</td>\n",
       "      <td>475372.5</td>\n",
       "      <td>187174.9</td>\n",
       "      <td>65289.4</td>\n",
       "      <td>44778.0</td>\n",
       "    </tr>\n",
       "    <tr>\n",
       "      <th>2002/02</th>\n",
       "      <td>779654.9</td>\n",
       "      <td>486739.1</td>\n",
       "      <td>179673.4</td>\n",
       "      <td>68997.4</td>\n",
       "      <td>44245.0</td>\n",
       "    </tr>\n",
       "    <tr>\n",
       "      <th>2002/03</th>\n",
       "      <td>797428.3</td>\n",
       "      <td>483559.6</td>\n",
       "      <td>192732.1</td>\n",
       "      <td>74111.5</td>\n",
       "      <td>47025.0</td>\n",
       "    </tr>\n",
       "    <tr>\n",
       "      <th>2002/04</th>\n",
       "      <td>806857.1</td>\n",
       "      <td>490482.0</td>\n",
       "      <td>194034.9</td>\n",
       "      <td>73675.8</td>\n",
       "      <td>48664.4</td>\n",
       "    </tr>\n",
       "  </tbody>\n",
       "</table>\n",
       "</div>"
      ],
      "text/plain": [
       "         M2(평잔, 원계열)    가계 및 비영리단체 1)     기업 2)    기타금융기관 3)    기타부문 4)\n",
       "계정항목                                                                   \n",
       "2001/12     767051.1         468715.2  186504.1      65745.3    46086.5\n",
       "2002/01     772614.7         475372.5  187174.9      65289.4    44778.0\n",
       "2002/02     779654.9         486739.1  179673.4      68997.4    44245.0\n",
       "2002/03     797428.3         483559.6  192732.1      74111.5    47025.0\n",
       "2002/04     806857.1         490482.0  194034.9      73675.8    48664.4"
      ]
     },
     "execution_count": 24,
     "metadata": {},
     "output_type": "execute_result"
    }
   ],
   "source": [
    "df_by.head()"
   ]
  },
  {
   "cell_type": "code",
   "execution_count": 25,
   "metadata": {
    "execution": {
     "iopub.execute_input": "2022-12-11T18:29:54.264840Z",
     "iopub.status.busy": "2022-12-11T18:29:54.264127Z",
     "iopub.status.idle": "2022-12-11T18:29:54.281276Z",
     "shell.execute_reply": "2022-12-11T18:29:54.278986Z",
     "shell.execute_reply.started": "2022-12-11T18:29:54.264720Z"
    },
    "executionInfo": {
     "elapsed": 64,
     "status": "ok",
     "timestamp": 1664572161059,
     "user": {
      "displayName": "이혜진",
      "userId": "05706981884636951498"
     },
     "user_tz": -540
    },
    "id": "G21qQkK8c8yn",
    "tags": []
   },
   "outputs": [],
   "source": [
    "df_by.columns = ['M2(평잔, 원계열)', '가계/비영리단체', '기업', '기타금융기관', '기타']"
   ]
  },
  {
   "cell_type": "code",
   "execution_count": 26,
   "metadata": {
    "colab": {
     "base_uri": "https://localhost:8080/",
     "height": 237
    },
    "execution": {
     "iopub.execute_input": "2022-12-11T18:29:54.729815Z",
     "iopub.status.busy": "2022-12-11T18:29:54.728820Z",
     "iopub.status.idle": "2022-12-11T18:29:54.755564Z",
     "shell.execute_reply": "2022-12-11T18:29:54.754673Z",
     "shell.execute_reply.started": "2022-12-11T18:29:54.729815Z"
    },
    "executionInfo": {
     "elapsed": 64,
     "status": "ok",
     "timestamp": 1664572161060,
     "user": {
      "displayName": "이혜진",
      "userId": "05706981884636951498"
     },
     "user_tz": -540
    },
    "id": "F4n-B6BydoyM",
    "outputId": "86b371c6-caba-4663-bf20-7279c43e55d6",
    "tags": []
   },
   "outputs": [
    {
     "data": {
      "text/html": [
       "<div>\n",
       "<style scoped>\n",
       "    .dataframe tbody tr th:only-of-type {\n",
       "        vertical-align: middle;\n",
       "    }\n",
       "\n",
       "    .dataframe tbody tr th {\n",
       "        vertical-align: top;\n",
       "    }\n",
       "\n",
       "    .dataframe thead th {\n",
       "        text-align: right;\n",
       "    }\n",
       "</style>\n",
       "<table border=\"1\" class=\"dataframe\">\n",
       "  <thead>\n",
       "    <tr style=\"text-align: right;\">\n",
       "      <th></th>\n",
       "      <th>M2(평잔, 원계열)</th>\n",
       "      <th>가계/비영리단체</th>\n",
       "      <th>기업</th>\n",
       "      <th>기타금융기관</th>\n",
       "      <th>기타</th>\n",
       "    </tr>\n",
       "    <tr>\n",
       "      <th>계정항목</th>\n",
       "      <th></th>\n",
       "      <th></th>\n",
       "      <th></th>\n",
       "      <th></th>\n",
       "      <th></th>\n",
       "    </tr>\n",
       "  </thead>\n",
       "  <tbody>\n",
       "    <tr>\n",
       "      <th>2001/12</th>\n",
       "      <td>767051.1</td>\n",
       "      <td>468715.2</td>\n",
       "      <td>186504.1</td>\n",
       "      <td>65745.3</td>\n",
       "      <td>46086.5</td>\n",
       "    </tr>\n",
       "    <tr>\n",
       "      <th>2002/01</th>\n",
       "      <td>772614.7</td>\n",
       "      <td>475372.5</td>\n",
       "      <td>187174.9</td>\n",
       "      <td>65289.4</td>\n",
       "      <td>44778.0</td>\n",
       "    </tr>\n",
       "    <tr>\n",
       "      <th>2002/02</th>\n",
       "      <td>779654.9</td>\n",
       "      <td>486739.1</td>\n",
       "      <td>179673.4</td>\n",
       "      <td>68997.4</td>\n",
       "      <td>44245.0</td>\n",
       "    </tr>\n",
       "    <tr>\n",
       "      <th>2002/03</th>\n",
       "      <td>797428.3</td>\n",
       "      <td>483559.6</td>\n",
       "      <td>192732.1</td>\n",
       "      <td>74111.5</td>\n",
       "      <td>47025.0</td>\n",
       "    </tr>\n",
       "    <tr>\n",
       "      <th>2002/04</th>\n",
       "      <td>806857.1</td>\n",
       "      <td>490482.0</td>\n",
       "      <td>194034.9</td>\n",
       "      <td>73675.8</td>\n",
       "      <td>48664.4</td>\n",
       "    </tr>\n",
       "  </tbody>\n",
       "</table>\n",
       "</div>"
      ],
      "text/plain": [
       "         M2(평잔, 원계열)  가계/비영리단체        기업   기타금융기관       기타\n",
       "계정항목                                                      \n",
       "2001/12     767051.1  468715.2  186504.1  65745.3  46086.5\n",
       "2002/01     772614.7  475372.5  187174.9  65289.4  44778.0\n",
       "2002/02     779654.9  486739.1  179673.4  68997.4  44245.0\n",
       "2002/03     797428.3  483559.6  192732.1  74111.5  47025.0\n",
       "2002/04     806857.1  490482.0  194034.9  73675.8  48664.4"
      ]
     },
     "execution_count": 26,
     "metadata": {},
     "output_type": "execute_result"
    }
   ],
   "source": [
    "df_by.head()"
   ]
  },
  {
   "cell_type": "code",
   "execution_count": 27,
   "metadata": {
    "colab": {
     "base_uri": "https://localhost:8080/"
    },
    "execution": {
     "iopub.execute_input": "2022-12-11T18:29:55.197671Z",
     "iopub.status.busy": "2022-12-11T18:29:55.196577Z",
     "iopub.status.idle": "2022-12-11T18:29:55.214258Z",
     "shell.execute_reply": "2022-12-11T18:29:55.212704Z",
     "shell.execute_reply.started": "2022-12-11T18:29:55.197671Z"
    },
    "executionInfo": {
     "elapsed": 65,
     "status": "ok",
     "timestamp": 1664572161062,
     "user": {
      "displayName": "이혜진",
      "userId": "05706981884636951498"
     },
     "user_tz": -540
    },
    "id": "1Sk9LOObdqRd",
    "outputId": "a79843ff-2edb-455a-bcff-e5619bba5325",
    "tags": []
   },
   "outputs": [
    {
     "name": "stdout",
     "output_type": "stream",
     "text": [
      "<class 'pandas.core.frame.DataFrame'>\n",
      "Index: 248 entries, 2001/12 to 2022/07\n",
      "Data columns (total 5 columns):\n",
      " #   Column       Non-Null Count  Dtype  \n",
      "---  ------       --------------  -----  \n",
      " 0   M2(평잔, 원계열)  248 non-null    float64\n",
      " 1   가계/비영리단체     248 non-null    float64\n",
      " 2   기업           248 non-null    float64\n",
      " 3   기타금융기관       248 non-null    float64\n",
      " 4   기타           248 non-null    float64\n",
      "dtypes: float64(5)\n",
      "memory usage: 11.6+ KB\n"
     ]
    }
   ],
   "source": [
    "df_by.info()"
   ]
  },
  {
   "cell_type": "code",
   "execution_count": 28,
   "metadata": {
    "execution": {
     "iopub.execute_input": "2022-12-11T18:29:55.591357Z",
     "iopub.status.busy": "2022-12-11T18:29:55.590424Z",
     "iopub.status.idle": "2022-12-11T18:29:55.608865Z",
     "shell.execute_reply": "2022-12-11T18:29:55.608282Z",
     "shell.execute_reply.started": "2022-12-11T18:29:55.591357Z"
    },
    "executionInfo": {
     "elapsed": 60,
     "status": "ok",
     "timestamp": 1664572161062,
     "user": {
      "displayName": "이혜진",
      "userId": "05706981884636951498"
     },
     "user_tz": -540
    },
    "id": "-zfoWUi_d2RE",
    "tags": []
   },
   "outputs": [],
   "source": [
    "df_by.index = pd.to_datetime(df_by.index)\n",
    "df_by = df_by.sort_index()"
   ]
  },
  {
   "cell_type": "code",
   "execution_count": 29,
   "metadata": {
    "colab": {
     "base_uri": "https://localhost:8080/"
    },
    "execution": {
     "iopub.execute_input": "2022-12-11T18:29:55.957700Z",
     "iopub.status.busy": "2022-12-11T18:29:55.956606Z",
     "iopub.status.idle": "2022-12-11T18:29:55.973708Z",
     "shell.execute_reply": "2022-12-11T18:29:55.972680Z",
     "shell.execute_reply.started": "2022-12-11T18:29:55.957700Z"
    },
    "executionInfo": {
     "elapsed": 60,
     "status": "ok",
     "timestamp": 1664572161063,
     "user": {
      "displayName": "이혜진",
      "userId": "05706981884636951498"
     },
     "user_tz": -540
    },
    "id": "uiOiSEOseFHA",
    "outputId": "50fc9fa8-11ba-4c4c-9634-4ebf25f8e4ee",
    "tags": []
   },
   "outputs": [
    {
     "data": {
      "text/plain": [
       "pandas.core.indexes.datetimes.DatetimeIndex"
      ]
     },
     "execution_count": 29,
     "metadata": {},
     "output_type": "execute_result"
    }
   ],
   "source": [
    "type(df_by.index)"
   ]
  },
  {
   "cell_type": "code",
   "execution_count": 30,
   "metadata": {
    "execution": {
     "iopub.execute_input": "2022-12-11T18:29:56.215752Z",
     "iopub.status.busy": "2022-12-11T18:29:56.214755Z",
     "iopub.status.idle": "2022-12-11T18:29:56.234255Z",
     "shell.execute_reply": "2022-12-11T18:29:56.233253Z",
     "shell.execute_reply.started": "2022-12-11T18:29:56.215752Z"
    },
    "executionInfo": {
     "elapsed": 57,
     "status": "ok",
     "timestamp": 1664572161064,
     "user": {
      "displayName": "이혜진",
      "userId": "05706981884636951498"
     },
     "user_tz": -540
    },
    "id": "6tLFI7y0eLYg",
    "tags": []
   },
   "outputs": [],
   "source": [
    "df_by['년월'] = df_by.index"
   ]
  },
  {
   "cell_type": "code",
   "execution_count": 31,
   "metadata": {
    "colab": {
     "base_uri": "https://localhost:8080/",
     "height": 237
    },
    "execution": {
     "iopub.execute_input": "2022-12-11T18:29:56.439692Z",
     "iopub.status.busy": "2022-12-11T18:29:56.438690Z",
     "iopub.status.idle": "2022-12-11T18:29:56.478671Z",
     "shell.execute_reply": "2022-12-11T18:29:56.477046Z",
     "shell.execute_reply.started": "2022-12-11T18:29:56.439692Z"
    },
    "executionInfo": {
     "elapsed": 57,
     "status": "ok",
     "timestamp": 1664572161065,
     "user": {
      "displayName": "이혜진",
      "userId": "05706981884636951498"
     },
     "user_tz": -540
    },
    "id": "InqPGOF1fVim",
    "outputId": "e4768c7a-1871-4c5f-9c38-520765b8835a",
    "tags": []
   },
   "outputs": [
    {
     "data": {
      "text/html": [
       "<div>\n",
       "<style scoped>\n",
       "    .dataframe tbody tr th:only-of-type {\n",
       "        vertical-align: middle;\n",
       "    }\n",
       "\n",
       "    .dataframe tbody tr th {\n",
       "        vertical-align: top;\n",
       "    }\n",
       "\n",
       "    .dataframe thead th {\n",
       "        text-align: right;\n",
       "    }\n",
       "</style>\n",
       "<table border=\"1\" class=\"dataframe\">\n",
       "  <thead>\n",
       "    <tr style=\"text-align: right;\">\n",
       "      <th></th>\n",
       "      <th>M2(평잔, 원계열)</th>\n",
       "      <th>가계/비영리단체</th>\n",
       "      <th>기업</th>\n",
       "      <th>기타금융기관</th>\n",
       "      <th>기타</th>\n",
       "      <th>년월</th>\n",
       "    </tr>\n",
       "    <tr>\n",
       "      <th>계정항목</th>\n",
       "      <th></th>\n",
       "      <th></th>\n",
       "      <th></th>\n",
       "      <th></th>\n",
       "      <th></th>\n",
       "      <th></th>\n",
       "    </tr>\n",
       "  </thead>\n",
       "  <tbody>\n",
       "    <tr>\n",
       "      <th>2001-12-01</th>\n",
       "      <td>767051.1</td>\n",
       "      <td>468715.2</td>\n",
       "      <td>186504.1</td>\n",
       "      <td>65745.3</td>\n",
       "      <td>46086.5</td>\n",
       "      <td>2001-12-01</td>\n",
       "    </tr>\n",
       "    <tr>\n",
       "      <th>2002-01-01</th>\n",
       "      <td>772614.7</td>\n",
       "      <td>475372.5</td>\n",
       "      <td>187174.9</td>\n",
       "      <td>65289.4</td>\n",
       "      <td>44778.0</td>\n",
       "      <td>2002-01-01</td>\n",
       "    </tr>\n",
       "    <tr>\n",
       "      <th>2002-02-01</th>\n",
       "      <td>779654.9</td>\n",
       "      <td>486739.1</td>\n",
       "      <td>179673.4</td>\n",
       "      <td>68997.4</td>\n",
       "      <td>44245.0</td>\n",
       "      <td>2002-02-01</td>\n",
       "    </tr>\n",
       "    <tr>\n",
       "      <th>2002-03-01</th>\n",
       "      <td>797428.3</td>\n",
       "      <td>483559.6</td>\n",
       "      <td>192732.1</td>\n",
       "      <td>74111.5</td>\n",
       "      <td>47025.0</td>\n",
       "      <td>2002-03-01</td>\n",
       "    </tr>\n",
       "    <tr>\n",
       "      <th>2002-04-01</th>\n",
       "      <td>806857.1</td>\n",
       "      <td>490482.0</td>\n",
       "      <td>194034.9</td>\n",
       "      <td>73675.8</td>\n",
       "      <td>48664.4</td>\n",
       "      <td>2002-04-01</td>\n",
       "    </tr>\n",
       "  </tbody>\n",
       "</table>\n",
       "</div>"
      ],
      "text/plain": [
       "            M2(평잔, 원계열)  가계/비영리단체        기업   기타금융기관       기타         년월\n",
       "계정항목                                                                    \n",
       "2001-12-01     767051.1  468715.2  186504.1  65745.3  46086.5 2001-12-01\n",
       "2002-01-01     772614.7  475372.5  187174.9  65289.4  44778.0 2002-01-01\n",
       "2002-02-01     779654.9  486739.1  179673.4  68997.4  44245.0 2002-02-01\n",
       "2002-03-01     797428.3  483559.6  192732.1  74111.5  47025.0 2002-03-01\n",
       "2002-04-01     806857.1  490482.0  194034.9  73675.8  48664.4 2002-04-01"
      ]
     },
     "execution_count": 31,
     "metadata": {},
     "output_type": "execute_result"
    }
   ],
   "source": [
    "df_by.head()"
   ]
  },
  {
   "cell_type": "code",
   "execution_count": 32,
   "metadata": {
    "execution": {
     "iopub.execute_input": "2022-12-11T18:29:56.638238Z",
     "iopub.status.busy": "2022-12-11T18:29:56.637198Z",
     "iopub.status.idle": "2022-12-11T18:29:56.662734Z",
     "shell.execute_reply": "2022-12-11T18:29:56.661161Z",
     "shell.execute_reply.started": "2022-12-11T18:29:56.638238Z"
    },
    "executionInfo": {
     "elapsed": 56,
     "status": "ok",
     "timestamp": 1664572161066,
     "user": {
      "displayName": "이혜진",
      "userId": "05706981884636951498"
     },
     "user_tz": -540
    },
    "id": "QlWxH7TDfXHt",
    "tags": []
   },
   "outputs": [],
   "source": [
    "df_by['연'] = df_by['년월'].dt.year\n",
    "df_by['월'] = df_by['년월'].dt.month\n",
    "df_by['분기'] = df_by['년월'].dt.quarter"
   ]
  },
  {
   "cell_type": "code",
   "execution_count": 33,
   "metadata": {
    "colab": {
     "base_uri": "https://localhost:8080/"
    },
    "execution": {
     "iopub.execute_input": "2022-12-11T18:29:56.857680Z",
     "iopub.status.busy": "2022-12-11T18:29:56.857680Z",
     "iopub.status.idle": "2022-12-11T18:29:56.891267Z",
     "shell.execute_reply": "2022-12-11T18:29:56.890268Z",
     "shell.execute_reply.started": "2022-12-11T18:29:56.857680Z"
    },
    "executionInfo": {
     "elapsed": 57,
     "status": "ok",
     "timestamp": 1664572161068,
     "user": {
      "displayName": "이혜진",
      "userId": "05706981884636951498"
     },
     "user_tz": -540
    },
    "id": "Uqc_-DlRggL2",
    "outputId": "58e8fa92-e2bd-41ca-b4d3-173751ed1a07",
    "tags": []
   },
   "outputs": [
    {
     "name": "stdout",
     "output_type": "stream",
     "text": [
      "<class 'pandas.core.frame.DataFrame'>\n",
      "DatetimeIndex: 248 entries, 2001-12-01 to 2022-07-01\n",
      "Data columns (total 9 columns):\n",
      " #   Column       Non-Null Count  Dtype         \n",
      "---  ------       --------------  -----         \n",
      " 0   M2(평잔, 원계열)  248 non-null    float64       \n",
      " 1   가계/비영리단체     248 non-null    float64       \n",
      " 2   기업           248 non-null    float64       \n",
      " 3   기타금융기관       248 non-null    float64       \n",
      " 4   기타           248 non-null    float64       \n",
      " 5   년월           248 non-null    datetime64[ns]\n",
      " 6   연            248 non-null    int64         \n",
      " 7   월            248 non-null    int64         \n",
      " 8   분기           248 non-null    int64         \n",
      "dtypes: datetime64[ns](1), float64(5), int64(3)\n",
      "memory usage: 19.4 KB\n"
     ]
    }
   ],
   "source": [
    "df_by.info()"
   ]
  },
  {
   "cell_type": "markdown",
   "metadata": {
    "id": "I42U_xFSjj2f"
   },
   "source": []
  },
  {
   "cell_type": "code",
   "execution_count": 34,
   "metadata": {
    "colab": {
     "base_uri": "https://localhost:8080/",
     "height": 394
    },
    "execution": {
     "iopub.execute_input": "2022-12-11T18:29:57.807083Z",
     "iopub.status.busy": "2022-12-11T18:29:57.806086Z",
     "iopub.status.idle": "2022-12-11T18:29:57.840436Z",
     "shell.execute_reply": "2022-12-11T18:29:57.838312Z",
     "shell.execute_reply.started": "2022-12-11T18:29:57.807083Z"
    },
    "executionInfo": {
     "elapsed": 53,
     "status": "ok",
     "timestamp": 1664572161068,
     "user": {
      "displayName": "이혜진",
      "userId": "05706981884636951498"
     },
     "user_tz": -540
    },
    "id": "7JY9dKZpjUqU",
    "outputId": "724a4f95-2c84-4adc-f904-2258aa940b1a",
    "tags": []
   },
   "outputs": [
    {
     "data": {
      "text/html": [
       "<div>\n",
       "<style scoped>\n",
       "    .dataframe tbody tr th:only-of-type {\n",
       "        vertical-align: middle;\n",
       "    }\n",
       "\n",
       "    .dataframe tbody tr th {\n",
       "        vertical-align: top;\n",
       "    }\n",
       "\n",
       "    .dataframe thead th {\n",
       "        text-align: right;\n",
       "    }\n",
       "</style>\n",
       "<table border=\"1\" class=\"dataframe\">\n",
       "  <thead>\n",
       "    <tr style=\"text-align: right;\">\n",
       "      <th></th>\n",
       "      <th>M2(평잔, 원계열)</th>\n",
       "      <th>가계/비영리단체</th>\n",
       "      <th>기업</th>\n",
       "      <th>기타금융기관</th>\n",
       "      <th>기타</th>\n",
       "      <th>년월</th>\n",
       "      <th>연</th>\n",
       "      <th>월</th>\n",
       "      <th>분기</th>\n",
       "    </tr>\n",
       "    <tr>\n",
       "      <th>계정항목</th>\n",
       "      <th></th>\n",
       "      <th></th>\n",
       "      <th></th>\n",
       "      <th></th>\n",
       "      <th></th>\n",
       "      <th></th>\n",
       "      <th></th>\n",
       "      <th></th>\n",
       "      <th></th>\n",
       "    </tr>\n",
       "  </thead>\n",
       "  <tbody>\n",
       "    <tr>\n",
       "      <th>2001-12-01</th>\n",
       "      <td>767051.1</td>\n",
       "      <td>468715.2</td>\n",
       "      <td>186504.1</td>\n",
       "      <td>65745.3</td>\n",
       "      <td>46086.5</td>\n",
       "      <td>2001-12-01</td>\n",
       "      <td>2001</td>\n",
       "      <td>12</td>\n",
       "      <td>4</td>\n",
       "    </tr>\n",
       "    <tr>\n",
       "      <th>2002-01-01</th>\n",
       "      <td>772614.7</td>\n",
       "      <td>475372.5</td>\n",
       "      <td>187174.9</td>\n",
       "      <td>65289.4</td>\n",
       "      <td>44778.0</td>\n",
       "      <td>2002-01-01</td>\n",
       "      <td>2002</td>\n",
       "      <td>1</td>\n",
       "      <td>1</td>\n",
       "    </tr>\n",
       "    <tr>\n",
       "      <th>2002-02-01</th>\n",
       "      <td>779654.9</td>\n",
       "      <td>486739.1</td>\n",
       "      <td>179673.4</td>\n",
       "      <td>68997.4</td>\n",
       "      <td>44245.0</td>\n",
       "      <td>2002-02-01</td>\n",
       "      <td>2002</td>\n",
       "      <td>2</td>\n",
       "      <td>1</td>\n",
       "    </tr>\n",
       "    <tr>\n",
       "      <th>2002-03-01</th>\n",
       "      <td>797428.3</td>\n",
       "      <td>483559.6</td>\n",
       "      <td>192732.1</td>\n",
       "      <td>74111.5</td>\n",
       "      <td>47025.0</td>\n",
       "      <td>2002-03-01</td>\n",
       "      <td>2002</td>\n",
       "      <td>3</td>\n",
       "      <td>1</td>\n",
       "    </tr>\n",
       "    <tr>\n",
       "      <th>2002-04-01</th>\n",
       "      <td>806857.1</td>\n",
       "      <td>490482.0</td>\n",
       "      <td>194034.9</td>\n",
       "      <td>73675.8</td>\n",
       "      <td>48664.4</td>\n",
       "      <td>2002-04-01</td>\n",
       "      <td>2002</td>\n",
       "      <td>4</td>\n",
       "      <td>2</td>\n",
       "    </tr>\n",
       "    <tr>\n",
       "      <th>2002-05-01</th>\n",
       "      <td>812805.7</td>\n",
       "      <td>488802.4</td>\n",
       "      <td>194827.5</td>\n",
       "      <td>77922.7</td>\n",
       "      <td>51253.0</td>\n",
       "      <td>2002-05-01</td>\n",
       "      <td>2002</td>\n",
       "      <td>5</td>\n",
       "      <td>2</td>\n",
       "    </tr>\n",
       "    <tr>\n",
       "      <th>2002-06-01</th>\n",
       "      <td>822108.1</td>\n",
       "      <td>491900.3</td>\n",
       "      <td>195413.7</td>\n",
       "      <td>79384.0</td>\n",
       "      <td>55410.0</td>\n",
       "      <td>2002-06-01</td>\n",
       "      <td>2002</td>\n",
       "      <td>6</td>\n",
       "      <td>2</td>\n",
       "    </tr>\n",
       "    <tr>\n",
       "      <th>2002-07-01</th>\n",
       "      <td>827976.7</td>\n",
       "      <td>494945.5</td>\n",
       "      <td>198579.6</td>\n",
       "      <td>78310.7</td>\n",
       "      <td>56140.9</td>\n",
       "      <td>2002-07-01</td>\n",
       "      <td>2002</td>\n",
       "      <td>7</td>\n",
       "      <td>3</td>\n",
       "    </tr>\n",
       "    <tr>\n",
       "      <th>2002-08-01</th>\n",
       "      <td>831521.4</td>\n",
       "      <td>499379.4</td>\n",
       "      <td>197772.3</td>\n",
       "      <td>77399.3</td>\n",
       "      <td>56970.4</td>\n",
       "      <td>2002-08-01</td>\n",
       "      <td>2002</td>\n",
       "      <td>8</td>\n",
       "      <td>3</td>\n",
       "    </tr>\n",
       "    <tr>\n",
       "      <th>2002-09-01</th>\n",
       "      <td>842512.0</td>\n",
       "      <td>507380.3</td>\n",
       "      <td>200518.2</td>\n",
       "      <td>78216.5</td>\n",
       "      <td>56397.1</td>\n",
       "      <td>2002-09-01</td>\n",
       "      <td>2002</td>\n",
       "      <td>9</td>\n",
       "      <td>3</td>\n",
       "    </tr>\n",
       "  </tbody>\n",
       "</table>\n",
       "</div>"
      ],
      "text/plain": [
       "            M2(평잔, 원계열)  가계/비영리단체        기업   기타금융기관       기타         년월  \\\n",
       "계정항목                                                                       \n",
       "2001-12-01     767051.1  468715.2  186504.1  65745.3  46086.5 2001-12-01   \n",
       "2002-01-01     772614.7  475372.5  187174.9  65289.4  44778.0 2002-01-01   \n",
       "2002-02-01     779654.9  486739.1  179673.4  68997.4  44245.0 2002-02-01   \n",
       "2002-03-01     797428.3  483559.6  192732.1  74111.5  47025.0 2002-03-01   \n",
       "2002-04-01     806857.1  490482.0  194034.9  73675.8  48664.4 2002-04-01   \n",
       "2002-05-01     812805.7  488802.4  194827.5  77922.7  51253.0 2002-05-01   \n",
       "2002-06-01     822108.1  491900.3  195413.7  79384.0  55410.0 2002-06-01   \n",
       "2002-07-01     827976.7  494945.5  198579.6  78310.7  56140.9 2002-07-01   \n",
       "2002-08-01     831521.4  499379.4  197772.3  77399.3  56970.4 2002-08-01   \n",
       "2002-09-01     842512.0  507380.3  200518.2  78216.5  56397.1 2002-09-01   \n",
       "\n",
       "               연   월  분기  \n",
       "계정항목                      \n",
       "2001-12-01  2001  12   4  \n",
       "2002-01-01  2002   1   1  \n",
       "2002-02-01  2002   2   1  \n",
       "2002-03-01  2002   3   1  \n",
       "2002-04-01  2002   4   2  \n",
       "2002-05-01  2002   5   2  \n",
       "2002-06-01  2002   6   2  \n",
       "2002-07-01  2002   7   3  \n",
       "2002-08-01  2002   8   3  \n",
       "2002-09-01  2002   9   3  "
      ]
     },
     "execution_count": 34,
     "metadata": {},
     "output_type": "execute_result"
    }
   ],
   "source": [
    "df_by.head(10)"
   ]
  },
  {
   "cell_type": "code",
   "execution_count": 35,
   "metadata": {
    "execution": {
     "iopub.execute_input": "2022-12-11T18:29:58.051031Z",
     "iopub.status.busy": "2022-12-11T18:29:58.051031Z",
     "iopub.status.idle": "2022-12-11T18:29:58.069092Z",
     "shell.execute_reply": "2022-12-11T18:29:58.067074Z",
     "shell.execute_reply.started": "2022-12-11T18:29:58.051031Z"
    },
    "executionInfo": {
     "elapsed": 55,
     "status": "ok",
     "timestamp": 1664572161072,
     "user": {
      "displayName": "이혜진",
      "userId": "05706981884636951498"
     },
     "user_tz": -540
    },
    "id": "Z32FTp41LJDf",
    "tags": []
   },
   "outputs": [],
   "source": [
    "df_by['전년동월M2(가계/비영리단체)'] = df_by['가계/비영리단체'].shift(12)\n",
    "df_by['전년동월M2(기업)'] = df_by['기업'].shift(12)"
   ]
  },
  {
   "cell_type": "code",
   "execution_count": 36,
   "metadata": {
    "execution": {
     "iopub.execute_input": "2022-12-11T18:29:58.279590Z",
     "iopub.status.busy": "2022-12-11T18:29:58.279590Z",
     "iopub.status.idle": "2022-12-11T18:29:58.299811Z",
     "shell.execute_reply": "2022-12-11T18:29:58.298045Z",
     "shell.execute_reply.started": "2022-12-11T18:29:58.279590Z"
    },
    "executionInfo": {
     "elapsed": 56,
     "status": "ok",
     "timestamp": 1664572161073,
     "user": {
      "displayName": "이혜진",
      "userId": "05706981884636951498"
     },
     "user_tz": -540
    },
    "id": "rn1vuXfOLH-r",
    "tags": []
   },
   "outputs": [],
   "source": [
    "df_by['전년동월M2증감율(가계/비영리단체)'] =  (df_by['가계/비영리단체'] - df_by['전년동월M2(가계/비영리단체)']) / df_by['전년동월M2(가계/비영리단체)'] * 100\n",
    "df_by['전년동월M2증감율(기업)'] =  (df_by['기업'] - df_by['전년동월M2(기업)']) / df_by['전년동월M2(기업)'] * 100"
   ]
  },
  {
   "cell_type": "code",
   "execution_count": 37,
   "metadata": {
    "colab": {
     "base_uri": "https://localhost:8080/",
     "height": 386
    },
    "execution": {
     "iopub.execute_input": "2022-12-11T18:29:58.492160Z",
     "iopub.status.busy": "2022-12-11T18:29:58.492160Z",
     "iopub.status.idle": "2022-12-11T18:29:58.528067Z",
     "shell.execute_reply": "2022-12-11T18:29:58.527069Z",
     "shell.execute_reply.started": "2022-12-11T18:29:58.492160Z"
    },
    "executionInfo": {
     "elapsed": 57,
     "status": "ok",
     "timestamp": 1664572161075,
     "user": {
      "displayName": "이혜진",
      "userId": "05706981884636951498"
     },
     "user_tz": -540
    },
    "id": "ub8Hf0DBLHjP",
    "outputId": "0625ecb1-7c54-47e3-d923-ff4fd3662338",
    "tags": []
   },
   "outputs": [
    {
     "data": {
      "text/html": [
       "<div>\n",
       "<style scoped>\n",
       "    .dataframe tbody tr th:only-of-type {\n",
       "        vertical-align: middle;\n",
       "    }\n",
       "\n",
       "    .dataframe tbody tr th {\n",
       "        vertical-align: top;\n",
       "    }\n",
       "\n",
       "    .dataframe thead th {\n",
       "        text-align: right;\n",
       "    }\n",
       "</style>\n",
       "<table border=\"1\" class=\"dataframe\">\n",
       "  <thead>\n",
       "    <tr style=\"text-align: right;\">\n",
       "      <th></th>\n",
       "      <th>M2(평잔, 원계열)</th>\n",
       "      <th>가계/비영리단체</th>\n",
       "      <th>기업</th>\n",
       "      <th>기타금융기관</th>\n",
       "      <th>기타</th>\n",
       "      <th>년월</th>\n",
       "      <th>연</th>\n",
       "      <th>월</th>\n",
       "      <th>분기</th>\n",
       "      <th>전년동월M2(가계/비영리단체)</th>\n",
       "      <th>전년동월M2(기업)</th>\n",
       "      <th>전년동월M2증감율(가계/비영리단체)</th>\n",
       "      <th>전년동월M2증감율(기업)</th>\n",
       "    </tr>\n",
       "    <tr>\n",
       "      <th>계정항목</th>\n",
       "      <th></th>\n",
       "      <th></th>\n",
       "      <th></th>\n",
       "      <th></th>\n",
       "      <th></th>\n",
       "      <th></th>\n",
       "      <th></th>\n",
       "      <th></th>\n",
       "      <th></th>\n",
       "      <th></th>\n",
       "      <th></th>\n",
       "      <th></th>\n",
       "      <th></th>\n",
       "    </tr>\n",
       "  </thead>\n",
       "  <tbody>\n",
       "    <tr>\n",
       "      <th>2001-12-01</th>\n",
       "      <td>767051.1</td>\n",
       "      <td>468715.2</td>\n",
       "      <td>186504.1</td>\n",
       "      <td>65745.3</td>\n",
       "      <td>46086.5</td>\n",
       "      <td>2001-12-01</td>\n",
       "      <td>2001</td>\n",
       "      <td>12</td>\n",
       "      <td>4</td>\n",
       "      <td>NaN</td>\n",
       "      <td>NaN</td>\n",
       "      <td>NaN</td>\n",
       "      <td>NaN</td>\n",
       "    </tr>\n",
       "    <tr>\n",
       "      <th>2002-01-01</th>\n",
       "      <td>772614.7</td>\n",
       "      <td>475372.5</td>\n",
       "      <td>187174.9</td>\n",
       "      <td>65289.4</td>\n",
       "      <td>44778.0</td>\n",
       "      <td>2002-01-01</td>\n",
       "      <td>2002</td>\n",
       "      <td>1</td>\n",
       "      <td>1</td>\n",
       "      <td>NaN</td>\n",
       "      <td>NaN</td>\n",
       "      <td>NaN</td>\n",
       "      <td>NaN</td>\n",
       "    </tr>\n",
       "    <tr>\n",
       "      <th>2002-02-01</th>\n",
       "      <td>779654.9</td>\n",
       "      <td>486739.1</td>\n",
       "      <td>179673.4</td>\n",
       "      <td>68997.4</td>\n",
       "      <td>44245.0</td>\n",
       "      <td>2002-02-01</td>\n",
       "      <td>2002</td>\n",
       "      <td>2</td>\n",
       "      <td>1</td>\n",
       "      <td>NaN</td>\n",
       "      <td>NaN</td>\n",
       "      <td>NaN</td>\n",
       "      <td>NaN</td>\n",
       "    </tr>\n",
       "    <tr>\n",
       "      <th>2002-03-01</th>\n",
       "      <td>797428.3</td>\n",
       "      <td>483559.6</td>\n",
       "      <td>192732.1</td>\n",
       "      <td>74111.5</td>\n",
       "      <td>47025.0</td>\n",
       "      <td>2002-03-01</td>\n",
       "      <td>2002</td>\n",
       "      <td>3</td>\n",
       "      <td>1</td>\n",
       "      <td>NaN</td>\n",
       "      <td>NaN</td>\n",
       "      <td>NaN</td>\n",
       "      <td>NaN</td>\n",
       "    </tr>\n",
       "    <tr>\n",
       "      <th>2002-04-01</th>\n",
       "      <td>806857.1</td>\n",
       "      <td>490482.0</td>\n",
       "      <td>194034.9</td>\n",
       "      <td>73675.8</td>\n",
       "      <td>48664.4</td>\n",
       "      <td>2002-04-01</td>\n",
       "      <td>2002</td>\n",
       "      <td>4</td>\n",
       "      <td>2</td>\n",
       "      <td>NaN</td>\n",
       "      <td>NaN</td>\n",
       "      <td>NaN</td>\n",
       "      <td>NaN</td>\n",
       "    </tr>\n",
       "  </tbody>\n",
       "</table>\n",
       "</div>"
      ],
      "text/plain": [
       "            M2(평잔, 원계열)  가계/비영리단체        기업   기타금융기관       기타         년월  \\\n",
       "계정항목                                                                       \n",
       "2001-12-01     767051.1  468715.2  186504.1  65745.3  46086.5 2001-12-01   \n",
       "2002-01-01     772614.7  475372.5  187174.9  65289.4  44778.0 2002-01-01   \n",
       "2002-02-01     779654.9  486739.1  179673.4  68997.4  44245.0 2002-02-01   \n",
       "2002-03-01     797428.3  483559.6  192732.1  74111.5  47025.0 2002-03-01   \n",
       "2002-04-01     806857.1  490482.0  194034.9  73675.8  48664.4 2002-04-01   \n",
       "\n",
       "               연   월  분기  전년동월M2(가계/비영리단체)  전년동월M2(기업)  전년동월M2증감율(가계/비영리단체)  \\\n",
       "계정항목                                                                          \n",
       "2001-12-01  2001  12   4               NaN         NaN                  NaN   \n",
       "2002-01-01  2002   1   1               NaN         NaN                  NaN   \n",
       "2002-02-01  2002   2   1               NaN         NaN                  NaN   \n",
       "2002-03-01  2002   3   1               NaN         NaN                  NaN   \n",
       "2002-04-01  2002   4   2               NaN         NaN                  NaN   \n",
       "\n",
       "            전년동월M2증감율(기업)  \n",
       "계정항목                       \n",
       "2001-12-01            NaN  \n",
       "2002-01-01            NaN  \n",
       "2002-02-01            NaN  \n",
       "2002-03-01            NaN  \n",
       "2002-04-01            NaN  "
      ]
     },
     "execution_count": 37,
     "metadata": {},
     "output_type": "execute_result"
    }
   ],
   "source": [
    "df_by.head()"
   ]
  },
  {
   "cell_type": "code",
   "execution_count": 38,
   "metadata": {
    "colab": {
     "base_uri": "https://localhost:8080/",
     "height": 621
    },
    "execution": {
     "iopub.execute_input": "2022-12-11T18:29:58.730193Z",
     "iopub.status.busy": "2022-12-11T18:29:58.729189Z",
     "iopub.status.idle": "2022-12-11T18:29:59.035328Z",
     "shell.execute_reply": "2022-12-11T18:29:59.034090Z",
     "shell.execute_reply.started": "2022-12-11T18:29:58.730193Z"
    },
    "executionInfo": {
     "elapsed": 56,
     "status": "ok",
     "timestamp": 1664572161076,
     "user": {
      "displayName": "이혜진",
      "userId": "05706981884636951498"
     },
     "user_tz": -540
    },
    "id": "ceMPW275jWr1",
    "outputId": "ab82bc3d-16ba-4e48-b45d-7cceaae0b1ca",
    "tags": []
   },
   "outputs": [
    {
     "data": {
      "image/png": "[encoded data removed]",
      "text/plain": [
       "<Figure size 2000x1000 with 1 Axes>"
      ]
     },
     "metadata": {},
     "output_type": "display_data"
    }
   ],
   "source": [
    "fig = plt.figure(figsize=(20, 10))\n",
    "ax = fig.add_subplot(1, 1, 1)\n",
    "\n",
    "\n",
    "ax.plot(df_by.index, df_by['전년동월M2증감율(가계/비영리단체)'], label='household' , color='g')\n",
    "ax.plot(df_by.index, df_by['전년동월M2증감율(기업)'], label='company', color='r')\n",
    "#ax.plot(df_by.index, df_by['전년동월M2증감율(기타금융기관)'], label='etc-finance' , color='b')\n",
    "#ax.plot(df_by.index, df_by['전년동월M2증감율(기타)'], label='etc', color='pink')\n",
    "\n",
    "\n",
    "ax.set_xlabel(\"year\")\n",
    "ax.set_ylabel(\"%\")\n",
    "ax.set_title(\"Currency inc/dec M2 by\")\n",
    "\n",
    "ax.axhline(0, 0,1, color='lightgray', linestyle='solid', linewidth=3)\n",
    "\n",
    "\n",
    "#한글폰트 지정\n",
    "#plt.rc('font', family='NanumGothic')\n",
    "plt.legend(loc='best')\n",
    "plt.show()"
   ]
  },
  {
   "cell_type": "code",
   "execution_count": 39,
   "metadata": {
    "execution": {
     "iopub.execute_input": "2022-12-11T18:29:59.040934Z",
     "iopub.status.busy": "2022-12-11T18:29:59.040934Z",
     "iopub.status.idle": "2022-12-11T18:29:59.064800Z",
     "shell.execute_reply": "2022-12-11T18:29:59.063466Z",
     "shell.execute_reply.started": "2022-12-11T18:29:59.040934Z"
    },
    "executionInfo": {
     "elapsed": 50,
     "status": "ok",
     "timestamp": 1664572161077,
     "user": {
      "displayName": "이혜진",
      "userId": "05706981884636951498"
     },
     "user_tz": -540
    },
    "id": "lZ5oBTntFF4f",
    "tags": []
   },
   "outputs": [],
   "source": [
    "df_by_year = df_by.groupby('연')"
   ]
  },
  {
   "cell_type": "code",
   "execution_count": 40,
   "metadata": {
    "execution": {
     "iopub.execute_input": "2022-12-11T18:29:59.243327Z",
     "iopub.status.busy": "2022-12-11T18:29:59.242327Z",
     "iopub.status.idle": "2022-12-11T18:29:59.264956Z",
     "shell.execute_reply": "2022-12-11T18:29:59.262414Z",
     "shell.execute_reply.started": "2022-12-11T18:29:59.243327Z"
    },
    "executionInfo": {
     "elapsed": 50,
     "status": "ok",
     "timestamp": 1664572161078,
     "user": {
      "displayName": "이혜진",
      "userId": "05706981884636951498"
     },
     "user_tz": -540
    },
    "id": "ciRjUs413SgT",
    "tags": []
   },
   "outputs": [],
   "source": [
    "a1 = df_by_year['가계/비영리단체'].sum() / df_by_year['M2(평잔, 원계열)'].sum() * 100\n",
    "a2 = df_by_year['기업'].sum() / df_by_year['M2(평잔, 원계열)'].sum() * 100\n",
    "a3 = df_by_year['기타금융기관'].sum() / df_by_year['M2(평잔, 원계열)'].sum() * 100\n",
    "a4 = df_by_year['기타'].sum() / df_by_year['M2(평잔, 원계열)'].sum() * 100"
   ]
  },
  {
   "cell_type": "code",
   "execution_count": 41,
   "metadata": {
    "colab": {
     "base_uri": "https://localhost:8080/",
     "height": 621
    },
    "execution": {
     "iopub.execute_input": "2022-12-11T18:29:59.458528Z",
     "iopub.status.busy": "2022-12-11T18:29:59.458528Z",
     "iopub.status.idle": "2022-12-11T18:29:59.954496Z",
     "shell.execute_reply": "2022-12-11T18:29:59.953444Z",
     "shell.execute_reply.started": "2022-12-11T18:29:59.458528Z"
    },
    "executionInfo": {
     "elapsed": 737,
     "status": "ok",
     "timestamp": 1664572161766,
     "user": {
      "displayName": "이혜진",
      "userId": "05706981884636951498"
     },
     "user_tz": -540
    },
    "id": "QEiXpxNZ-OLd",
    "outputId": "bfcba8db-c822-4a66-ba25-c41341e3f8ee",
    "tags": []
   },
   "outputs": [
    {
     "data": {
      "image/png": "[encoded data removed]",
      "text/plain": [
       "<Figure size 2000x1000 with 1 Axes>"
      ]
     },
     "metadata": {},
     "output_type": "display_data"
    }
   ],
   "source": [
    "fig = plt.figure(figsize=(20, 10))\n",
    "ax = fig.add_subplot(1, 1, 1)\n",
    "\n",
    "\n",
    "ax.bar(a1.index, a1, label='household' , color='g', width=0.5 )\n",
    "ax.bar(a2.index, a2, label='company', color='r', bottom = a1 , width=0.5 )\n",
    "ax.bar(a3.index, a3, label='etc-finance' , color='b' , bottom = a1 + a2  , width=0.5)\n",
    "ax.bar(a4.index, a4, label='etc', color='pink' , bottom = a1 + a2 + a3 , width=0.5)\n",
    "\n",
    "\n",
    "ax.set_xlabel(\"year\")\n",
    "ax.set_ylabel(\"%\")\n",
    "ax.set_title(\"M2 by\")\n",
    "\n",
    "ax.text(2001, 35, '61.1')\n",
    "ax.text(2022, 35, '48.8')\n",
    "\n",
    "ax.text(2001, 70, '24.3')\n",
    "ax.text(2022, 70, '29.3')\n",
    "\n",
    "#한글폰트 지정\n",
    "#plt.rc('font', family='NanumGothic')\n",
    "plt.legend(loc='best')\n",
    "plt.show()"
   ]
  },
  {
   "cell_type": "code",
   "execution_count": 42,
   "metadata": {
    "colab": {
     "base_uri": "https://localhost:8080/",
     "height": 350
    },
    "execution": {
     "iopub.execute_input": "2022-12-11T18:29:59.957766Z",
     "iopub.status.busy": "2022-12-11T18:29:59.956768Z",
     "iopub.status.idle": "2022-12-11T18:30:00.186188Z",
     "shell.execute_reply": "2022-12-11T18:30:00.184626Z",
     "shell.execute_reply.started": "2022-12-11T18:29:59.957766Z"
    },
    "executionInfo": {
     "elapsed": 875,
     "status": "ok",
     "timestamp": 1664573756215,
     "user": {
      "displayName": "이혜진",
      "userId": "05706981884636951498"
     },
     "user_tz": -540
    },
    "id": "-nMAErn6UMFb",
    "outputId": "a3fbe37e-d463-40ff-ee59-c997a30b2a63",
    "tags": []
   },
   "outputs": [
    {
     "data": {
      "image/png": "[encoded data removed]",
      "text/plain": [
       "<Figure size 1000x500 with 1 Axes>"
      ]
     },
     "metadata": {},
     "output_type": "display_data"
    }
   ],
   "source": [
    "fig = plt.figure(figsize=(10, 5))\n",
    "ax = fig.add_subplot(1, 1, 1)\n",
    "\n",
    "\n",
    "ax.plot(df_2.index, df_2['M1']/df_2['M2'] * 100,  color='g')\n",
    "\n",
    "ax.set_xlabel(\"year\")\n",
    "ax.set_ylabel(\"M1/M2 %\")\n",
    "ax.set_title(\"Currency M1/M2\")\n",
    "\n",
    "ax.axhline(0, 0,1, color='lightgray', linestyle='solid', linewidth=3)\n",
    "\n",
    "plt.show()"
   ]
  },
  {
   "cell_type": "code",
   "execution_count": 43,
   "metadata": {
    "execution": {
     "iopub.execute_input": "2022-12-11T18:30:00.189668Z",
     "iopub.status.busy": "2022-12-11T18:30:00.188494Z",
     "iopub.status.idle": "2022-12-11T18:30:00.203180Z",
     "shell.execute_reply": "2022-12-11T18:30:00.200398Z",
     "shell.execute_reply.started": "2022-12-11T18:30:00.189668Z"
    },
    "executionInfo": {
     "elapsed": 20,
     "status": "ok",
     "timestamp": 1664572161767,
     "user": {
      "displayName": "이혜진",
      "userId": "05706981884636951498"
     },
     "user_tz": -540
    },
    "id": "dap_-OhwNLtL",
    "tags": []
   },
   "outputs": [],
   "source": [
    "#resample, 좌우, Y 축 변환 \n",
    "#26.50\n",
    "#M1/M2 기준점 찾기"
   ]
  },
  {
   "cell_type": "code",
   "execution_count": null,
   "metadata": {},
   "outputs": [],
   "source": []
  }
 ],
 "metadata": {
  "accelerator": "GPU",
  "colab": {
   "authorship_tag": "ABX9TyMW24cMYUfrsbq8Fufe0UZB",
   "collapsed_sections": [],
   "mount_file_id": "1gxpzpivZSpj-VxyEzM8Ip66mIGzNBgwo",
   "provenance": [
    {
     "file_id": "1gxpzpivZSpj-VxyEzM8Ip66mIGzNBgwo",
     "timestamp": 1663185085212
    }
   ],
   "toc_visible": true
  },
  "gpuClass": "standard",
  "kernelspec": {
   "display_name": "Python 3 (ipykernel)",
   "language": "python",
   "name": "python3"
  },
  "language_info": {
   "codemirror_mode": {
    "name": "ipython",
    "version": 3
   },
   "file_extension": ".py",
   "mimetype": "text/x-python",
   "name": "python",
   "nbconvert_exporter": "python",
   "pygments_lexer": "ipython3",
   "version": "3.9.13"
  }
 },
 "nbformat": 4,
 "nbformat_minor": 4
}
