{
 "cells": [
  {
   "cell_type": "code",
   "execution_count": 3,
   "metadata": {
    "execution": {
     "iopub.execute_input": "2022-12-11T18:15:47.501802Z",
     "iopub.status.busy": "2022-12-11T18:15:47.501123Z",
     "iopub.status.idle": "2022-12-11T18:15:47.518020Z",
     "shell.execute_reply": "2022-12-11T18:15:47.516360Z",
     "shell.execute_reply.started": "2022-12-11T18:15:47.501802Z"
    },
    "id": "G_FlhTg12g3A"
   },
   "outputs": [],
   "source": [
    "import pandas as pd\n",
    "import matplotlib.pyplot as plt"
   ]
  },
  {
   "cell_type": "code",
   "execution_count": 4,
   "metadata": {
    "execution": {
     "iopub.execute_input": "2022-12-11T18:15:47.520825Z",
     "iopub.status.busy": "2022-12-11T18:15:47.519822Z",
     "iopub.status.idle": "2022-12-11T18:15:47.532867Z",
     "shell.execute_reply": "2022-12-11T18:15:47.531931Z",
     "shell.execute_reply.started": "2022-12-11T18:15:47.520825Z"
    },
    "id": "0DzS3coy3ClU"
   },
   "outputs": [],
   "source": [
    "# 데이터 출처 : 한국은행 경제통계시스템 \n",
    "# https://ecos.bok.or.kr/#/SearchStat"
   ]
  },
  {
   "cell_type": "code",
   "execution_count": 5,
   "metadata": {
    "execution": {
     "iopub.execute_input": "2022-12-11T18:15:47.534004Z",
     "iopub.status.busy": "2022-12-11T18:15:47.534004Z",
     "iopub.status.idle": "2022-12-11T18:15:48.530038Z",
     "shell.execute_reply": "2022-12-11T18:15:48.529539Z",
     "shell.execute_reply.started": "2022-12-11T18:15:47.534004Z"
    },
    "id": "WHa9LuEZ3D1K"
   },
   "outputs": [],
   "source": [
    "df = pd.read_excel('data/Currency.xlsx', index_col=0)"
   ]
  },
  {
   "cell_type": "code",
   "execution_count": 6,
   "metadata": {
    "colab": {
     "base_uri": "https://localhost:8080/",
     "height": 237
    },
    "execution": {
     "iopub.execute_input": "2022-12-11T18:15:48.531142Z",
     "iopub.status.busy": "2022-12-11T18:15:48.531142Z",
     "iopub.status.idle": "2022-12-11T18:15:48.561935Z",
     "shell.execute_reply": "2022-12-11T18:15:48.560291Z",
     "shell.execute_reply.started": "2022-12-11T18:15:48.531142Z"
    },
    "executionInfo": {
     "elapsed": 25,
     "status": "ok",
     "timestamp": 1664857779477,
     "user": {
      "displayName": "이혜진",
      "userId": "05706981884636951498"
     },
     "user_tz": -540
    },
    "id": "G-xGYuoJ2vK0",
    "outputId": "7aeaf374-8229-46e4-d3d0-dee6922ff58c"
   },
   "outputs": [
    {
     "data": {
      "text/html": [
       "<div>\n",
       "<style scoped>\n",
       "    .dataframe tbody tr th:only-of-type {\n",
       "        vertical-align: middle;\n",
       "    }\n",
       "\n",
       "    .dataframe tbody tr th {\n",
       "        vertical-align: top;\n",
       "    }\n",
       "\n",
       "    .dataframe thead th {\n",
       "        text-align: right;\n",
       "    }\n",
       "</style>\n",
       "<table border=\"1\" class=\"dataframe\">\n",
       "  <thead>\n",
       "    <tr style=\"text-align: right;\">\n",
       "      <th></th>\n",
       "      <th>M2(평잔, 원계열)</th>\n",
       "      <th>M2 (말잔,원계열)</th>\n",
       "      <th>M1 (평잔, 원계열)</th>\n",
       "      <th>M1 (말잔, 원계열)</th>\n",
       "    </tr>\n",
       "    <tr>\n",
       "      <th>항목명1</th>\n",
       "      <th></th>\n",
       "      <th></th>\n",
       "      <th></th>\n",
       "      <th></th>\n",
       "    </tr>\n",
       "  </thead>\n",
       "  <tbody>\n",
       "    <tr>\n",
       "      <th>2022/03</th>\n",
       "      <td>3672133.4</td>\n",
       "      <td>3652818.7</td>\n",
       "      <td>1370237.5</td>\n",
       "      <td>1381077.5</td>\n",
       "    </tr>\n",
       "    <tr>\n",
       "      <th>2022/04</th>\n",
       "      <td>3675828.7</td>\n",
       "      <td>3673715.3</td>\n",
       "      <td>1377050.8</td>\n",
       "      <td>1380658.0</td>\n",
       "    </tr>\n",
       "    <tr>\n",
       "      <th>2022/05</th>\n",
       "      <td>3694489.3</td>\n",
       "      <td>3699349.5</td>\n",
       "      <td>1374671.3</td>\n",
       "      <td>1386374.8</td>\n",
       "    </tr>\n",
       "    <tr>\n",
       "      <th>2022/06</th>\n",
       "      <td>3714135.0</td>\n",
       "      <td>3702913.2</td>\n",
       "      <td>1386071.5</td>\n",
       "      <td>1401276.6</td>\n",
       "    </tr>\n",
       "    <tr>\n",
       "      <th>2022/07</th>\n",
       "      <td>3720324.1</td>\n",
       "      <td>3718139.9</td>\n",
       "      <td>1366219.8</td>\n",
       "      <td>1344145.6</td>\n",
       "    </tr>\n",
       "  </tbody>\n",
       "</table>\n",
       "</div>"
      ],
      "text/plain": [
       "         M2(평잔, 원계열)  M2 (말잔,원계열)  M1 (평잔, 원계열)  M1 (말잔, 원계열)\n",
       "항목명1                                                         \n",
       "2022/03    3672133.4    3652818.7     1370237.5     1381077.5\n",
       "2022/04    3675828.7    3673715.3     1377050.8     1380658.0\n",
       "2022/05    3694489.3    3699349.5     1374671.3     1386374.8\n",
       "2022/06    3714135.0    3702913.2     1386071.5     1401276.6\n",
       "2022/07    3720324.1    3718139.9     1366219.8     1344145.6"
      ]
     },
     "execution_count": 6,
     "metadata": {},
     "output_type": "execute_result"
    }
   ],
   "source": [
    "df.tail()"
   ]
  },
  {
   "cell_type": "code",
   "execution_count": 7,
   "metadata": {
    "execution": {
     "iopub.execute_input": "2022-12-11T18:15:48.565882Z",
     "iopub.status.busy": "2022-12-11T18:15:48.564859Z",
     "iopub.status.idle": "2022-12-11T18:15:48.592470Z",
     "shell.execute_reply": "2022-12-11T18:15:48.590238Z",
     "shell.execute_reply.started": "2022-12-11T18:15:48.565882Z"
    },
    "id": "JYjepdWx9wo_"
   },
   "outputs": [],
   "source": [
    "# 평잔 데이터를 볼 예정\n",
    "df_2 = df[['M1 (평잔, 원계열)', 'M2(평잔, 원계열)']]\n",
    "df_2.columns = ['M1', 'M2']"
   ]
  },
  {
   "cell_type": "code",
   "execution_count": 8,
   "metadata": {
    "colab": {
     "base_uri": "https://localhost:8080/",
     "height": 237
    },
    "execution": {
     "iopub.execute_input": "2022-12-11T18:15:48.596775Z",
     "iopub.status.busy": "2022-12-11T18:15:48.596155Z",
     "iopub.status.idle": "2022-12-11T18:15:48.627763Z",
     "shell.execute_reply": "2022-12-11T18:15:48.623881Z",
     "shell.execute_reply.started": "2022-12-11T18:15:48.596775Z"
    },
    "executionInfo": {
     "elapsed": 25,
     "status": "ok",
     "timestamp": 1664857779479,
     "user": {
      "displayName": "이혜진",
      "userId": "05706981884636951498"
     },
     "user_tz": -540
    },
    "id": "C5gs5FiR-DSM",
    "outputId": "41df7ba1-590e-4c98-86d7-9701a1dbd319"
   },
   "outputs": [
    {
     "data": {
      "text/html": [
       "<div>\n",
       "<style scoped>\n",
       "    .dataframe tbody tr th:only-of-type {\n",
       "        vertical-align: middle;\n",
       "    }\n",
       "\n",
       "    .dataframe tbody tr th {\n",
       "        vertical-align: top;\n",
       "    }\n",
       "\n",
       "    .dataframe thead th {\n",
       "        text-align: right;\n",
       "    }\n",
       "</style>\n",
       "<table border=\"1\" class=\"dataframe\">\n",
       "  <thead>\n",
       "    <tr style=\"text-align: right;\">\n",
       "      <th></th>\n",
       "      <th>M1</th>\n",
       "      <th>M2</th>\n",
       "    </tr>\n",
       "    <tr>\n",
       "      <th>항목명1</th>\n",
       "      <th></th>\n",
       "      <th></th>\n",
       "    </tr>\n",
       "  </thead>\n",
       "  <tbody>\n",
       "    <tr>\n",
       "      <th>2001/01</th>\n",
       "      <td>200074.9</td>\n",
       "      <td>711867.7</td>\n",
       "    </tr>\n",
       "    <tr>\n",
       "      <th>2001/02</th>\n",
       "      <td>201160.7</td>\n",
       "      <td>716583.9</td>\n",
       "    </tr>\n",
       "    <tr>\n",
       "      <th>2001/03</th>\n",
       "      <td>206680.3</td>\n",
       "      <td>717847.3</td>\n",
       "    </tr>\n",
       "    <tr>\n",
       "      <th>2001/04</th>\n",
       "      <td>204714.3</td>\n",
       "      <td>718780.3</td>\n",
       "    </tr>\n",
       "    <tr>\n",
       "      <th>2001/05</th>\n",
       "      <td>204840.0</td>\n",
       "      <td>723359.5</td>\n",
       "    </tr>\n",
       "  </tbody>\n",
       "</table>\n",
       "</div>"
      ],
      "text/plain": [
       "               M1        M2\n",
       "항목명1                       \n",
       "2001/01  200074.9  711867.7\n",
       "2001/02  201160.7  716583.9\n",
       "2001/03  206680.3  717847.3\n",
       "2001/04  204714.3  718780.3\n",
       "2001/05  204840.0  723359.5"
      ]
     },
     "execution_count": 8,
     "metadata": {},
     "output_type": "execute_result"
    }
   ],
   "source": [
    "df_2.head()"
   ]
  },
  {
   "cell_type": "code",
   "execution_count": 9,
   "metadata": {
    "execution": {
     "iopub.execute_input": "2022-12-11T18:15:48.630850Z",
     "iopub.status.busy": "2022-12-11T18:15:48.630416Z",
     "iopub.status.idle": "2022-12-11T18:15:48.653045Z",
     "shell.execute_reply": "2022-12-11T18:15:48.650728Z",
     "shell.execute_reply.started": "2022-12-11T18:15:48.630850Z"
    },
    "id": "j-KA4lm-2v-g"
   },
   "outputs": [],
   "source": [
    "#index 를 datetime 형식으로 변경 (추후에 편한 정렬 및 loc 를 위해)\n",
    "df_2.index = pd.to_datetime(df_2.index)\n",
    "df_2 = df_2.sort_index()"
   ]
  },
  {
   "cell_type": "code",
   "execution_count": 10,
   "metadata": {
    "colab": {
     "base_uri": "https://localhost:8080/"
    },
    "execution": {
     "iopub.execute_input": "2022-12-11T18:15:48.658970Z",
     "iopub.status.busy": "2022-12-11T18:15:48.657427Z",
     "iopub.status.idle": "2022-12-11T18:15:48.683528Z",
     "shell.execute_reply": "2022-12-11T18:15:48.682033Z",
     "shell.execute_reply.started": "2022-12-11T18:15:48.658469Z"
    },
    "executionInfo": {
     "elapsed": 26,
     "status": "ok",
     "timestamp": 1664857779481,
     "user": {
      "displayName": "이혜진",
      "userId": "05706981884636951498"
     },
     "user_tz": -540
    },
    "id": "2xiW2Rrn2wZP",
    "outputId": "c29a8df1-0e85-41d4-d00f-f9cb76e9d4c6"
   },
   "outputs": [
    {
     "data": {
      "text/plain": [
       "DatetimeIndex(['2001-01-01', '2001-02-01', '2001-03-01', '2001-04-01',\n",
       "               '2001-05-01', '2001-06-01', '2001-07-01', '2001-08-01',\n",
       "               '2001-09-01', '2001-10-01',\n",
       "               ...\n",
       "               '2021-10-01', '2021-11-01', '2021-12-01', '2022-01-01',\n",
       "               '2022-02-01', '2022-03-01', '2022-04-01', '2022-05-01',\n",
       "               '2022-06-01', '2022-07-01'],\n",
       "              dtype='datetime64[ns]', name='항목명1', length=259, freq=None)"
      ]
     },
     "execution_count": 10,
     "metadata": {},
     "output_type": "execute_result"
    }
   ],
   "source": [
    "df_2.index"
   ]
  },
  {
   "cell_type": "code",
   "execution_count": 11,
   "metadata": {
    "colab": {
     "base_uri": "https://localhost:8080/",
     "height": 237
    },
    "execution": {
     "iopub.execute_input": "2022-12-11T18:15:48.686356Z",
     "iopub.status.busy": "2022-12-11T18:15:48.685011Z",
     "iopub.status.idle": "2022-12-11T18:15:48.714735Z",
     "shell.execute_reply": "2022-12-11T18:15:48.713299Z",
     "shell.execute_reply.started": "2022-12-11T18:15:48.685011Z"
    },
    "executionInfo": {
     "elapsed": 24,
     "status": "ok",
     "timestamp": 1664857779483,
     "user": {
      "displayName": "이혜진",
      "userId": "05706981884636951498"
     },
     "user_tz": -540
    },
    "id": "uPaR9JMD3Hi5",
    "outputId": "783937e7-574b-43d8-e651-1d56dee3ba6c"
   },
   "outputs": [
    {
     "data": {
      "text/html": [
       "<div>\n",
       "<style scoped>\n",
       "    .dataframe tbody tr th:only-of-type {\n",
       "        vertical-align: middle;\n",
       "    }\n",
       "\n",
       "    .dataframe tbody tr th {\n",
       "        vertical-align: top;\n",
       "    }\n",
       "\n",
       "    .dataframe thead th {\n",
       "        text-align: right;\n",
       "    }\n",
       "</style>\n",
       "<table border=\"1\" class=\"dataframe\">\n",
       "  <thead>\n",
       "    <tr style=\"text-align: right;\">\n",
       "      <th></th>\n",
       "      <th>M1</th>\n",
       "      <th>M2</th>\n",
       "    </tr>\n",
       "    <tr>\n",
       "      <th>항목명1</th>\n",
       "      <th></th>\n",
       "      <th></th>\n",
       "    </tr>\n",
       "  </thead>\n",
       "  <tbody>\n",
       "    <tr>\n",
       "      <th>2001-01-01</th>\n",
       "      <td>200074.9</td>\n",
       "      <td>711867.7</td>\n",
       "    </tr>\n",
       "    <tr>\n",
       "      <th>2001-02-01</th>\n",
       "      <td>201160.7</td>\n",
       "      <td>716583.9</td>\n",
       "    </tr>\n",
       "    <tr>\n",
       "      <th>2001-03-01</th>\n",
       "      <td>206680.3</td>\n",
       "      <td>717847.3</td>\n",
       "    </tr>\n",
       "    <tr>\n",
       "      <th>2001-04-01</th>\n",
       "      <td>204714.3</td>\n",
       "      <td>718780.3</td>\n",
       "    </tr>\n",
       "    <tr>\n",
       "      <th>2001-05-01</th>\n",
       "      <td>204840.0</td>\n",
       "      <td>723359.5</td>\n",
       "    </tr>\n",
       "  </tbody>\n",
       "</table>\n",
       "</div>"
      ],
      "text/plain": [
       "                  M1        M2\n",
       "항목명1                          \n",
       "2001-01-01  200074.9  711867.7\n",
       "2001-02-01  201160.7  716583.9\n",
       "2001-03-01  206680.3  717847.3\n",
       "2001-04-01  204714.3  718780.3\n",
       "2001-05-01  204840.0  723359.5"
      ]
     },
     "execution_count": 11,
     "metadata": {},
     "output_type": "execute_result"
    }
   ],
   "source": [
    "df_2.head()"
   ]
  },
  {
   "cell_type": "code",
   "execution_count": 12,
   "metadata": {
    "execution": {
     "iopub.execute_input": "2022-12-11T18:15:48.716904Z",
     "iopub.status.busy": "2022-12-11T18:15:48.716904Z",
     "iopub.status.idle": "2022-12-11T18:15:48.746395Z",
     "shell.execute_reply": "2022-12-11T18:15:48.744486Z",
     "shell.execute_reply.started": "2022-12-11T18:15:48.716904Z"
    },
    "id": "Q4Gj9KST6CuP"
   },
   "outputs": [],
   "source": [
    "# 연도, 월, 일, 분기를 따로 저장\n",
    "df_2['일자'] = df_2.index"
   ]
  },
  {
   "cell_type": "code",
   "execution_count": 13,
   "metadata": {
    "execution": {
     "iopub.execute_input": "2022-12-11T18:15:48.749408Z",
     "iopub.status.busy": "2022-12-11T18:15:48.748406Z",
     "iopub.status.idle": "2022-12-11T18:15:48.793205Z",
     "shell.execute_reply": "2022-12-11T18:15:48.791102Z",
     "shell.execute_reply.started": "2022-12-11T18:15:48.749408Z"
    },
    "id": "LLtwKVPM6DeK"
   },
   "outputs": [],
   "source": [
    "df_2['연'] = df_2['일자'].dt.year\n",
    "df_2['월'] = df_2['일자'].dt.month\n",
    "df_2['분기'] = df_2['일자'].dt.quarter"
   ]
  },
  {
   "cell_type": "code",
   "execution_count": 14,
   "metadata": {
    "colab": {
     "base_uri": "https://localhost:8080/",
     "height": 237
    },
    "execution": {
     "iopub.execute_input": "2022-12-11T18:15:48.795201Z",
     "iopub.status.busy": "2022-12-11T18:15:48.794200Z",
     "iopub.status.idle": "2022-12-11T18:15:48.825056Z",
     "shell.execute_reply": "2022-12-11T18:15:48.821409Z",
     "shell.execute_reply.started": "2022-12-11T18:15:48.795201Z"
    },
    "executionInfo": {
     "elapsed": 26,
     "status": "ok",
     "timestamp": 1664857779486,
     "user": {
      "displayName": "이혜진",
      "userId": "05706981884636951498"
     },
     "user_tz": -540
    },
    "id": "7zPPnThs6Dxb",
    "outputId": "ab7b1304-af15-4157-9581-86cf57435c8e"
   },
   "outputs": [
    {
     "data": {
      "text/html": [
       "<div>\n",
       "<style scoped>\n",
       "    .dataframe tbody tr th:only-of-type {\n",
       "        vertical-align: middle;\n",
       "    }\n",
       "\n",
       "    .dataframe tbody tr th {\n",
       "        vertical-align: top;\n",
       "    }\n",
       "\n",
       "    .dataframe thead th {\n",
       "        text-align: right;\n",
       "    }\n",
       "</style>\n",
       "<table border=\"1\" class=\"dataframe\">\n",
       "  <thead>\n",
       "    <tr style=\"text-align: right;\">\n",
       "      <th></th>\n",
       "      <th>M1</th>\n",
       "      <th>M2</th>\n",
       "      <th>일자</th>\n",
       "      <th>연</th>\n",
       "      <th>월</th>\n",
       "      <th>분기</th>\n",
       "    </tr>\n",
       "    <tr>\n",
       "      <th>항목명1</th>\n",
       "      <th></th>\n",
       "      <th></th>\n",
       "      <th></th>\n",
       "      <th></th>\n",
       "      <th></th>\n",
       "      <th></th>\n",
       "    </tr>\n",
       "  </thead>\n",
       "  <tbody>\n",
       "    <tr>\n",
       "      <th>2001-01-01</th>\n",
       "      <td>200074.9</td>\n",
       "      <td>711867.7</td>\n",
       "      <td>2001-01-01</td>\n",
       "      <td>2001</td>\n",
       "      <td>1</td>\n",
       "      <td>1</td>\n",
       "    </tr>\n",
       "    <tr>\n",
       "      <th>2001-02-01</th>\n",
       "      <td>201160.7</td>\n",
       "      <td>716583.9</td>\n",
       "      <td>2001-02-01</td>\n",
       "      <td>2001</td>\n",
       "      <td>2</td>\n",
       "      <td>1</td>\n",
       "    </tr>\n",
       "    <tr>\n",
       "      <th>2001-03-01</th>\n",
       "      <td>206680.3</td>\n",
       "      <td>717847.3</td>\n",
       "      <td>2001-03-01</td>\n",
       "      <td>2001</td>\n",
       "      <td>3</td>\n",
       "      <td>1</td>\n",
       "    </tr>\n",
       "    <tr>\n",
       "      <th>2001-04-01</th>\n",
       "      <td>204714.3</td>\n",
       "      <td>718780.3</td>\n",
       "      <td>2001-04-01</td>\n",
       "      <td>2001</td>\n",
       "      <td>4</td>\n",
       "      <td>2</td>\n",
       "    </tr>\n",
       "    <tr>\n",
       "      <th>2001-05-01</th>\n",
       "      <td>204840.0</td>\n",
       "      <td>723359.5</td>\n",
       "      <td>2001-05-01</td>\n",
       "      <td>2001</td>\n",
       "      <td>5</td>\n",
       "      <td>2</td>\n",
       "    </tr>\n",
       "  </tbody>\n",
       "</table>\n",
       "</div>"
      ],
      "text/plain": [
       "                  M1        M2         일자     연  월  분기\n",
       "항목명1                                                  \n",
       "2001-01-01  200074.9  711867.7 2001-01-01  2001  1   1\n",
       "2001-02-01  201160.7  716583.9 2001-02-01  2001  2   1\n",
       "2001-03-01  206680.3  717847.3 2001-03-01  2001  3   1\n",
       "2001-04-01  204714.3  718780.3 2001-04-01  2001  4   2\n",
       "2001-05-01  204840.0  723359.5 2001-05-01  2001  5   2"
      ]
     },
     "execution_count": 14,
     "metadata": {},
     "output_type": "execute_result"
    }
   ],
   "source": [
    "df_2.head()"
   ]
  },
  {
   "cell_type": "code",
   "execution_count": 15,
   "metadata": {
    "colab": {
     "base_uri": "https://localhost:8080/"
    },
    "execution": {
     "iopub.execute_input": "2022-12-11T18:15:48.829601Z",
     "iopub.status.busy": "2022-12-11T18:15:48.828602Z",
     "iopub.status.idle": "2022-12-11T18:15:48.883560Z",
     "shell.execute_reply": "2022-12-11T18:15:48.883063Z",
     "shell.execute_reply.started": "2022-12-11T18:15:48.829601Z"
    },
    "executionInfo": {
     "elapsed": 27,
     "status": "ok",
     "timestamp": 1664857779487,
     "user": {
      "displayName": "이혜진",
      "userId": "05706981884636951498"
     },
     "user_tz": -540
    },
    "id": "kF6p4y9fRZU4",
    "outputId": "fae8c9fc-55c9-4193-853e-94ac6d46c6d7"
   },
   "outputs": [
    {
     "name": "stdout",
     "output_type": "stream",
     "text": [
      "<class 'pandas.core.frame.DataFrame'>\n",
      "DatetimeIndex: 259 entries, 2001-01-01 to 2022-07-01\n",
      "Data columns (total 6 columns):\n",
      " #   Column  Non-Null Count  Dtype         \n",
      "---  ------  --------------  -----         \n",
      " 0   M1      259 non-null    float64       \n",
      " 1   M2      259 non-null    float64       \n",
      " 2   일자      259 non-null    datetime64[ns]\n",
      " 3   연       259 non-null    int64         \n",
      " 4   월       259 non-null    int64         \n",
      " 5   분기      259 non-null    int64         \n",
      "dtypes: datetime64[ns](1), float64(2), int64(3)\n",
      "memory usage: 14.2 KB\n"
     ]
    }
   ],
   "source": [
    "df_2.info()"
   ]
  },
  {
   "cell_type": "markdown",
   "metadata": {
    "id": "YBnNDeuwRo8m"
   },
   "source": []
  },
  {
   "cell_type": "code",
   "execution_count": 16,
   "metadata": {
    "colab": {
     "base_uri": "https://localhost:8080/",
     "height": 572
    },
    "execution": {
     "iopub.execute_input": "2022-12-11T18:15:48.894483Z",
     "iopub.status.busy": "2022-12-11T18:15:48.891847Z",
     "iopub.status.idle": "2022-12-11T18:15:49.600165Z",
     "shell.execute_reply": "2022-12-11T18:15:49.599663Z",
     "shell.execute_reply.started": "2022-12-11T18:15:48.894483Z"
    },
    "executionInfo": {
     "elapsed": 1176,
     "status": "ok",
     "timestamp": 1664857780638,
     "user": {
      "displayName": "이혜진",
      "userId": "05706981884636951498"
     },
     "user_tz": -540
    },
    "id": "eqzKMI8thjq6",
    "outputId": "d9cbc87d-7d37-4c3a-c99c-c6462666a4db"
   },
   "outputs": [
    {
     "data": {
      "image/png": "[encoded data removed]",
      "text/plain": [
       "<Figure size 2000x1000 with 1 Axes>"
      ]
     },
     "metadata": {},
     "output_type": "display_data"
    }
   ],
   "source": [
    "fig = plt.figure(figsize=(20, 10))\n",
    "\n",
    "from mpl_toolkits.axes_grid1 import host_subplot\n",
    "\n",
    "host = host_subplot(111)\n",
    "par = host.twinx()\n",
    "\n",
    "host.set_xlabel(\"year\")\n",
    "host.set_ylabel(\"billion\")\n",
    "par.set_ylabel(\"M1/M2 %\")\n",
    "\n",
    "p1, = host.plot(df_2.index, df_2['M1'], label=\"M1\")\n",
    "host.plot(df_2.index, df_2['M2'], label=\"M2\")\n",
    "p2, = par.plot(df_2.index,df_2['M1']/df_2['M2']*100, label=\"M1/M2\")\n",
    "par.axhline(y=34.4948, linestyle='--', color='r', linewidth=1)\n",
    "\n",
    "host.legend()\n",
    "\n",
    "host.yaxis.get_label().set_color(p1.get_color())\n",
    "par.yaxis.get_label().set_color(p2.get_color())\n",
    "\n",
    "#par.axhline(0, 1, 34.49483870107493, color='lightgray', linestyle='--', linewidth=2)\n",
    "\n",
    "plt.show()"
   ]
  },
  {
   "cell_type": "code",
   "execution_count": 17,
   "metadata": {
    "execution": {
     "iopub.execute_input": "2022-12-11T18:15:49.602443Z",
     "iopub.status.busy": "2022-12-11T18:15:49.601222Z",
     "iopub.status.idle": "2022-12-11T18:15:49.616741Z",
     "shell.execute_reply": "2022-12-11T18:15:49.614610Z",
     "shell.execute_reply.started": "2022-12-11T18:15:49.602443Z"
    },
    "id": "EywlHfYwMDmV"
   },
   "outputs": [],
   "source": [
    "df_2['M1/M2 %'] = df_2['M1']/df_2['M2']*100"
   ]
  },
  {
   "cell_type": "code",
   "execution_count": 18,
   "metadata": {
    "colab": {
     "base_uri": "https://localhost:8080/"
    },
    "execution": {
     "iopub.execute_input": "2022-12-11T18:15:49.618293Z",
     "iopub.status.busy": "2022-12-11T18:15:49.618293Z",
     "iopub.status.idle": "2022-12-11T18:15:49.632147Z",
     "shell.execute_reply": "2022-12-11T18:15:49.630613Z",
     "shell.execute_reply.started": "2022-12-11T18:15:49.618293Z"
    },
    "executionInfo": {
     "elapsed": 14,
     "status": "ok",
     "timestamp": 1664857780642,
     "user": {
      "displayName": "이혜진",
      "userId": "05706981884636951498"
     },
     "user_tz": -540
    },
    "id": "FaYwXVQ1e0Bt",
    "outputId": "a7a28eab-d2bb-43ab-eb4f-91ce710a6f8d"
   },
   "outputs": [
    {
     "data": {
      "text/plain": [
       "34.49483870107493"
      ]
     },
     "execution_count": 18,
     "metadata": {},
     "output_type": "execute_result"
    }
   ],
   "source": [
    "df_2[ df_2['연']<2008 ]['M1/M2 %'].max()"
   ]
  },
  {
   "cell_type": "code",
   "execution_count": 19,
   "metadata": {
    "colab": {
     "base_uri": "https://localhost:8080/",
     "height": 896
    },
    "execution": {
     "iopub.execute_input": "2022-12-11T18:15:49.637029Z",
     "iopub.status.busy": "2022-12-11T18:15:49.635529Z",
     "iopub.status.idle": "2022-12-11T18:15:49.677280Z",
     "shell.execute_reply": "2022-12-11T18:15:49.676781Z",
     "shell.execute_reply.started": "2022-12-11T18:15:49.636531Z"
    },
    "executionInfo": {
     "elapsed": 13,
     "status": "ok",
     "timestamp": 1664857780643,
     "user": {
      "displayName": "이혜진",
      "userId": "05706981884636951498"
     },
     "user_tz": -540
    },
    "id": "w4H6Oq8bXDSs",
    "outputId": "302e0e74-410d-4c86-d2de-e38e303a9d92"
   },
   "outputs": [
    {
     "data": {
      "text/html": [
       "<div>\n",
       "<style scoped>\n",
       "    .dataframe tbody tr th:only-of-type {\n",
       "        vertical-align: middle;\n",
       "    }\n",
       "\n",
       "    .dataframe tbody tr th {\n",
       "        vertical-align: top;\n",
       "    }\n",
       "\n",
       "    .dataframe thead th {\n",
       "        text-align: right;\n",
       "    }\n",
       "</style>\n",
       "<table border=\"1\" class=\"dataframe\">\n",
       "  <thead>\n",
       "    <tr style=\"text-align: right;\">\n",
       "      <th></th>\n",
       "      <th>M1</th>\n",
       "      <th>M2</th>\n",
       "      <th>일자</th>\n",
       "      <th>연</th>\n",
       "      <th>월</th>\n",
       "      <th>분기</th>\n",
       "      <th>M1/M2 %</th>\n",
       "    </tr>\n",
       "    <tr>\n",
       "      <th>항목명1</th>\n",
       "      <th></th>\n",
       "      <th></th>\n",
       "      <th></th>\n",
       "      <th></th>\n",
       "      <th></th>\n",
       "      <th></th>\n",
       "      <th></th>\n",
       "    </tr>\n",
       "  </thead>\n",
       "  <tbody>\n",
       "    <tr>\n",
       "      <th>2005-07-01</th>\n",
       "      <td>346659.4</td>\n",
       "      <td>1004960.2</td>\n",
       "      <td>2005-07-01</td>\n",
       "      <td>2005</td>\n",
       "      <td>7</td>\n",
       "      <td>3</td>\n",
       "      <td>34.494839</td>\n",
       "    </tr>\n",
       "    <tr>\n",
       "      <th>2020-07-01</th>\n",
       "      <td>1076665.6</td>\n",
       "      <td>3093300.1</td>\n",
       "      <td>2020-07-01</td>\n",
       "      <td>2020</td>\n",
       "      <td>7</td>\n",
       "      <td>3</td>\n",
       "      <td>34.806374</td>\n",
       "    </tr>\n",
       "    <tr>\n",
       "      <th>2020-08-01</th>\n",
       "      <td>1087250.7</td>\n",
       "      <td>3100373.4</td>\n",
       "      <td>2020-08-01</td>\n",
       "      <td>2020</td>\n",
       "      <td>8</td>\n",
       "      <td>3</td>\n",
       "      <td>35.068379</td>\n",
       "    </tr>\n",
       "    <tr>\n",
       "      <th>2020-09-01</th>\n",
       "      <td>1110397.1</td>\n",
       "      <td>3115238.9</td>\n",
       "      <td>2020-09-01</td>\n",
       "      <td>2020</td>\n",
       "      <td>9</td>\n",
       "      <td>3</td>\n",
       "      <td>35.644043</td>\n",
       "    </tr>\n",
       "    <tr>\n",
       "      <th>2020-10-01</th>\n",
       "      <td>1130987.6</td>\n",
       "      <td>3152811.6</td>\n",
       "      <td>2020-10-01</td>\n",
       "      <td>2020</td>\n",
       "      <td>10</td>\n",
       "      <td>4</td>\n",
       "      <td>35.872350</td>\n",
       "    </tr>\n",
       "    <tr>\n",
       "      <th>2020-11-01</th>\n",
       "      <td>1139632.4</td>\n",
       "      <td>3183500.9</td>\n",
       "      <td>2020-11-01</td>\n",
       "      <td>2020</td>\n",
       "      <td>11</td>\n",
       "      <td>4</td>\n",
       "      <td>35.798086</td>\n",
       "    </tr>\n",
       "    <tr>\n",
       "      <th>2020-12-01</th>\n",
       "      <td>1164720.1</td>\n",
       "      <td>3197671.2</td>\n",
       "      <td>2020-12-01</td>\n",
       "      <td>2020</td>\n",
       "      <td>12</td>\n",
       "      <td>4</td>\n",
       "      <td>36.424011</td>\n",
       "    </tr>\n",
       "    <tr>\n",
       "      <th>2021-01-01</th>\n",
       "      <td>1183360.4</td>\n",
       "      <td>3223486.7</td>\n",
       "      <td>2021-01-01</td>\n",
       "      <td>2021</td>\n",
       "      <td>1</td>\n",
       "      <td>1</td>\n",
       "      <td>36.710572</td>\n",
       "    </tr>\n",
       "    <tr>\n",
       "      <th>2021-02-01</th>\n",
       "      <td>1206555.6</td>\n",
       "      <td>3271405.8</td>\n",
       "      <td>2021-02-01</td>\n",
       "      <td>2021</td>\n",
       "      <td>2</td>\n",
       "      <td>1</td>\n",
       "      <td>36.881869</td>\n",
       "    </tr>\n",
       "    <tr>\n",
       "      <th>2021-03-01</th>\n",
       "      <td>1231321.1</td>\n",
       "      <td>3313182.2</td>\n",
       "      <td>2021-03-01</td>\n",
       "      <td>2021</td>\n",
       "      <td>3</td>\n",
       "      <td>1</td>\n",
       "      <td>37.164304</td>\n",
       "    </tr>\n",
       "    <tr>\n",
       "      <th>2021-04-01</th>\n",
       "      <td>1257170.1</td>\n",
       "      <td>3358874.9</td>\n",
       "      <td>2021-04-01</td>\n",
       "      <td>2021</td>\n",
       "      <td>4</td>\n",
       "      <td>2</td>\n",
       "      <td>37.428310</td>\n",
       "    </tr>\n",
       "    <tr>\n",
       "      <th>2021-05-01</th>\n",
       "      <td>1264219.8</td>\n",
       "      <td>3379753.9</td>\n",
       "      <td>2021-05-01</td>\n",
       "      <td>2021</td>\n",
       "      <td>5</td>\n",
       "      <td>2</td>\n",
       "      <td>37.405676</td>\n",
       "    </tr>\n",
       "    <tr>\n",
       "      <th>2021-06-01</th>\n",
       "      <td>1285488.7</td>\n",
       "      <td>3413899.8</td>\n",
       "      <td>2021-06-01</td>\n",
       "      <td>2021</td>\n",
       "      <td>6</td>\n",
       "      <td>2</td>\n",
       "      <td>37.654553</td>\n",
       "    </tr>\n",
       "    <tr>\n",
       "      <th>2021-07-01</th>\n",
       "      <td>1296969.0</td>\n",
       "      <td>3445243.0</td>\n",
       "      <td>2021-07-01</td>\n",
       "      <td>2021</td>\n",
       "      <td>7</td>\n",
       "      <td>3</td>\n",
       "      <td>37.645211</td>\n",
       "    </tr>\n",
       "    <tr>\n",
       "      <th>2021-08-01</th>\n",
       "      <td>1304432.6</td>\n",
       "      <td>3487634.1</td>\n",
       "      <td>2021-08-01</td>\n",
       "      <td>2021</td>\n",
       "      <td>8</td>\n",
       "      <td>3</td>\n",
       "      <td>37.401647</td>\n",
       "    </tr>\n",
       "    <tr>\n",
       "      <th>2021-09-01</th>\n",
       "      <td>1328615.1</td>\n",
       "      <td>3513680.6</td>\n",
       "      <td>2021-09-01</td>\n",
       "      <td>2021</td>\n",
       "      <td>9</td>\n",
       "      <td>3</td>\n",
       "      <td>37.812632</td>\n",
       "    </tr>\n",
       "    <tr>\n",
       "      <th>2021-10-01</th>\n",
       "      <td>1334024.4</td>\n",
       "      <td>3543363.7</td>\n",
       "      <td>2021-10-01</td>\n",
       "      <td>2021</td>\n",
       "      <td>10</td>\n",
       "      <td>4</td>\n",
       "      <td>37.648532</td>\n",
       "    </tr>\n",
       "    <tr>\n",
       "      <th>2021-11-01</th>\n",
       "      <td>1340634.6</td>\n",
       "      <td>3594723.2</td>\n",
       "      <td>2021-11-01</td>\n",
       "      <td>2021</td>\n",
       "      <td>11</td>\n",
       "      <td>4</td>\n",
       "      <td>37.294515</td>\n",
       "    </tr>\n",
       "    <tr>\n",
       "      <th>2021-12-01</th>\n",
       "      <td>1346579.7</td>\n",
       "      <td>3620057.4</td>\n",
       "      <td>2021-12-01</td>\n",
       "      <td>2021</td>\n",
       "      <td>12</td>\n",
       "      <td>4</td>\n",
       "      <td>37.197744</td>\n",
       "    </tr>\n",
       "    <tr>\n",
       "      <th>2022-01-01</th>\n",
       "      <td>1352771.6</td>\n",
       "      <td>3634342.4</td>\n",
       "      <td>2022-01-01</td>\n",
       "      <td>2022</td>\n",
       "      <td>1</td>\n",
       "      <td>1</td>\n",
       "      <td>37.221908</td>\n",
       "    </tr>\n",
       "    <tr>\n",
       "      <th>2022-02-01</th>\n",
       "      <td>1346701.7</td>\n",
       "      <td>3656135.8</td>\n",
       "      <td>2022-02-01</td>\n",
       "      <td>2022</td>\n",
       "      <td>2</td>\n",
       "      <td>1</td>\n",
       "      <td>36.834017</td>\n",
       "    </tr>\n",
       "    <tr>\n",
       "      <th>2022-03-01</th>\n",
       "      <td>1370237.5</td>\n",
       "      <td>3672133.4</td>\n",
       "      <td>2022-03-01</td>\n",
       "      <td>2022</td>\n",
       "      <td>3</td>\n",
       "      <td>1</td>\n",
       "      <td>37.314480</td>\n",
       "    </tr>\n",
       "    <tr>\n",
       "      <th>2022-04-01</th>\n",
       "      <td>1377050.8</td>\n",
       "      <td>3675828.7</td>\n",
       "      <td>2022-04-01</td>\n",
       "      <td>2022</td>\n",
       "      <td>4</td>\n",
       "      <td>2</td>\n",
       "      <td>37.462322</td>\n",
       "    </tr>\n",
       "    <tr>\n",
       "      <th>2022-05-01</th>\n",
       "      <td>1374671.3</td>\n",
       "      <td>3694489.3</td>\n",
       "      <td>2022-05-01</td>\n",
       "      <td>2022</td>\n",
       "      <td>5</td>\n",
       "      <td>2</td>\n",
       "      <td>37.208696</td>\n",
       "    </tr>\n",
       "    <tr>\n",
       "      <th>2022-06-01</th>\n",
       "      <td>1386071.5</td>\n",
       "      <td>3714135.0</td>\n",
       "      <td>2022-06-01</td>\n",
       "      <td>2022</td>\n",
       "      <td>6</td>\n",
       "      <td>2</td>\n",
       "      <td>37.318824</td>\n",
       "    </tr>\n",
       "    <tr>\n",
       "      <th>2022-07-01</th>\n",
       "      <td>1366219.8</td>\n",
       "      <td>3720324.1</td>\n",
       "      <td>2022-07-01</td>\n",
       "      <td>2022</td>\n",
       "      <td>7</td>\n",
       "      <td>3</td>\n",
       "      <td>36.723139</td>\n",
       "    </tr>\n",
       "  </tbody>\n",
       "</table>\n",
       "</div>"
      ],
      "text/plain": [
       "                   M1         M2         일자     연   월  분기    M1/M2 %\n",
       "항목명1                                                                \n",
       "2005-07-01   346659.4  1004960.2 2005-07-01  2005   7   3  34.494839\n",
       "2020-07-01  1076665.6  3093300.1 2020-07-01  2020   7   3  34.806374\n",
       "2020-08-01  1087250.7  3100373.4 2020-08-01  2020   8   3  35.068379\n",
       "2020-09-01  1110397.1  3115238.9 2020-09-01  2020   9   3  35.644043\n",
       "2020-10-01  1130987.6  3152811.6 2020-10-01  2020  10   4  35.872350\n",
       "2020-11-01  1139632.4  3183500.9 2020-11-01  2020  11   4  35.798086\n",
       "2020-12-01  1164720.1  3197671.2 2020-12-01  2020  12   4  36.424011\n",
       "2021-01-01  1183360.4  3223486.7 2021-01-01  2021   1   1  36.710572\n",
       "2021-02-01  1206555.6  3271405.8 2021-02-01  2021   2   1  36.881869\n",
       "2021-03-01  1231321.1  3313182.2 2021-03-01  2021   3   1  37.164304\n",
       "2021-04-01  1257170.1  3358874.9 2021-04-01  2021   4   2  37.428310\n",
       "2021-05-01  1264219.8  3379753.9 2021-05-01  2021   5   2  37.405676\n",
       "2021-06-01  1285488.7  3413899.8 2021-06-01  2021   6   2  37.654553\n",
       "2021-07-01  1296969.0  3445243.0 2021-07-01  2021   7   3  37.645211\n",
       "2021-08-01  1304432.6  3487634.1 2021-08-01  2021   8   3  37.401647\n",
       "2021-09-01  1328615.1  3513680.6 2021-09-01  2021   9   3  37.812632\n",
       "2021-10-01  1334024.4  3543363.7 2021-10-01  2021  10   4  37.648532\n",
       "2021-11-01  1340634.6  3594723.2 2021-11-01  2021  11   4  37.294515\n",
       "2021-12-01  1346579.7  3620057.4 2021-12-01  2021  12   4  37.197744\n",
       "2022-01-01  1352771.6  3634342.4 2022-01-01  2022   1   1  37.221908\n",
       "2022-02-01  1346701.7  3656135.8 2022-02-01  2022   2   1  36.834017\n",
       "2022-03-01  1370237.5  3672133.4 2022-03-01  2022   3   1  37.314480\n",
       "2022-04-01  1377050.8  3675828.7 2022-04-01  2022   4   2  37.462322\n",
       "2022-05-01  1374671.3  3694489.3 2022-05-01  2022   5   2  37.208696\n",
       "2022-06-01  1386071.5  3714135.0 2022-06-01  2022   6   2  37.318824\n",
       "2022-07-01  1366219.8  3720324.1 2022-07-01  2022   7   3  36.723139"
      ]
     },
     "execution_count": 19,
     "metadata": {},
     "output_type": "execute_result"
    }
   ],
   "source": [
    "df_2[ df_2['M1/M2 %'] >=34.49 ]"
   ]
  },
  {
   "cell_type": "code",
   "execution_count": 20,
   "metadata": {
    "execution": {
     "iopub.execute_input": "2022-12-11T18:15:49.679297Z",
     "iopub.status.busy": "2022-12-11T18:15:49.678296Z",
     "iopub.status.idle": "2022-12-11T18:15:49.692513Z",
     "shell.execute_reply": "2022-12-11T18:15:49.691683Z",
     "shell.execute_reply.started": "2022-12-11T18:15:49.678296Z"
    },
    "id": "dap_-OhwNLtL",
    "tags": []
   },
   "outputs": [],
   "source": [
    "#resample, \n",
    "#26.50"
   ]
  }
 ],
 "metadata": {
  "accelerator": "GPU",
  "colab": {
   "authorship_tag": "ABX9TyMAieATT21v8LF9ZzFpBVBS",
   "collapsed_sections": [],
   "mount_file_id": "1gxpzpivZSpj-VxyEzM8Ip66mIGzNBgwo",
   "provenance": [
    {
     "file_id": "1gxpzpivZSpj-VxyEzM8Ip66mIGzNBgwo",
     "timestamp": 1663185085212
    }
   ],
   "toc_visible": true
  },
  "gpuClass": "standard",
  "kernelspec": {
   "display_name": "Python 3 (ipykernel)",
   "language": "python",
   "name": "python3"
  },
  "language_info": {
   "codemirror_mode": {
    "name": "ipython",
    "version": 3
   },
   "file_extension": ".py",
   "mimetype": "text/x-python",
   "name": "python",
   "nbconvert_exporter": "python",
   "pygments_lexer": "ipython3",
   "version": "3.9.13"
  }
 },
 "nbformat": 4,
 "nbformat_minor": 4
}
