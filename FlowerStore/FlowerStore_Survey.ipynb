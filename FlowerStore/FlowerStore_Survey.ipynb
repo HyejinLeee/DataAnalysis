{
 "cells": [
  {
   "cell_type": "markdown",
   "id": "db0f3a86-39bc-440f-bec8-b61438dc7556",
   "metadata": {
    "execution": {
     "iopub.execute_input": "2022-12-14T02:49:51.883211Z",
     "iopub.status.busy": "2022-12-14T02:49:51.881898Z",
     "iopub.status.idle": "2022-12-14T02:49:51.906016Z",
     "shell.execute_reply": "2022-12-14T02:49:51.904729Z",
     "shell.execute_reply.started": "2022-12-14T02:49:51.883211Z"
    }
   },
   "source": [
    "### 꽃집데이터 분석"
   ]
  },
  {
   "cell_type": "markdown",
   "id": "4e56f984-5123-45fa-b8b5-eb3dbf7f4c2a",
   "metadata": {},
   "source": [
    "서울 열린데이터 광장에 있는 서울시 사업체조사결과 정보 (2017년) 를 이용한 서울 시내 꽃집에 관해 분석해보았습니다.\n",
    "\n",
    "데이터 출처 : https://data.seoul.go.kr/dataList/datasetView.do?infId=OA-15559&srvType=F&serviceKind=1&currentPageNo=1&searchValue=&searchKey=null"
   ]
  },
  {
   "cell_type": "code",
   "execution_count": 56,
   "id": "eb7ee387-b2b3-480a-b1ae-15e4e8f34236",
   "metadata": {
    "execution": {
     "iopub.execute_input": "2022-12-14T03:22:32.412021Z",
     "iopub.status.busy": "2022-12-14T03:22:32.411021Z",
     "iopub.status.idle": "2022-12-14T03:22:32.437282Z",
     "shell.execute_reply": "2022-12-14T03:22:32.436450Z",
     "shell.execute_reply.started": "2022-12-14T03:22:32.412021Z"
    }
   },
   "outputs": [],
   "source": [
    "import pandas as pd\n",
    "import matplotlib.pyplot as plt"
   ]
  },
  {
   "cell_type": "code",
   "execution_count": 57,
   "id": "5baa5559-5c39-4256-8954-cc4dba744fca",
   "metadata": {
    "execution": {
     "iopub.execute_input": "2022-12-14T03:22:32.440795Z",
     "iopub.status.busy": "2022-12-14T03:22:32.439849Z",
     "iopub.status.idle": "2022-12-14T03:22:34.196352Z",
     "shell.execute_reply": "2022-12-14T03:22:34.194254Z",
     "shell.execute_reply.started": "2022-12-14T03:22:32.440795Z"
    }
   },
   "outputs": [],
   "source": [
    "df = pd.read_csv('data/raw_data.csv')"
   ]
  },
  {
   "cell_type": "code",
   "execution_count": 58,
   "id": "c353e5c7-b401-47ca-88ca-fa09ded4eaad",
   "metadata": {
    "execution": {
     "iopub.execute_input": "2022-12-14T03:22:34.199350Z",
     "iopub.status.busy": "2022-12-14T03:22:34.198352Z",
     "iopub.status.idle": "2022-12-14T03:22:34.257319Z",
     "shell.execute_reply": "2022-12-14T03:22:34.255574Z",
     "shell.execute_reply.started": "2022-12-14T03:22:34.199350Z"
    }
   },
   "outputs": [
    {
     "data": {
      "text/html": [
       "<div>\n",
       "<style scoped>\n",
       "    .dataframe tbody tr th:only-of-type {\n",
       "        vertical-align: middle;\n",
       "    }\n",
       "\n",
       "    .dataframe tbody tr th {\n",
       "        vertical-align: top;\n",
       "    }\n",
       "\n",
       "    .dataframe thead th {\n",
       "        text-align: right;\n",
       "    }\n",
       "</style>\n",
       "<table border=\"1\" class=\"dataframe\">\n",
       "  <thead>\n",
       "    <tr style=\"text-align: right;\">\n",
       "      <th></th>\n",
       "      <th>행정구역코드</th>\n",
       "      <th>대표자성별</th>\n",
       "      <th>대표자연령대</th>\n",
       "      <th>창업년도</th>\n",
       "      <th>창업월</th>\n",
       "      <th>조직형태코드</th>\n",
       "      <th>사업체구분코드</th>\n",
       "      <th>주산업산업분류코드</th>\n",
       "      <th>자영업자합계</th>\n",
       "      <th>자영업자남</th>\n",
       "      <th>...</th>\n",
       "      <th>상용근로자여</th>\n",
       "      <th>임시및일용근로자합계</th>\n",
       "      <th>임시및일용근로자남</th>\n",
       "      <th>임시및일용근로자여</th>\n",
       "      <th>기타종사자합계</th>\n",
       "      <th>기타종사자남</th>\n",
       "      <th>기타종사자여</th>\n",
       "      <th>종사자합계</th>\n",
       "      <th>종사자수남</th>\n",
       "      <th>종사자수여</th>\n",
       "    </tr>\n",
       "  </thead>\n",
       "  <tbody>\n",
       "    <tr>\n",
       "      <th>0</th>\n",
       "      <td>1121078</td>\n",
       "      <td>1</td>\n",
       "      <td>6</td>\n",
       "      <td>2006</td>\n",
       "      <td>9</td>\n",
       "      <td>1</td>\n",
       "      <td>1</td>\n",
       "      <td>46417</td>\n",
       "      <td>1.0</td>\n",
       "      <td>1.0</td>\n",
       "      <td>...</td>\n",
       "      <td>NaN</td>\n",
       "      <td>0.0</td>\n",
       "      <td>NaN</td>\n",
       "      <td>NaN</td>\n",
       "      <td>0.0</td>\n",
       "      <td>NaN</td>\n",
       "      <td>NaN</td>\n",
       "      <td>1</td>\n",
       "      <td>1.0</td>\n",
       "      <td>0.0</td>\n",
       "    </tr>\n",
       "    <tr>\n",
       "      <th>1</th>\n",
       "      <td>1118054</td>\n",
       "      <td>1</td>\n",
       "      <td>5</td>\n",
       "      <td>2005</td>\n",
       "      <td>5</td>\n",
       "      <td>1</td>\n",
       "      <td>1</td>\n",
       "      <td>68221</td>\n",
       "      <td>1.0</td>\n",
       "      <td>1.0</td>\n",
       "      <td>...</td>\n",
       "      <td>NaN</td>\n",
       "      <td>0.0</td>\n",
       "      <td>NaN</td>\n",
       "      <td>NaN</td>\n",
       "      <td>0.0</td>\n",
       "      <td>NaN</td>\n",
       "      <td>NaN</td>\n",
       "      <td>1</td>\n",
       "      <td>1.0</td>\n",
       "      <td>0.0</td>\n",
       "    </tr>\n",
       "    <tr>\n",
       "      <th>2</th>\n",
       "      <td>1114066</td>\n",
       "      <td>1</td>\n",
       "      <td>5</td>\n",
       "      <td>2001</td>\n",
       "      <td>12</td>\n",
       "      <td>2</td>\n",
       "      <td>2</td>\n",
       "      <td>47919</td>\n",
       "      <td>NaN</td>\n",
       "      <td>NaN</td>\n",
       "      <td>...</td>\n",
       "      <td>22.0</td>\n",
       "      <td>NaN</td>\n",
       "      <td>NaN</td>\n",
       "      <td>NaN</td>\n",
       "      <td>NaN</td>\n",
       "      <td>NaN</td>\n",
       "      <td>NaN</td>\n",
       "      <td>30</td>\n",
       "      <td>8.0</td>\n",
       "      <td>22.0</td>\n",
       "    </tr>\n",
       "    <tr>\n",
       "      <th>3</th>\n",
       "      <td>1125066</td>\n",
       "      <td>2</td>\n",
       "      <td>6</td>\n",
       "      <td>2007</td>\n",
       "      <td>10</td>\n",
       "      <td>1</td>\n",
       "      <td>1</td>\n",
       "      <td>91223</td>\n",
       "      <td>1.0</td>\n",
       "      <td>NaN</td>\n",
       "      <td>...</td>\n",
       "      <td>NaN</td>\n",
       "      <td>0.0</td>\n",
       "      <td>NaN</td>\n",
       "      <td>NaN</td>\n",
       "      <td>0.0</td>\n",
       "      <td>NaN</td>\n",
       "      <td>NaN</td>\n",
       "      <td>1</td>\n",
       "      <td>0.0</td>\n",
       "      <td>1.0</td>\n",
       "    </tr>\n",
       "    <tr>\n",
       "      <th>4</th>\n",
       "      <td>1121080</td>\n",
       "      <td>1</td>\n",
       "      <td>4</td>\n",
       "      <td>2015</td>\n",
       "      <td>7</td>\n",
       "      <td>1</td>\n",
       "      <td>1</td>\n",
       "      <td>90212</td>\n",
       "      <td>1.0</td>\n",
       "      <td>1.0</td>\n",
       "      <td>...</td>\n",
       "      <td>1.0</td>\n",
       "      <td>0.0</td>\n",
       "      <td>NaN</td>\n",
       "      <td>NaN</td>\n",
       "      <td>0.0</td>\n",
       "      <td>NaN</td>\n",
       "      <td>NaN</td>\n",
       "      <td>2</td>\n",
       "      <td>1.0</td>\n",
       "      <td>1.0</td>\n",
       "    </tr>\n",
       "  </tbody>\n",
       "</table>\n",
       "<p>5 rows × 26 columns</p>\n",
       "</div>"
      ],
      "text/plain": [
       "    행정구역코드  대표자성별  대표자연령대  창업년도  창업월  조직형태코드  사업체구분코드  주산업산업분류코드  자영업자합계  \\\n",
       "0  1121078      1       6  2006    9       1        1      46417     1.0   \n",
       "1  1118054      1       5  2005    5       1        1      68221     1.0   \n",
       "2  1114066      1       5  2001   12       2        2      47919     NaN   \n",
       "3  1125066      2       6  2007   10       1        1      91223     1.0   \n",
       "4  1121080      1       4  2015    7       1        1      90212     1.0   \n",
       "\n",
       "   자영업자남  ...  상용근로자여  임시및일용근로자합계  임시및일용근로자남  임시및일용근로자여  기타종사자합계  기타종사자남  \\\n",
       "0    1.0  ...     NaN         0.0        NaN        NaN      0.0     NaN   \n",
       "1    1.0  ...     NaN         0.0        NaN        NaN      0.0     NaN   \n",
       "2    NaN  ...    22.0         NaN        NaN        NaN      NaN     NaN   \n",
       "3    NaN  ...     NaN         0.0        NaN        NaN      0.0     NaN   \n",
       "4    1.0  ...     1.0         0.0        NaN        NaN      0.0     NaN   \n",
       "\n",
       "   기타종사자여  종사자합계  종사자수남  종사자수여  \n",
       "0     NaN      1    1.0    0.0  \n",
       "1     NaN      1    1.0    0.0  \n",
       "2     NaN     30    8.0   22.0  \n",
       "3     NaN      1    0.0    1.0  \n",
       "4     NaN      2    1.0    1.0  \n",
       "\n",
       "[5 rows x 26 columns]"
      ]
     },
     "execution_count": 58,
     "metadata": {},
     "output_type": "execute_result"
    }
   ],
   "source": [
    "df.head()"
   ]
  },
  {
   "cell_type": "markdown",
   "id": "fed08838-cc3e-4971-afe9-cc74bfb75b09",
   "metadata": {},
   "source": [
    "전체 data 길이를 확인해본다. 총 822863개 이다."
   ]
  },
  {
   "cell_type": "code",
   "execution_count": 59,
   "id": "1137eb1f-df08-4c1c-88b7-94105b494610",
   "metadata": {
    "execution": {
     "iopub.execute_input": "2022-12-14T03:22:34.261603Z",
     "iopub.status.busy": "2022-12-14T03:22:34.261603Z",
     "iopub.status.idle": "2022-12-14T03:22:34.273962Z",
     "shell.execute_reply": "2022-12-14T03:22:34.271305Z",
     "shell.execute_reply.started": "2022-12-14T03:22:34.261603Z"
    }
   },
   "outputs": [
    {
     "data": {
      "text/plain": [
       "822863"
      ]
     },
     "execution_count": 59,
     "metadata": {},
     "output_type": "execute_result"
    }
   ],
   "source": [
    "len(df)"
   ]
  },
  {
   "cell_type": "markdown",
   "id": "b97ef78f-5994-445f-b184-dfd72d468f2c",
   "metadata": {
    "execution": {
     "iopub.execute_input": "2022-12-14T03:01:34.992211Z",
     "iopub.status.busy": "2022-12-14T03:01:34.992211Z",
     "iopub.status.idle": "2022-12-14T03:01:35.023652Z",
     "shell.execute_reply": "2022-12-14T03:01:35.021435Z",
     "shell.execute_reply.started": "2022-12-14T03:01:34.992211Z"
    }
   },
   "source": [
    "필드별 null data 비율을 확인해본다."
   ]
  },
  {
   "cell_type": "code",
   "execution_count": 60,
   "id": "48c66481-4d7b-4cb3-9d9d-941da0637a2b",
   "metadata": {
    "execution": {
     "iopub.execute_input": "2022-12-14T03:22:34.276969Z",
     "iopub.status.busy": "2022-12-14T03:22:34.275969Z",
     "iopub.status.idle": "2022-12-14T03:22:34.368252Z",
     "shell.execute_reply": "2022-12-14T03:22:34.364661Z",
     "shell.execute_reply.started": "2022-12-14T03:22:34.276969Z"
    }
   },
   "outputs": [
    {
     "data": {
      "text/plain": [
       "행정구역코드        0.000000\n",
       "대표자성별         0.000000\n",
       "대표자연령대        0.000000\n",
       "창업년도          0.000000\n",
       "창업월           0.000000\n",
       "조직형태코드        0.000000\n",
       "사업체구분코드       0.000000\n",
       "주산업산업분류코드     0.000000\n",
       "자영업자합계        0.035191\n",
       "자영업자남         0.518301\n",
       "자영업자여         0.598785\n",
       "무급가족종사자합계     0.183716\n",
       "무급가족종사자남      0.935914\n",
       "무급가족종사자여      0.911758\n",
       "상용근로자합계       0.130164\n",
       "상용근로자남        0.657496\n",
       "상용근로자여        0.663617\n",
       "임시및일용근로자합계    0.153486\n",
       "임시및일용근로자남     0.904641\n",
       "임시및일용근로자여     0.864573\n",
       "기타종사자합계       0.189109\n",
       "기타종사자남        0.978935\n",
       "기타종사자여        0.976628\n",
       "종사자합계         0.000000\n",
       "종사자수남         0.010959\n",
       "종사자수여         0.016567\n",
       "dtype: float64"
      ]
     },
     "execution_count": 60,
     "metadata": {},
     "output_type": "execute_result"
    }
   ],
   "source": [
    "df.isnull().sum() / len(df)"
   ]
  },
  {
   "cell_type": "markdown",
   "id": "e94d0d2c-2eba-43fe-b18c-d10817eb478a",
   "metadata": {},
   "source": [
    "꽃집에 대한 것만 알아볼 예정이기에, 주산업분류코드 가 47851 (화초 및 식물 소매업) 인 데이터만 추출해본다.\n",
    "산업분류코드는 위 데이터 출처에 별도로 첨부되어 있다. 개수는 총 3108 이다."
   ]
  },
  {
   "cell_type": "code",
   "execution_count": 61,
   "id": "7c4ea5e9-e354-47b5-ad99-2e2b598fb0ed",
   "metadata": {
    "execution": {
     "iopub.execute_input": "2022-12-14T03:22:34.371823Z",
     "iopub.status.busy": "2022-12-14T03:22:34.370610Z",
     "iopub.status.idle": "2022-12-14T03:22:34.414442Z",
     "shell.execute_reply": "2022-12-14T03:22:34.412078Z",
     "shell.execute_reply.started": "2022-12-14T03:22:34.371823Z"
    }
   },
   "outputs": [
    {
     "data": {
      "text/plain": [
       "행정구역코드        3108\n",
       "대표자성별         3108\n",
       "대표자연령대        3108\n",
       "창업년도          3108\n",
       "창업월           3108\n",
       "조직형태코드        3108\n",
       "사업체구분코드       3108\n",
       "주산업산업분류코드     3108\n",
       "자영업자합계        3091\n",
       "자영업자남          903\n",
       "자영업자여         2153\n",
       "무급가족종사자합계     2916\n",
       "무급가족종사자남       201\n",
       "무급가족종사자여       375\n",
       "상용근로자합계       2972\n",
       "상용근로자남         166\n",
       "상용근로자여         335\n",
       "임시및일용근로자합계    2966\n",
       "임시및일용근로자남       60\n",
       "임시및일용근로자여      201\n",
       "기타종사자합계       2895\n",
       "기타종사자남          17\n",
       "기타종사자여          19\n",
       "종사자합계         3108\n",
       "종사자수남         3006\n",
       "종사자수여         3075\n",
       "dtype: int64"
      ]
     },
     "execution_count": 61,
     "metadata": {},
     "output_type": "execute_result"
    }
   ],
   "source": [
    "df.loc[ df['주산업산업분류코드']==47851 ].count()"
   ]
  },
  {
   "cell_type": "markdown",
   "id": "b5b18269-645b-428f-956a-cd4e7c57aac9",
   "metadata": {},
   "source": [
    "#### 1. 대표자 성별과 연령대¶"
   ]
  },
  {
   "cell_type": "code",
   "execution_count": 62,
   "id": "10bef26b-478f-4ab0-9258-3ff8b5747e38",
   "metadata": {
    "execution": {
     "iopub.execute_input": "2022-12-14T03:22:34.418829Z",
     "iopub.status.busy": "2022-12-14T03:22:34.416622Z",
     "iopub.status.idle": "2022-12-14T03:22:34.459173Z",
     "shell.execute_reply": "2022-12-14T03:22:34.457897Z",
     "shell.execute_reply.started": "2022-12-14T03:22:34.418700Z"
    }
   },
   "outputs": [],
   "source": [
    "df_flower = df.loc[ df['주산업산업분류코드']==47851 ]"
   ]
  },
  {
   "cell_type": "markdown",
   "id": "5df7b475-8276-492a-9506-d4e3e443f6f8",
   "metadata": {},
   "source": [
    "대표자 성별과 연령대를 살펴보겠다.   \n",
    "데이터 출처에 첨부된 필드 설명에 따라 성별은 \"1\":남, \"2\":여 이며,  \n",
    "연령대는 \"1\":10대, \"2\":20대, …, \"9\":90대 이다.  "
   ]
  },
  {
   "cell_type": "code",
   "execution_count": 63,
   "id": "e289c3a7-dbc6-49fc-a901-61f240383ce2",
   "metadata": {
    "execution": {
     "iopub.execute_input": "2022-12-14T03:22:34.460023Z",
     "iopub.status.busy": "2022-12-14T03:22:34.460023Z",
     "iopub.status.idle": "2022-12-14T03:22:34.476199Z",
     "shell.execute_reply": "2022-12-14T03:22:34.473095Z",
     "shell.execute_reply.started": "2022-12-14T03:22:34.460023Z"
    }
   },
   "outputs": [
    {
     "data": {
      "text/plain": [
       "2    2177\n",
       "1     931\n",
       "Name: 대표자성별, dtype: int64"
      ]
     },
     "execution_count": 63,
     "metadata": {},
     "output_type": "execute_result"
    }
   ],
   "source": [
    "df_flower['대표자성별'].value_counts() "
   ]
  },
  {
   "cell_type": "code",
   "execution_count": 64,
   "id": "37815e63-6e4f-42d8-b6b7-c6bad14f076d",
   "metadata": {
    "execution": {
     "iopub.execute_input": "2022-12-14T03:22:34.479638Z",
     "iopub.status.busy": "2022-12-14T03:22:34.478357Z",
     "iopub.status.idle": "2022-12-14T03:22:34.505566Z",
     "shell.execute_reply": "2022-12-14T03:22:34.503545Z",
     "shell.execute_reply.started": "2022-12-14T03:22:34.479638Z"
    }
   },
   "outputs": [
    {
     "data": {
      "text/plain": [
       "2    0.70045\n",
       "1    0.29955\n",
       "Name: 대표자성별, dtype: float64"
      ]
     },
     "execution_count": 64,
     "metadata": {},
     "output_type": "execute_result"
    }
   ],
   "source": [
    "df_flower['대표자성별'].value_counts() / len(df_flower)"
   ]
  },
  {
   "cell_type": "markdown",
   "id": "5ed25be1-ad50-4bd9-94cd-c1f5932827e0",
   "metadata": {},
   "source": [
    "대표자 성별은 70% 가 여성, 30% 가 남성이다."
   ]
  },
  {
   "cell_type": "code",
   "execution_count": 65,
   "id": "59dd747d-6c22-4504-83b7-8dba90873f5f",
   "metadata": {
    "execution": {
     "iopub.execute_input": "2022-12-14T03:22:34.511685Z",
     "iopub.status.busy": "2022-12-14T03:22:34.509823Z",
     "iopub.status.idle": "2022-12-14T03:22:34.535016Z",
     "shell.execute_reply": "2022-12-14T03:22:34.533506Z",
     "shell.execute_reply.started": "2022-12-14T03:22:34.511685Z"
    }
   },
   "outputs": [
    {
     "data": {
      "text/plain": [
       "5    947\n",
       "4    650\n",
       "6    580\n",
       "3    567\n",
       "7    192\n",
       "2    157\n",
       "8     14\n",
       "1      1\n",
       "Name: 대표자연령대, dtype: int64"
      ]
     },
     "execution_count": 65,
     "metadata": {},
     "output_type": "execute_result"
    }
   ],
   "source": [
    "df_flower['대표자연령대'].value_counts() "
   ]
  },
  {
   "cell_type": "code",
   "execution_count": 66,
   "id": "63eb595e-0b4e-4728-8859-097651acad95",
   "metadata": {
    "execution": {
     "iopub.execute_input": "2022-12-14T03:22:34.539472Z",
     "iopub.status.busy": "2022-12-14T03:22:34.537165Z",
     "iopub.status.idle": "2022-12-14T03:22:34.549862Z",
     "shell.execute_reply": "2022-12-14T03:22:34.548861Z",
     "shell.execute_reply.started": "2022-12-14T03:22:34.539472Z"
    }
   },
   "outputs": [
    {
     "data": {
      "text/plain": [
       "5    0.304698\n",
       "4    0.209138\n",
       "6    0.186615\n",
       "3    0.182432\n",
       "7    0.061776\n",
       "2    0.050515\n",
       "8    0.004505\n",
       "1    0.000322\n",
       "Name: 대표자연령대, dtype: float64"
      ]
     },
     "execution_count": 66,
     "metadata": {},
     "output_type": "execute_result"
    }
   ],
   "source": [
    "df_flower['대표자연령대'].value_counts() / len(df_flower)"
   ]
  },
  {
   "cell_type": "markdown",
   "id": "2db083ed-0e8c-48d1-a9b6-5a42673e2730",
   "metadata": {},
   "source": [
    "대표자 연령대는 50 대가 30%, 40대가 20%, 60 대, 30 대가 약 18% 정도이다."
   ]
  },
  {
   "cell_type": "markdown",
   "id": "6d9f65b7-b44b-4fd7-8574-9e7c871e61da",
   "metadata": {
    "execution": {
     "iopub.execute_input": "2022-12-14T03:03:33.077361Z",
     "iopub.status.busy": "2022-12-14T03:03:33.077361Z",
     "iopub.status.idle": "2022-12-14T03:03:33.097219Z",
     "shell.execute_reply": "2022-12-14T03:03:33.095720Z",
     "shell.execute_reply.started": "2022-12-14T03:03:33.077361Z"
    }
   },
   "source": [
    "#### 2. 창업연도와 그에 따른 대표자 연령대"
   ]
  },
  {
   "cell_type": "code",
   "execution_count": 67,
   "id": "021aef5e-43b1-4988-b9b5-d649634dce3e",
   "metadata": {
    "execution": {
     "iopub.execute_input": "2022-12-14T03:22:34.551246Z",
     "iopub.status.busy": "2022-12-14T03:22:34.551246Z",
     "iopub.status.idle": "2022-12-14T03:22:34.565558Z",
     "shell.execute_reply": "2022-12-14T03:22:34.563452Z",
     "shell.execute_reply.started": "2022-12-14T03:22:34.551246Z"
    }
   },
   "outputs": [
    {
     "data": {
      "text/plain": [
       "2017    325\n",
       "2016    318\n",
       "2010    247\n",
       "2015    223\n",
       "2014    181\n",
       "2013    146\n",
       "2012    113\n",
       "2002    107\n",
       "2009    104\n",
       "2006    103\n",
       "2011     99\n",
       "2008     97\n",
       "2000     87\n",
       "2001     83\n",
       "2005     83\n",
       "2007     81\n",
       "2003     79\n",
       "1999     72\n",
       "2004     66\n",
       "1997     62\n",
       "1996     55\n",
       "1998     50\n",
       "1991     46\n",
       "1994     41\n",
       "1995     39\n",
       "1993     28\n",
       "1988     24\n",
       "1989     22\n",
       "1987     22\n",
       "1985     18\n",
       "1992     15\n",
       "1990     14\n",
       "1986     10\n",
       "1983     10\n",
       "1984      8\n",
       "1981      7\n",
       "1977      5\n",
       "1980      4\n",
       "1972      3\n",
       "1978      3\n",
       "1979      2\n",
       "1971      2\n",
       "1974      1\n",
       "1976      1\n",
       "1973      1\n",
       "1982      1\n",
       "Name: 창업년도, dtype: int64"
      ]
     },
     "execution_count": 67,
     "metadata": {},
     "output_type": "execute_result"
    }
   ],
   "source": [
    "df_flower['창업년도'].value_counts() "
   ]
  },
  {
   "cell_type": "markdown",
   "id": "16c31eb2-f60b-4be5-90e9-caa191b3dded",
   "metadata": {},
   "source": [
    "2015-2017년에 창업된 꽃집은 약 28% 이다.\n",
    "최근에 창업된 꽃집이 전체의 약 1/3 못 미친다고 볼 수 있겠다. 꽤 높은 비율이라고 생각한다."
   ]
  },
  {
   "cell_type": "code",
   "execution_count": 68,
   "id": "f7a75776-a3df-4317-8cc6-cc06bfd01a66",
   "metadata": {
    "execution": {
     "iopub.execute_input": "2022-12-14T03:22:34.572204Z",
     "iopub.status.busy": "2022-12-14T03:22:34.571664Z",
     "iopub.status.idle": "2022-12-14T03:22:34.595040Z",
     "shell.execute_reply": "2022-12-14T03:22:34.594252Z",
     "shell.execute_reply.started": "2022-12-14T03:22:34.572204Z"
    }
   },
   "outputs": [
    {
     "data": {
      "text/plain": [
       "0.27863577863577865"
      ]
     },
     "execution_count": 68,
     "metadata": {},
     "output_type": "execute_result"
    }
   ],
   "source": [
    "len(df_flower.loc[ (df_flower['창업년도'] == 2017 ) | (df_flower['창업년도'] == 2016 ) | (df_flower['창업년도'] == 2015 ) ] ) \\\n",
    "/ len(df_flower)"
   ]
  },
  {
   "cell_type": "markdown",
   "id": "d5556134-0b8a-4708-87d1-f3619aef7a4d",
   "metadata": {},
   "source": [
    "2012-2014년에 창업된 꽃집은 약 14% 이다."
   ]
  },
  {
   "cell_type": "code",
   "execution_count": 69,
   "id": "4fd77d99-28c2-4fb4-8608-ea267e5bf57a",
   "metadata": {
    "execution": {
     "iopub.execute_input": "2022-12-14T03:22:34.599840Z",
     "iopub.status.busy": "2022-12-14T03:22:34.599840Z",
     "iopub.status.idle": "2022-12-14T03:22:34.629187Z",
     "shell.execute_reply": "2022-12-14T03:22:34.625986Z",
     "shell.execute_reply.started": "2022-12-14T03:22:34.599840Z"
    }
   },
   "outputs": [
    {
     "data": {
      "text/plain": [
       "0.14157014157014158"
      ]
     },
     "execution_count": 69,
     "metadata": {},
     "output_type": "execute_result"
    }
   ],
   "source": [
    "len(df_flower.loc[ (df_flower['창업년도'] == 2012 ) | (df_flower['창업년도'] == 2013 ) | (df_flower['창업년도'] == 2014 ) ] ) \\\n",
    "/ len(df_flower)"
   ]
  },
  {
   "cell_type": "markdown",
   "id": "e7d0a055-2c8f-4ef2-aa09-b9b8ea77d64b",
   "metadata": {},
   "source": [
    "최근 6년간 창업된 꽃집이 전체의 42% 이다. \n",
    "오래 사업을 이어가는 비율이 적다고 생각할 수도 있겠다. "
   ]
  },
  {
   "cell_type": "code",
   "execution_count": 70,
   "id": "bca4220a-1c34-4b92-96a6-43d0071e0649",
   "metadata": {
    "execution": {
     "iopub.execute_input": "2022-12-14T03:22:34.634632Z",
     "iopub.status.busy": "2022-12-14T03:22:34.631049Z",
     "iopub.status.idle": "2022-12-14T03:22:34.659230Z",
     "shell.execute_reply": "2022-12-14T03:22:34.656805Z",
     "shell.execute_reply.started": "2022-12-14T03:22:34.634632Z"
    }
   },
   "outputs": [
    {
     "data": {
      "text/plain": [
       "0.435006435006435"
      ]
     },
     "execution_count": 70,
     "metadata": {},
     "output_type": "execute_result"
    }
   ],
   "source": [
    "len(df_flower.loc[ (df_flower['창업년도'] <= 2008 ) ] ) / len(df_flower)"
   ]
  },
  {
   "cell_type": "markdown",
   "id": "de37a5b1-7027-49a4-9412-25fae0f9e621",
   "metadata": {},
   "source": [
    "최근 6년간 창업된 꽃집의 대표자 연령대를 살펴보겠다."
   ]
  },
  {
   "cell_type": "code",
   "execution_count": 71,
   "id": "5b7b23e5-6d67-4fa6-87c1-3ce204a94f45",
   "metadata": {
    "execution": {
     "iopub.execute_input": "2022-12-14T03:22:34.662947Z",
     "iopub.status.busy": "2022-12-14T03:22:34.660712Z",
     "iopub.status.idle": "2022-12-14T03:22:34.704642Z",
     "shell.execute_reply": "2022-12-14T03:22:34.702455Z",
     "shell.execute_reply.started": "2022-12-14T03:22:34.662947Z"
    }
   },
   "outputs": [
    {
     "data": {
      "text/plain": [
       "3    471\n",
       "4    296\n",
       "5    266\n",
       "2    152\n",
       "6     98\n",
       "7     19\n",
       "8      3\n",
       "1      1\n",
       "Name: 대표자연령대, dtype: int64"
      ]
     },
     "execution_count": 71,
     "metadata": {},
     "output_type": "execute_result"
    }
   ],
   "source": [
    "df_flower.loc[ (df_flower['창업년도'] >= 2012 ) ]['대표자연령대'].value_counts() "
   ]
  },
  {
   "cell_type": "code",
   "execution_count": 72,
   "id": "00cd2f11-8adb-4cd0-9ae4-a7132fc1cd60",
   "metadata": {
    "execution": {
     "iopub.execute_input": "2022-12-14T03:22:34.706935Z",
     "iopub.status.busy": "2022-12-14T03:22:34.706105Z",
     "iopub.status.idle": "2022-12-14T03:22:34.736540Z",
     "shell.execute_reply": "2022-12-14T03:22:34.733185Z",
     "shell.execute_reply.started": "2022-12-14T03:22:34.706935Z"
    }
   },
   "outputs": [
    {
     "data": {
      "text/plain": [
       "3    0.360643\n",
       "4    0.226646\n",
       "5    0.203675\n",
       "2    0.116386\n",
       "6    0.075038\n",
       "7    0.014548\n",
       "8    0.002297\n",
       "1    0.000766\n",
       "Name: 대표자연령대, dtype: float64"
      ]
     },
     "execution_count": 72,
     "metadata": {},
     "output_type": "execute_result"
    }
   ],
   "source": [
    "df_flower.loc[ (df_flower['창업년도'] >= 2012 ) ]['대표자연령대'].value_counts()  / len(df_flower.loc[ (df_flower['창업년도'] >= 2012 ) ])"
   ]
  },
  {
   "cell_type": "markdown",
   "id": "7296ece9-5d1b-4814-b419-a760d7564b1c",
   "metadata": {},
   "source": [
    "최근 6년간 창업된 꽃집은 약 42%이며,, 이들의 대표자 연령대는 30대가 36%, 40대가 23% 를 차지한다.  \n",
    "10년 이상 사업을 이어가는 꽃집(2008년도 포함 그 이전 창업)은 약 43% 이다.  \n",
    "10년 이상 창업을 이어가는 꽃집의 대표자 연령대를 살펴보자.  "
   ]
  },
  {
   "cell_type": "code",
   "execution_count": 73,
   "id": "f42786b1-bb5a-42f7-9f68-45beebbd0c74",
   "metadata": {
    "execution": {
     "iopub.execute_input": "2022-12-14T03:22:34.740602Z",
     "iopub.status.busy": "2022-12-14T03:22:34.739318Z",
     "iopub.status.idle": "2022-12-14T03:22:34.765656Z",
     "shell.execute_reply": "2022-12-14T03:22:34.763656Z",
     "shell.execute_reply.started": "2022-12-14T03:22:34.740494Z"
    }
   },
   "outputs": [
    {
     "data": {
      "text/plain": [
       "5    552\n",
       "6    381\n",
       "4    240\n",
       "7    127\n",
       "3     39\n",
       "8     10\n",
       "2      3\n",
       "Name: 대표자연령대, dtype: int64"
      ]
     },
     "execution_count": 73,
     "metadata": {},
     "output_type": "execute_result"
    }
   ],
   "source": [
    "df_flower.loc[ (df_flower['창업년도'] <= 2008 ) ]['대표자연령대'].value_counts() "
   ]
  },
  {
   "cell_type": "code",
   "execution_count": 74,
   "id": "b4e5024c-e9ff-4e64-80b8-fb58e8ada2cd",
   "metadata": {
    "execution": {
     "iopub.execute_input": "2022-12-14T03:22:34.769089Z",
     "iopub.status.busy": "2022-12-14T03:22:34.768033Z",
     "iopub.status.idle": "2022-12-14T03:22:34.795789Z",
     "shell.execute_reply": "2022-12-14T03:22:34.794288Z",
     "shell.execute_reply.started": "2022-12-14T03:22:34.769089Z"
    }
   },
   "outputs": [
    {
     "data": {
      "text/plain": [
       "5    0.408284\n",
       "6    0.281805\n",
       "4    0.177515\n",
       "7    0.093935\n",
       "3    0.028846\n",
       "8    0.007396\n",
       "2    0.002219\n",
       "Name: 대표자연령대, dtype: float64"
      ]
     },
     "execution_count": 74,
     "metadata": {},
     "output_type": "execute_result"
    }
   ],
   "source": [
    "df_flower.loc[ (df_flower['창업년도']<= 2008 ) ]['대표자연령대'].value_counts()  / len(df_flower.loc[ (df_flower['창업년도'] <= 2008 ) ])"
   ]
  },
  {
   "cell_type": "markdown",
   "id": "67c4d03d-3788-4c58-bbff-f67b63cc92ab",
   "metadata": {},
   "source": [
    "10년 이상 사업을 이어가는 꽃집(2008년도 포함 그 이전 창업)은 약 43% 이며, 이들의 대표자 연령대는 50대가 41%, 60대가 28%이다."
   ]
  },
  {
   "cell_type": "code",
   "execution_count": 75,
   "id": "da0b8791-ade8-4d87-9500-502c223dd41c",
   "metadata": {
    "execution": {
     "iopub.execute_input": "2022-12-14T03:22:34.797986Z",
     "iopub.status.busy": "2022-12-14T03:22:34.797486Z",
     "iopub.status.idle": "2022-12-14T03:22:35.131419Z",
     "shell.execute_reply": "2022-12-14T03:22:35.130921Z",
     "shell.execute_reply.started": "2022-12-14T03:22:34.797986Z"
    }
   },
   "outputs": [
    {
     "data": {
      "image/png": "[encoded data removed]",
      "text/plain": [
       "<Figure size 640x480 with 1 Axes>"
      ]
     },
     "metadata": {},
     "output_type": "display_data"
    }
   ],
   "source": [
    "df_flower[\"창업년도\"].plot.hist(bins=50)\n",
    "plt.show()"
   ]
  },
  {
   "cell_type": "markdown",
   "id": "8c8429b1-4c6e-484b-a8ef-c39d3a2ff0ab",
   "metadata": {},
   "source": [
    "#### 3. 조직 형태와 사업체 구분 코드"
   ]
  },
  {
   "cell_type": "markdown",
   "id": "5a9ec74e-9561-4b31-88de-1ddc6cc0ead1",
   "metadata": {},
   "source": [
    "조직형태코드   \n",
    "\"1\":개인사업체, \"2\":회사법인, \"3\":회사이외법인, \"4\":비법인단체, \"5\":국가,지방자치단체"
   ]
  },
  {
   "cell_type": "code",
   "execution_count": 76,
   "id": "59bb31ff-e604-4259-b600-d6ac3ad2f696",
   "metadata": {
    "execution": {
     "iopub.execute_input": "2022-12-14T03:22:35.134613Z",
     "iopub.status.busy": "2022-12-14T03:22:35.134613Z",
     "iopub.status.idle": "2022-12-14T03:22:35.161578Z",
     "shell.execute_reply": "2022-12-14T03:22:35.161578Z",
     "shell.execute_reply.started": "2022-12-14T03:22:35.134613Z"
    }
   },
   "outputs": [
    {
     "data": {
      "text/plain": [
       "1    3041\n",
       "2      57\n",
       "3      10\n",
       "Name: 조직형태코드, dtype: int64"
      ]
     },
     "execution_count": 76,
     "metadata": {},
     "output_type": "execute_result"
    }
   ],
   "source": [
    "df_flower['조직형태코드'].value_counts() "
   ]
  },
  {
   "cell_type": "markdown",
   "id": "fa2c9e3e-e3ed-4783-bd18-f9010892207e",
   "metadata": {
    "execution": {
     "iopub.execute_input": "2022-12-14T03:06:07.746148Z",
     "iopub.status.busy": "2022-12-14T03:06:07.746148Z",
     "iopub.status.idle": "2022-12-14T03:06:07.773709Z",
     "shell.execute_reply": "2022-12-14T03:06:07.771624Z",
     "shell.execute_reply.started": "2022-12-14T03:06:07.746148Z"
    }
   },
   "source": [
    "조직형태코드는 개인사업체 형태(1) 가 압도적으로 많다."
   ]
  },
  {
   "cell_type": "markdown",
   "id": "532f2d93-08ea-4ce2-8235-937b633d1464",
   "metadata": {
    "execution": {
     "iopub.execute_input": "2022-12-14T03:06:19.237092Z",
     "iopub.status.busy": "2022-12-14T03:06:19.235517Z",
     "iopub.status.idle": "2022-12-14T03:06:19.262729Z",
     "shell.execute_reply": "2022-12-14T03:06:19.259460Z",
     "shell.execute_reply.started": "2022-12-14T03:06:19.236592Z"
    }
   },
   "source": [
    "사업체구분코드  \n",
    "\"1\":단독사업체, \"2\":본사,본점 등, \"3\":공장, 지사(점),영업소 등"
   ]
  },
  {
   "cell_type": "code",
   "execution_count": 77,
   "id": "231027f3-6eb2-416a-a646-f0b2af2ad070",
   "metadata": {
    "execution": {
     "iopub.execute_input": "2022-12-14T03:22:35.162956Z",
     "iopub.status.busy": "2022-12-14T03:22:35.162956Z",
     "iopub.status.idle": "2022-12-14T03:22:35.178511Z",
     "shell.execute_reply": "2022-12-14T03:22:35.177013Z",
     "shell.execute_reply.started": "2022-12-14T03:22:35.162956Z"
    }
   },
   "outputs": [
    {
     "data": {
      "text/plain": [
       "1    3087\n",
       "3      16\n",
       "2       5\n",
       "Name: 사업체구분코드, dtype: int64"
      ]
     },
     "execution_count": 77,
     "metadata": {},
     "output_type": "execute_result"
    }
   ],
   "source": [
    "df_flower['사업체구분코드'].value_counts() "
   ]
  },
  {
   "cell_type": "markdown",
   "id": "1e55bdbe-bf66-42ba-91f2-8165079d4eae",
   "metadata": {},
   "source": [
    "사업체구분코드는 단독사업체(1) 가 압도적으로 많다.  \n",
    "결론적으로 주산업분류코드 가 47851 (화초 및 식물 소매업)은, 개인사업체이며, 단독사업체 형태가 압도적으로 많다."
   ]
  },
  {
   "cell_type": "markdown",
   "id": "ee70e3bf-101d-4d3e-a48d-6c404bbdb4ab",
   "metadata": {
    "execution": {
     "iopub.execute_input": "2022-12-14T03:06:47.236838Z",
     "iopub.status.busy": "2022-12-14T03:06:47.236838Z",
     "iopub.status.idle": "2022-12-14T03:06:47.243547Z",
     "shell.execute_reply": "2022-12-14T03:06:47.243047Z",
     "shell.execute_reply.started": "2022-12-14T03:06:47.236838Z"
    }
   },
   "source": [
    "#### 4. 종사자 수"
   ]
  },
  {
   "cell_type": "markdown",
   "id": "a322ee8f-9ca1-491f-b5b0-3d5d247237e0",
   "metadata": {},
   "source": [
    "다음은 2017년 기준 사업체조사 조사표에 있는 내용이다.  \n",
    "종 사 자 수 (단위 : 명)  \n",
    "\n",
    "\n",
    "•자영업자 : 개인사업체를 소유하며 자신의 책임하에 직접 경영하는 자 (※ 법인사업체의 대표자는 자영업자가 아님)  \n",
    "\n",
    "•무급가족종사자 : 자영업자의 가족이나 친인척으로서 임금을 받지 않고 해당 사업체 정규 근로시간의 1/3이상 종사하는 자  \n",
    "\n",
    "•상용근로자 : 고용계약기간이 1년 이상인 근로자 또는 고용계약기간이 정해지지 않고 정규직원으로 일하는 자로서 사업체에서 급여를 지급하는 자  \n",
    "\n",
    "•임시 및 일용근로자 : 고용계약기간이 1년 미만인 근로자로서 사업체에서 급여를 지급하는 자  \n",
    "\n",
    "•기타종사자 : 1) 기본급 등 일정한 급여 없이 주로 실적에 따라 수수료 또는 봉사료 등을 사업체에 지급하는 자 (개인사업등록자라도 지사, 영업소 등에 소속되어 있는 자는 영업소 등의 기타종사자로 조사)  \n",
    "2) 그 외 기타 종사자  "
   ]
  },
  {
   "cell_type": "code",
   "execution_count": 78,
   "id": "2a02a581-0b5b-4081-a85e-ef30e06349cf",
   "metadata": {
    "execution": {
     "iopub.execute_input": "2022-12-14T03:22:35.181657Z",
     "iopub.status.busy": "2022-12-14T03:22:35.181156Z",
     "iopub.status.idle": "2022-12-14T03:22:35.209867Z",
     "shell.execute_reply": "2022-12-14T03:22:35.208012Z",
     "shell.execute_reply.started": "2022-12-14T03:22:35.181657Z"
    }
   },
   "outputs": [
    {
     "data": {
      "text/plain": [
       "1.0    3029\n",
       "0.0      50\n",
       "2.0      12\n",
       "Name: 자영업자합계, dtype: int64"
      ]
     },
     "execution_count": 78,
     "metadata": {},
     "output_type": "execute_result"
    }
   ],
   "source": [
    " df_flower['자영업자합계'].value_counts() "
   ]
  },
  {
   "cell_type": "markdown",
   "id": "3606d310-3d58-402c-873a-7eb85a487d8f",
   "metadata": {},
   "source": [
    "1인 자영업자 가 3108개 사업체중 3029개로 압도적으로 많다. (3% 의 null 데이터는 고려하지 않음)"
   ]
  },
  {
   "cell_type": "code",
   "execution_count": 79,
   "id": "aeea6ff6-90c8-46e8-bb65-084dbc15a38d",
   "metadata": {
    "execution": {
     "iopub.execute_input": "2022-12-14T03:22:35.213492Z",
     "iopub.status.busy": "2022-12-14T03:22:35.211976Z",
     "iopub.status.idle": "2022-12-14T03:22:35.256743Z",
     "shell.execute_reply": "2022-12-14T03:22:35.253602Z",
     "shell.execute_reply.started": "2022-12-14T03:22:35.212993Z"
    }
   },
   "outputs": [
    {
     "data": {
      "text/plain": [
       "0.0     2573\n",
       "1.0      219\n",
       "2.0       98\n",
       "3.0       38\n",
       "4.0       20\n",
       "6.0        8\n",
       "5.0        6\n",
       "7.0        3\n",
       "8.0        1\n",
       "22.0       1\n",
       "9.0        1\n",
       "13.0       1\n",
       "12.0       1\n",
       "14.0       1\n",
       "47.0       1\n",
       "Name: 상용근로자합계, dtype: int64"
      ]
     },
     "execution_count": 79,
     "metadata": {},
     "output_type": "execute_result"
    }
   ],
   "source": [
    "df_flower['상용근로자합계'].value_counts() "
   ]
  },
  {
   "cell_type": "markdown",
   "id": "f00d341c-0d08-425b-a28b-1a1f106211a5",
   "metadata": {},
   "source": [
    "상용근로자가 없는 사업체가 압도적으로 많다. (3108개 사업체중 2573 개. 13% 의 null 데이터는 고려하지 않음)"
   ]
  },
  {
   "cell_type": "code",
   "execution_count": 80,
   "id": "327b826d-10a6-4416-bbce-305aaaa0f72e",
   "metadata": {
    "execution": {
     "iopub.execute_input": "2022-12-14T03:22:35.258266Z",
     "iopub.status.busy": "2022-12-14T03:22:35.258266Z",
     "iopub.status.idle": "2022-12-14T03:22:35.285930Z",
     "shell.execute_reply": "2022-12-14T03:22:35.283790Z",
     "shell.execute_reply.started": "2022-12-14T03:22:35.258266Z"
    }
   },
   "outputs": [
    {
     "data": {
      "text/plain": [
       "1     2096\n",
       "2      686\n",
       "3      200\n",
       "4       70\n",
       "5       22\n",
       "6       16\n",
       "7        9\n",
       "9        3\n",
       "13       2\n",
       "8        1\n",
       "22       1\n",
       "25       1\n",
       "47       1\n",
       "Name: 종사자합계, dtype: int64"
      ]
     },
     "execution_count": 80,
     "metadata": {},
     "output_type": "execute_result"
    }
   ],
   "source": [
    "df_flower['종사자합계'].value_counts()"
   ]
  },
  {
   "cell_type": "code",
   "execution_count": 81,
   "id": "352c466e-2a04-4b5b-bbd0-ca4f72eb596b",
   "metadata": {
    "execution": {
     "iopub.execute_input": "2022-12-14T03:22:35.289432Z",
     "iopub.status.busy": "2022-12-14T03:22:35.288434Z",
     "iopub.status.idle": "2022-12-14T03:22:35.316466Z",
     "shell.execute_reply": "2022-12-14T03:22:35.313919Z",
     "shell.execute_reply.started": "2022-12-14T03:22:35.289432Z"
    }
   },
   "outputs": [
    {
     "data": {
      "text/plain": [
       "1.0    1615\n",
       "0.0     458\n",
       "Name: 종사자수여, dtype: int64"
      ]
     },
     "execution_count": 81,
     "metadata": {},
     "output_type": "execute_result"
    }
   ],
   "source": [
    "df_flower.loc[df_flower['종사자합계'] ==1 ]['종사자수여'].value_counts()"
   ]
  },
  {
   "cell_type": "code",
   "execution_count": 82,
   "id": "7ccbf300-53d2-429d-b795-d863073059fd",
   "metadata": {
    "execution": {
     "iopub.execute_input": "2022-12-14T03:22:35.322225Z",
     "iopub.status.busy": "2022-12-14T03:22:35.320567Z",
     "iopub.status.idle": "2022-12-14T03:22:35.346571Z",
     "shell.execute_reply": "2022-12-14T03:22:35.344571Z",
     "shell.execute_reply.started": "2022-12-14T03:22:35.322225Z"
    }
   },
   "outputs": [
    {
     "data": {
      "text/plain": [
       "0.0    1571\n",
       "1.0     481\n",
       "Name: 종사자수남, dtype: int64"
      ]
     },
     "execution_count": 82,
     "metadata": {},
     "output_type": "execute_result"
    }
   ],
   "source": [
    "df_flower.loc[df_flower['종사자합계'] ==1 ]['종사자수남'].value_counts()"
   ]
  },
  {
   "cell_type": "markdown",
   "id": "b6460586-3b3c-403e-90fa-000d036a5958",
   "metadata": {},
   "source": [
    "종사자합계가 1명인 사업체가 가장 많으며, 이들 중 여성이 높은 비율을 차지하고 있다.   \n",
    "\n",
    "결론 : 1명이 종사하는 사업체가 가장 많으며, 이들 중 여성이 높은 비율을 차지하고 있다.   \n",
    "\n",
    "사업체 형태로는 1인 자영업자가 많다."
   ]
  },
  {
   "cell_type": "markdown",
   "id": "bcf94100-d11b-4041-890c-e0a471d664fa",
   "metadata": {},
   "source": [
    "#### 5. 행정구역"
   ]
  },
  {
   "cell_type": "markdown",
   "id": "62afc93d-e897-4895-8e8d-b468ca68acd0",
   "metadata": {},
   "source": [
    "아래는 행정구역 table 과 위의 데이터를 붙이기 위한 과정!"
   ]
  },
  {
   "cell_type": "code",
   "execution_count": 83,
   "id": "5d761a00-6d9a-47d0-8680-b44ee917ff9e",
   "metadata": {
    "execution": {
     "iopub.execute_input": "2022-12-14T03:22:35.352130Z",
     "iopub.status.busy": "2022-12-14T03:22:35.350630Z",
     "iopub.status.idle": "2022-12-14T03:22:35.406586Z",
     "shell.execute_reply": "2022-12-14T03:22:35.405587Z",
     "shell.execute_reply.started": "2022-12-14T03:22:35.352130Z"
    }
   },
   "outputs": [],
   "source": [
    "df_dong = pd.read_csv('data/dong_field.csv')"
   ]
  },
  {
   "cell_type": "code",
   "execution_count": 84,
   "id": "823e2cbf-d52e-448c-b28e-4f7e0a12c063",
   "metadata": {
    "execution": {
     "iopub.execute_input": "2022-12-14T03:22:35.409728Z",
     "iopub.status.busy": "2022-12-14T03:22:35.409227Z",
     "iopub.status.idle": "2022-12-14T03:22:35.440242Z",
     "shell.execute_reply": "2022-12-14T03:22:35.436181Z",
     "shell.execute_reply.started": "2022-12-14T03:22:35.409728Z"
    }
   },
   "outputs": [
    {
     "data": {
      "text/html": [
       "<div>\n",
       "<style scoped>\n",
       "    .dataframe tbody tr th:only-of-type {\n",
       "        vertical-align: middle;\n",
       "    }\n",
       "\n",
       "    .dataframe tbody tr th {\n",
       "        vertical-align: top;\n",
       "    }\n",
       "\n",
       "    .dataframe thead th {\n",
       "        text-align: right;\n",
       "    }\n",
       "</style>\n",
       "<table border=\"1\" class=\"dataframe\">\n",
       "  <thead>\n",
       "    <tr style=\"text-align: right;\">\n",
       "      <th></th>\n",
       "      <th>Unnamed: 0</th>\n",
       "      <th>대분류</th>\n",
       "      <th>시도</th>\n",
       "      <th>중분류</th>\n",
       "      <th>시군구</th>\n",
       "      <th>소분류</th>\n",
       "      <th>읍면동</th>\n",
       "      <th>영문 표기</th>\n",
       "      <th>한자 표기</th>\n",
       "    </tr>\n",
       "  </thead>\n",
       "  <tbody>\n",
       "    <tr>\n",
       "      <th>0</th>\n",
       "      <td>NaN</td>\n",
       "      <td>11.0</td>\n",
       "      <td>서울특별시</td>\n",
       "      <td>NaN</td>\n",
       "      <td>NaN</td>\n",
       "      <td>NaN</td>\n",
       "      <td>NaN</td>\n",
       "      <td>Seoul</td>\n",
       "      <td>서울特別市</td>\n",
       "    </tr>\n",
       "    <tr>\n",
       "      <th>1</th>\n",
       "      <td>NaN</td>\n",
       "      <td>11.0</td>\n",
       "      <td>서울특별시</td>\n",
       "      <td>11010.0</td>\n",
       "      <td>종로구</td>\n",
       "      <td>NaN</td>\n",
       "      <td>NaN</td>\n",
       "      <td>Jongno-gu</td>\n",
       "      <td>鍾路區</td>\n",
       "    </tr>\n",
       "    <tr>\n",
       "      <th>2</th>\n",
       "      <td>NaN</td>\n",
       "      <td>11.0</td>\n",
       "      <td>서울특별시</td>\n",
       "      <td>11010.0</td>\n",
       "      <td>종로구</td>\n",
       "      <td>1101053.0</td>\n",
       "      <td>사직동</td>\n",
       "      <td>Sajik-dong</td>\n",
       "      <td>社稷洞</td>\n",
       "    </tr>\n",
       "    <tr>\n",
       "      <th>3</th>\n",
       "      <td>NaN</td>\n",
       "      <td>11.0</td>\n",
       "      <td>서울특별시</td>\n",
       "      <td>11010.0</td>\n",
       "      <td>종로구</td>\n",
       "      <td>1101054.0</td>\n",
       "      <td>삼청동</td>\n",
       "      <td>Samcheong-dong</td>\n",
       "      <td>三淸洞</td>\n",
       "    </tr>\n",
       "    <tr>\n",
       "      <th>4</th>\n",
       "      <td>NaN</td>\n",
       "      <td>11.0</td>\n",
       "      <td>서울특별시</td>\n",
       "      <td>11010.0</td>\n",
       "      <td>종로구</td>\n",
       "      <td>1101055.0</td>\n",
       "      <td>부암동</td>\n",
       "      <td>Buam-dong</td>\n",
       "      <td>付岩洞</td>\n",
       "    </tr>\n",
       "  </tbody>\n",
       "</table>\n",
       "</div>"
      ],
      "text/plain": [
       "   Unnamed: 0   대분류     시도      중분류  시군구        소분류  읍면동           영문 표기  \\\n",
       "0         NaN  11.0  서울특별시      NaN  NaN        NaN  NaN           Seoul   \n",
       "1         NaN  11.0  서울특별시  11010.0  종로구        NaN  NaN       Jongno-gu   \n",
       "2         NaN  11.0  서울특별시  11010.0  종로구  1101053.0  사직동      Sajik-dong   \n",
       "3         NaN  11.0  서울특별시  11010.0  종로구  1101054.0  삼청동  Samcheong-dong   \n",
       "4         NaN  11.0  서울특별시  11010.0  종로구  1101055.0  부암동       Buam-dong   \n",
       "\n",
       "   한자 표기  \n",
       "0  서울特別市  \n",
       "1    鍾路區  \n",
       "2    社稷洞  \n",
       "3    三淸洞  \n",
       "4    付岩洞  "
      ]
     },
     "execution_count": 84,
     "metadata": {},
     "output_type": "execute_result"
    }
   ],
   "source": [
    "df_dong.head()"
   ]
  },
  {
   "cell_type": "code",
   "execution_count": 85,
   "id": "0d0486dd-d6c6-4756-9f9f-4c2a42753b6a",
   "metadata": {
    "execution": {
     "iopub.execute_input": "2022-12-14T03:22:35.444173Z",
     "iopub.status.busy": "2022-12-14T03:22:35.443426Z",
     "iopub.status.idle": "2022-12-14T03:22:35.470213Z",
     "shell.execute_reply": "2022-12-14T03:22:35.467730Z",
     "shell.execute_reply.started": "2022-12-14T03:22:35.444173Z"
    }
   },
   "outputs": [],
   "source": [
    "df_dong.drop(['Unnamed: 0', '한자 표기'], axis=1, inplace = True )"
   ]
  },
  {
   "cell_type": "code",
   "execution_count": 86,
   "id": "989961fb-ec14-4528-8211-96cb8734c7df",
   "metadata": {
    "execution": {
     "iopub.execute_input": "2022-12-14T03:22:35.474244Z",
     "iopub.status.busy": "2022-12-14T03:22:35.473174Z",
     "iopub.status.idle": "2022-12-14T03:22:35.514269Z",
     "shell.execute_reply": "2022-12-14T03:22:35.513270Z",
     "shell.execute_reply.started": "2022-12-14T03:22:35.474244Z"
    }
   },
   "outputs": [
    {
     "data": {
      "text/html": [
       "<div>\n",
       "<style scoped>\n",
       "    .dataframe tbody tr th:only-of-type {\n",
       "        vertical-align: middle;\n",
       "    }\n",
       "\n",
       "    .dataframe tbody tr th {\n",
       "        vertical-align: top;\n",
       "    }\n",
       "\n",
       "    .dataframe thead th {\n",
       "        text-align: right;\n",
       "    }\n",
       "</style>\n",
       "<table border=\"1\" class=\"dataframe\">\n",
       "  <thead>\n",
       "    <tr style=\"text-align: right;\">\n",
       "      <th></th>\n",
       "      <th>대분류</th>\n",
       "      <th>시도</th>\n",
       "      <th>중분류</th>\n",
       "      <th>시군구</th>\n",
       "      <th>소분류</th>\n",
       "      <th>읍면동</th>\n",
       "      <th>영문 표기</th>\n",
       "    </tr>\n",
       "  </thead>\n",
       "  <tbody>\n",
       "    <tr>\n",
       "      <th>0</th>\n",
       "      <td>11.0</td>\n",
       "      <td>서울특별시</td>\n",
       "      <td>NaN</td>\n",
       "      <td>NaN</td>\n",
       "      <td>NaN</td>\n",
       "      <td>NaN</td>\n",
       "      <td>Seoul</td>\n",
       "    </tr>\n",
       "    <tr>\n",
       "      <th>1</th>\n",
       "      <td>11.0</td>\n",
       "      <td>서울특별시</td>\n",
       "      <td>11010.0</td>\n",
       "      <td>종로구</td>\n",
       "      <td>NaN</td>\n",
       "      <td>NaN</td>\n",
       "      <td>Jongno-gu</td>\n",
       "    </tr>\n",
       "    <tr>\n",
       "      <th>2</th>\n",
       "      <td>11.0</td>\n",
       "      <td>서울특별시</td>\n",
       "      <td>11010.0</td>\n",
       "      <td>종로구</td>\n",
       "      <td>1101053.0</td>\n",
       "      <td>사직동</td>\n",
       "      <td>Sajik-dong</td>\n",
       "    </tr>\n",
       "    <tr>\n",
       "      <th>3</th>\n",
       "      <td>11.0</td>\n",
       "      <td>서울특별시</td>\n",
       "      <td>11010.0</td>\n",
       "      <td>종로구</td>\n",
       "      <td>1101054.0</td>\n",
       "      <td>삼청동</td>\n",
       "      <td>Samcheong-dong</td>\n",
       "    </tr>\n",
       "    <tr>\n",
       "      <th>4</th>\n",
       "      <td>11.0</td>\n",
       "      <td>서울특별시</td>\n",
       "      <td>11010.0</td>\n",
       "      <td>종로구</td>\n",
       "      <td>1101055.0</td>\n",
       "      <td>부암동</td>\n",
       "      <td>Buam-dong</td>\n",
       "    </tr>\n",
       "  </tbody>\n",
       "</table>\n",
       "</div>"
      ],
      "text/plain": [
       "    대분류     시도      중분류  시군구        소분류  읍면동           영문 표기\n",
       "0  11.0  서울특별시      NaN  NaN        NaN  NaN           Seoul\n",
       "1  11.0  서울특별시  11010.0  종로구        NaN  NaN       Jongno-gu\n",
       "2  11.0  서울특별시  11010.0  종로구  1101053.0  사직동      Sajik-dong\n",
       "3  11.0  서울특별시  11010.0  종로구  1101054.0  삼청동  Samcheong-dong\n",
       "4  11.0  서울특별시  11010.0  종로구  1101055.0  부암동       Buam-dong"
      ]
     },
     "execution_count": 86,
     "metadata": {},
     "output_type": "execute_result"
    }
   ],
   "source": [
    "df_dong.head()"
   ]
  },
  {
   "cell_type": "code",
   "execution_count": 87,
   "id": "9c151a52-efd2-497f-b0a3-c8795bcc0124",
   "metadata": {
    "execution": {
     "iopub.execute_input": "2022-12-14T03:22:35.516034Z",
     "iopub.status.busy": "2022-12-14T03:22:35.516034Z",
     "iopub.status.idle": "2022-12-14T03:22:35.532783Z",
     "shell.execute_reply": "2022-12-14T03:22:35.528421Z",
     "shell.execute_reply.started": "2022-12-14T03:22:35.516034Z"
    }
   },
   "outputs": [
    {
     "data": {
      "text/plain": [
       "dtype('float64')"
      ]
     },
     "execution_count": 87,
     "metadata": {},
     "output_type": "execute_result"
    }
   ],
   "source": [
    "df_dong.소분류.dtypes"
   ]
  },
  {
   "cell_type": "code",
   "execution_count": 88,
   "id": "8ded1b5d-ff42-4e72-bba5-c6441828e019",
   "metadata": {
    "execution": {
     "iopub.execute_input": "2022-12-14T03:22:35.536619Z",
     "iopub.status.busy": "2022-12-14T03:22:35.535336Z",
     "iopub.status.idle": "2022-12-14T03:22:35.559766Z",
     "shell.execute_reply": "2022-12-14T03:22:35.559269Z",
     "shell.execute_reply.started": "2022-12-14T03:22:35.536619Z"
    }
   },
   "outputs": [
    {
     "data": {
      "text/plain": [
       "dtype('int64')"
      ]
     },
     "execution_count": 88,
     "metadata": {},
     "output_type": "execute_result"
    }
   ],
   "source": [
    "df_flower.행정구역코드.dtypes"
   ]
  },
  {
   "cell_type": "code",
   "execution_count": 89,
   "id": "dd1fdd48-9e14-4a2c-accc-d9cea3a808ad",
   "metadata": {
    "execution": {
     "iopub.execute_input": "2022-12-14T03:22:35.560866Z",
     "iopub.status.busy": "2022-12-14T03:22:35.560866Z",
     "iopub.status.idle": "2022-12-14T03:22:35.577292Z",
     "shell.execute_reply": "2022-12-14T03:22:35.574577Z",
     "shell.execute_reply.started": "2022-12-14T03:22:35.560866Z"
    }
   },
   "outputs": [],
   "source": [
    "df_dong['소분류'].fillna(-1, inplace = True)"
   ]
  },
  {
   "cell_type": "code",
   "execution_count": 90,
   "id": "1013b037-fff4-49d3-9ac6-952cf4468934",
   "metadata": {
    "execution": {
     "iopub.execute_input": "2022-12-14T03:22:35.581504Z",
     "iopub.status.busy": "2022-12-14T03:22:35.580490Z",
     "iopub.status.idle": "2022-12-14T03:22:35.608338Z",
     "shell.execute_reply": "2022-12-14T03:22:35.605281Z",
     "shell.execute_reply.started": "2022-12-14T03:22:35.581504Z"
    }
   },
   "outputs": [],
   "source": [
    "df_dong['소분류'] = df_dong['소분류'].astype('int64')"
   ]
  },
  {
   "cell_type": "code",
   "execution_count": 91,
   "id": "ede8b3ef-d128-47a0-8c31-739e20dbb1d7",
   "metadata": {
    "execution": {
     "iopub.execute_input": "2022-12-14T03:22:35.613209Z",
     "iopub.status.busy": "2022-12-14T03:22:35.611792Z",
     "iopub.status.idle": "2022-12-14T03:22:35.637392Z",
     "shell.execute_reply": "2022-12-14T03:22:35.635392Z",
     "shell.execute_reply.started": "2022-12-14T03:22:35.613209Z"
    }
   },
   "outputs": [
    {
     "data": {
      "text/plain": [
       "0         -1\n",
       "1         -1\n",
       "2    1101053\n",
       "3    1101054\n",
       "4    1101055\n",
       "Name: 소분류, dtype: int64"
      ]
     },
     "execution_count": 91,
     "metadata": {},
     "output_type": "execute_result"
    }
   ],
   "source": [
    "df_dong['소분류'].head()"
   ]
  },
  {
   "cell_type": "code",
   "execution_count": 92,
   "id": "57cfde1b-a3ac-4eb9-86ef-4236090ba1b9",
   "metadata": {
    "execution": {
     "iopub.execute_input": "2022-12-14T03:22:35.642997Z",
     "iopub.status.busy": "2022-12-14T03:22:35.641495Z",
     "iopub.status.idle": "2022-12-14T03:22:35.667810Z",
     "shell.execute_reply": "2022-12-14T03:22:35.665955Z",
     "shell.execute_reply.started": "2022-12-14T03:22:35.642997Z"
    }
   },
   "outputs": [],
   "source": [
    "df_total = pd.merge(df_flower, df_dong, left_on='행정구역코드', right_on='소분류')"
   ]
  },
  {
   "cell_type": "code",
   "execution_count": 93,
   "id": "95140b94-7304-4695-85b9-9a6123e9f0e2",
   "metadata": {
    "execution": {
     "iopub.execute_input": "2022-12-14T03:22:35.671754Z",
     "iopub.status.busy": "2022-12-14T03:22:35.669874Z",
     "iopub.status.idle": "2022-12-14T03:22:35.746142Z",
     "shell.execute_reply": "2022-12-14T03:22:35.743642Z",
     "shell.execute_reply.started": "2022-12-14T03:22:35.671754Z"
    }
   },
   "outputs": [
    {
     "data": {
      "text/html": [
       "<div>\n",
       "<style scoped>\n",
       "    .dataframe tbody tr th:only-of-type {\n",
       "        vertical-align: middle;\n",
       "    }\n",
       "\n",
       "    .dataframe tbody tr th {\n",
       "        vertical-align: top;\n",
       "    }\n",
       "\n",
       "    .dataframe thead th {\n",
       "        text-align: right;\n",
       "    }\n",
       "</style>\n",
       "<table border=\"1\" class=\"dataframe\">\n",
       "  <thead>\n",
       "    <tr style=\"text-align: right;\">\n",
       "      <th></th>\n",
       "      <th>행정구역코드</th>\n",
       "      <th>대표자성별</th>\n",
       "      <th>대표자연령대</th>\n",
       "      <th>창업년도</th>\n",
       "      <th>창업월</th>\n",
       "      <th>조직형태코드</th>\n",
       "      <th>사업체구분코드</th>\n",
       "      <th>주산업산업분류코드</th>\n",
       "      <th>자영업자합계</th>\n",
       "      <th>자영업자남</th>\n",
       "      <th>...</th>\n",
       "      <th>종사자합계</th>\n",
       "      <th>종사자수남</th>\n",
       "      <th>종사자수여</th>\n",
       "      <th>대분류</th>\n",
       "      <th>시도</th>\n",
       "      <th>중분류</th>\n",
       "      <th>시군구</th>\n",
       "      <th>소분류</th>\n",
       "      <th>읍면동</th>\n",
       "      <th>영문 표기</th>\n",
       "    </tr>\n",
       "  </thead>\n",
       "  <tbody>\n",
       "    <tr>\n",
       "      <th>0</th>\n",
       "      <td>1102068</td>\n",
       "      <td>2</td>\n",
       "      <td>5</td>\n",
       "      <td>2015</td>\n",
       "      <td>3</td>\n",
       "      <td>1</td>\n",
       "      <td>1</td>\n",
       "      <td>47851</td>\n",
       "      <td>1.0</td>\n",
       "      <td>NaN</td>\n",
       "      <td>...</td>\n",
       "      <td>3</td>\n",
       "      <td>0.0</td>\n",
       "      <td>3.0</td>\n",
       "      <td>11.0</td>\n",
       "      <td>서울특별시</td>\n",
       "      <td>11020.0</td>\n",
       "      <td>중구</td>\n",
       "      <td>1102068</td>\n",
       "      <td>중림동</td>\n",
       "      <td>Jungnim-dong</td>\n",
       "    </tr>\n",
       "    <tr>\n",
       "      <th>1</th>\n",
       "      <td>1102068</td>\n",
       "      <td>2</td>\n",
       "      <td>5</td>\n",
       "      <td>2010</td>\n",
       "      <td>9</td>\n",
       "      <td>1</td>\n",
       "      <td>1</td>\n",
       "      <td>47851</td>\n",
       "      <td>1.0</td>\n",
       "      <td>NaN</td>\n",
       "      <td>...</td>\n",
       "      <td>1</td>\n",
       "      <td>0.0</td>\n",
       "      <td>1.0</td>\n",
       "      <td>11.0</td>\n",
       "      <td>서울특별시</td>\n",
       "      <td>11020.0</td>\n",
       "      <td>중구</td>\n",
       "      <td>1102068</td>\n",
       "      <td>중림동</td>\n",
       "      <td>Jungnim-dong</td>\n",
       "    </tr>\n",
       "    <tr>\n",
       "      <th>2</th>\n",
       "      <td>1102068</td>\n",
       "      <td>1</td>\n",
       "      <td>6</td>\n",
       "      <td>2014</td>\n",
       "      <td>9</td>\n",
       "      <td>1</td>\n",
       "      <td>1</td>\n",
       "      <td>47851</td>\n",
       "      <td>1.0</td>\n",
       "      <td>1.0</td>\n",
       "      <td>...</td>\n",
       "      <td>2</td>\n",
       "      <td>1.0</td>\n",
       "      <td>1.0</td>\n",
       "      <td>11.0</td>\n",
       "      <td>서울특별시</td>\n",
       "      <td>11020.0</td>\n",
       "      <td>중구</td>\n",
       "      <td>1102068</td>\n",
       "      <td>중림동</td>\n",
       "      <td>Jungnim-dong</td>\n",
       "    </tr>\n",
       "    <tr>\n",
       "      <th>3</th>\n",
       "      <td>1102068</td>\n",
       "      <td>1</td>\n",
       "      <td>6</td>\n",
       "      <td>2013</td>\n",
       "      <td>3</td>\n",
       "      <td>1</td>\n",
       "      <td>1</td>\n",
       "      <td>47851</td>\n",
       "      <td>1.0</td>\n",
       "      <td>1.0</td>\n",
       "      <td>...</td>\n",
       "      <td>2</td>\n",
       "      <td>1.0</td>\n",
       "      <td>1.0</td>\n",
       "      <td>11.0</td>\n",
       "      <td>서울특별시</td>\n",
       "      <td>11020.0</td>\n",
       "      <td>중구</td>\n",
       "      <td>1102068</td>\n",
       "      <td>중림동</td>\n",
       "      <td>Jungnim-dong</td>\n",
       "    </tr>\n",
       "    <tr>\n",
       "      <th>4</th>\n",
       "      <td>1102068</td>\n",
       "      <td>1</td>\n",
       "      <td>5</td>\n",
       "      <td>2015</td>\n",
       "      <td>11</td>\n",
       "      <td>1</td>\n",
       "      <td>1</td>\n",
       "      <td>47851</td>\n",
       "      <td>1.0</td>\n",
       "      <td>1.0</td>\n",
       "      <td>...</td>\n",
       "      <td>2</td>\n",
       "      <td>1.0</td>\n",
       "      <td>1.0</td>\n",
       "      <td>11.0</td>\n",
       "      <td>서울특별시</td>\n",
       "      <td>11020.0</td>\n",
       "      <td>중구</td>\n",
       "      <td>1102068</td>\n",
       "      <td>중림동</td>\n",
       "      <td>Jungnim-dong</td>\n",
       "    </tr>\n",
       "  </tbody>\n",
       "</table>\n",
       "<p>5 rows × 33 columns</p>\n",
       "</div>"
      ],
      "text/plain": [
       "    행정구역코드  대표자성별  대표자연령대  창업년도  창업월  조직형태코드  사업체구분코드  주산업산업분류코드  자영업자합계  \\\n",
       "0  1102068      2       5  2015    3       1        1      47851     1.0   \n",
       "1  1102068      2       5  2010    9       1        1      47851     1.0   \n",
       "2  1102068      1       6  2014    9       1        1      47851     1.0   \n",
       "3  1102068      1       6  2013    3       1        1      47851     1.0   \n",
       "4  1102068      1       5  2015   11       1        1      47851     1.0   \n",
       "\n",
       "   자영업자남  ...  종사자합계  종사자수남  종사자수여   대분류     시도      중분류  시군구      소분류  읍면동  \\\n",
       "0    NaN  ...      3    0.0    3.0  11.0  서울특별시  11020.0   중구  1102068  중림동   \n",
       "1    NaN  ...      1    0.0    1.0  11.0  서울특별시  11020.0   중구  1102068  중림동   \n",
       "2    1.0  ...      2    1.0    1.0  11.0  서울특별시  11020.0   중구  1102068  중림동   \n",
       "3    1.0  ...      2    1.0    1.0  11.0  서울특별시  11020.0   중구  1102068  중림동   \n",
       "4    1.0  ...      2    1.0    1.0  11.0  서울특별시  11020.0   중구  1102068  중림동   \n",
       "\n",
       "          영문 표기  \n",
       "0  Jungnim-dong  \n",
       "1  Jungnim-dong  \n",
       "2  Jungnim-dong  \n",
       "3  Jungnim-dong  \n",
       "4  Jungnim-dong  \n",
       "\n",
       "[5 rows x 33 columns]"
      ]
     },
     "execution_count": 93,
     "metadata": {},
     "output_type": "execute_result"
    }
   ],
   "source": [
    "df_total.head()"
   ]
  },
  {
   "cell_type": "code",
   "execution_count": 94,
   "id": "22e5564d-fddc-455d-a3fd-412143087ff3",
   "metadata": {
    "execution": {
     "iopub.execute_input": "2022-12-14T03:22:35.750675Z",
     "iopub.status.busy": "2022-12-14T03:22:35.749176Z",
     "iopub.status.idle": "2022-12-14T03:22:35.776383Z",
     "shell.execute_reply": "2022-12-14T03:22:35.773828Z",
     "shell.execute_reply.started": "2022-12-14T03:22:35.750675Z"
    }
   },
   "outputs": [
    {
     "data": {
      "text/plain": [
       "array(['서울특별시'], dtype=object)"
      ]
     },
     "execution_count": 94,
     "metadata": {},
     "output_type": "execute_result"
    }
   ],
   "source": [
    "df_total['시도'].unique()"
   ]
  },
  {
   "cell_type": "markdown",
   "id": "0749e05b-ca94-429f-bba0-6ccee3aac731",
   "metadata": {},
   "source": [
    "서울시내 구별, 꽃집 개수를 살펴보자"
   ]
  },
  {
   "cell_type": "code",
   "execution_count": 95,
   "id": "030eb035-ec2b-4efc-957a-373b26f1d581",
   "metadata": {
    "execution": {
     "iopub.execute_input": "2022-12-14T03:22:35.779886Z",
     "iopub.status.busy": "2022-12-14T03:22:35.779384Z",
     "iopub.status.idle": "2022-12-14T03:22:35.805371Z",
     "shell.execute_reply": "2022-12-14T03:22:35.804309Z",
     "shell.execute_reply.started": "2022-12-14T03:22:35.779886Z"
    }
   },
   "outputs": [
    {
     "data": {
      "text/plain": [
       "서초구     505\n",
       "강남구     334\n",
       "종로구     243\n",
       "중구      189\n",
       "송파구     176\n",
       "마포구     166\n",
       "강동구     164\n",
       "영등포구    153\n",
       "강서구     112\n",
       "용산구     106\n",
       "양천구      89\n",
       "성북구      87\n",
       "광진구      74\n",
       "노원구      74\n",
       "서대문구     70\n",
       "구로구      70\n",
       "관악구      69\n",
       "동대문구     65\n",
       "성동구      62\n",
       "동작구      57\n",
       "중랑구      54\n",
       "은평구      52\n",
       "강북구      51\n",
       "도봉구      47\n",
       "금천구      39\n",
       "Name: 시군구, dtype: int64"
      ]
     },
     "execution_count": 95,
     "metadata": {},
     "output_type": "execute_result"
    }
   ],
   "source": [
    "df_total['시군구'].value_counts()"
   ]
  },
  {
   "cell_type": "markdown",
   "id": "3c34a1c2-10a1-420f-ace2-11d5f656f467",
   "metadata": {},
   "source": [
    "서울시내 상위 TOP8 의 구별 분포를 보면, 크게 위치적으로 3권역  \n",
    "1) 서초,강남, 송파구, 강동구 (38%)  \n",
    "2) 종로구,중구 (14%)  \n",
    "3) 마포, 영등포구 (10% ) 로 나뉜다고 볼 수 있다.  "
   ]
  },
  {
   "cell_type": "code",
   "execution_count": 96,
   "id": "66423501-a8d8-4ade-9ff9-5e7fa8f58025",
   "metadata": {
    "execution": {
     "iopub.execute_input": "2022-12-14T03:22:35.815389Z",
     "iopub.status.busy": "2022-12-14T03:22:35.815389Z",
     "iopub.status.idle": "2022-12-14T03:22:35.838010Z",
     "shell.execute_reply": "2022-12-14T03:22:35.835363Z",
     "shell.execute_reply.started": "2022-12-14T03:22:35.815389Z"
    }
   },
   "outputs": [
    {
     "data": {
      "text/plain": [
       "양재2동           219\n",
       "종로5·6가동        124\n",
       "광희동            101\n",
       "반포4동            66\n",
       "역삼1동            63\n",
       "영등포동            39\n",
       "여의동             39\n",
       "서교동             38\n",
       "논현2동            34\n",
       "종로1·2·3·4가동     32\n",
       "서초1동            32\n",
       "길동              32\n",
       "압구정동            29\n",
       "오륜동             29\n",
       "신사동             28\n",
       "Name: 읍면동, dtype: int64"
      ]
     },
     "execution_count": 96,
     "metadata": {},
     "output_type": "execute_result"
    }
   ],
   "source": [
    "df_total['읍면동'].value_counts().head(15)"
   ]
  },
  {
   "cell_type": "markdown",
   "id": "09df80f3-066b-434d-be59-de338dae9ee0",
   "metadata": {},
   "source": [
    "상위 15개동의 꽃집 수는 위와 같다."
   ]
  },
  {
   "cell_type": "code",
   "execution_count": 97,
   "id": "c71acf35-755a-4688-bbe2-b049d89af363",
   "metadata": {
    "execution": {
     "iopub.execute_input": "2022-12-14T03:22:35.843132Z",
     "iopub.status.busy": "2022-12-14T03:22:35.841017Z",
     "iopub.status.idle": "2022-12-14T03:22:35.896928Z",
     "shell.execute_reply": "2022-12-14T03:22:35.895930Z",
     "shell.execute_reply.started": "2022-12-14T03:22:35.843132Z"
    }
   },
   "outputs": [
    {
     "data": {
      "text/plain": [
       "5    230\n",
       "4    199\n",
       "3    165\n",
       "6    155\n",
       "7     52\n",
       "2     35\n",
       "8      2\n",
       "1      1\n",
       "Name: 대표자연령대, dtype: int64"
      ]
     },
     "execution_count": 97,
     "metadata": {},
     "output_type": "execute_result"
    }
   ],
   "source": [
    "df_total.loc[ (df_total['시군구']=='서초구') | (df_total['시군구']=='강남구')]['대표자연령대'].value_counts()"
   ]
  },
  {
   "cell_type": "code",
   "execution_count": 98,
   "id": "9a59d516-e2c1-4759-9fbd-a911683efa3f",
   "metadata": {
    "execution": {
     "iopub.execute_input": "2022-12-14T03:22:35.900421Z",
     "iopub.status.busy": "2022-12-14T03:22:35.898406Z",
     "iopub.status.idle": "2022-12-14T03:22:35.928066Z",
     "shell.execute_reply": "2022-12-14T03:22:35.926856Z",
     "shell.execute_reply.started": "2022-12-14T03:22:35.900421Z"
    }
   },
   "outputs": [
    {
     "data": {
      "text/plain": [
       "3    138\n",
       "4     82\n",
       "5     57\n",
       "2     35\n",
       "6     26\n",
       "7      3\n",
       "1      1\n",
       "Name: 대표자연령대, dtype: int64"
      ]
     },
     "execution_count": 98,
     "metadata": {},
     "output_type": "execute_result"
    }
   ],
   "source": [
    "df_total.loc[ (df_total['시군구']=='서초구') | (df_total['시군구']=='강남구')] \\\n",
    ".loc[ (df_total['창업년도'] >= 2012 ) ]['대표자연령대'].value_counts() "
   ]
  },
  {
   "cell_type": "markdown",
   "id": "fdedb33a-ab95-4c41-9196-b17bf082ff13",
   "metadata": {},
   "source": [
    "서초구, 강남구에서 대표자 연령대는 5 -> 4 -> 3 십대 순이며, 2012년 이후 창업 비율은 3 -> 4 십대 순이다."
   ]
  },
  {
   "cell_type": "code",
   "execution_count": 99,
   "id": "9d24da21-5a36-46f5-909e-221ae6a40706",
   "metadata": {
    "execution": {
     "iopub.execute_input": "2022-12-14T03:22:35.933042Z",
     "iopub.status.busy": "2022-12-14T03:22:35.930016Z",
     "iopub.status.idle": "2022-12-14T03:22:35.959931Z",
     "shell.execute_reply": "2022-12-14T03:22:35.958045Z",
     "shell.execute_reply.started": "2022-12-14T03:22:35.933042Z"
    }
   },
   "outputs": [
    {
     "data": {
      "text/plain": [
       "5    116\n",
       "4     66\n",
       "6     59\n",
       "3     56\n",
       "2     30\n",
       "7      9\n",
       "8      4\n",
       "Name: 대표자연령대, dtype: int64"
      ]
     },
     "execution_count": 99,
     "metadata": {},
     "output_type": "execute_result"
    }
   ],
   "source": [
    "df_total.loc[ (df_total['시군구']=='송파구') | (df_total['시군구']=='강동구')]['대표자연령대'].value_counts()"
   ]
  },
  {
   "cell_type": "code",
   "execution_count": 100,
   "id": "8c3af233-db58-472d-9c24-49f4cd9a702d",
   "metadata": {
    "execution": {
     "iopub.execute_input": "2022-12-14T03:22:35.963455Z",
     "iopub.status.busy": "2022-12-14T03:22:35.962456Z",
     "iopub.status.idle": "2022-12-14T03:22:35.990172Z",
     "shell.execute_reply": "2022-12-14T03:22:35.987675Z",
     "shell.execute_reply.started": "2022-12-14T03:22:35.962956Z"
    }
   },
   "outputs": [
    {
     "data": {
      "text/plain": [
       "3    49\n",
       "5    44\n",
       "4    32\n",
       "2    28\n",
       "6    13\n",
       "7     1\n",
       "Name: 대표자연령대, dtype: int64"
      ]
     },
     "execution_count": 100,
     "metadata": {},
     "output_type": "execute_result"
    }
   ],
   "source": [
    "df_total.loc[ (df_total['시군구']=='송파구') | (df_total['시군구']=='강동구')] \\\n",
    ".loc[ (df_total['창업년도'] >= 2012 ) ]['대표자연령대'].value_counts() "
   ]
  },
  {
   "cell_type": "markdown",
   "id": "cad71f99-e854-4d1f-a784-3a831536a22f",
   "metadata": {},
   "source": [
    "송파구, 강동구에서 대표자 연령대는 5 -> 4 -> 6 십대 순이며, 2012년 이후 창업 비율은 3 -> 5 십대 순이다."
   ]
  },
  {
   "cell_type": "code",
   "execution_count": 101,
   "id": "5f0ac547-4ca7-4fcd-b3a1-8c2f3cccb0e1",
   "metadata": {
    "execution": {
     "iopub.execute_input": "2022-12-14T03:22:35.994875Z",
     "iopub.status.busy": "2022-12-14T03:22:35.993838Z",
     "iopub.status.idle": "2022-12-14T03:22:36.024184Z",
     "shell.execute_reply": "2022-12-14T03:22:36.019369Z",
     "shell.execute_reply.started": "2022-12-14T03:22:35.994875Z"
    }
   },
   "outputs": [
    {
     "data": {
      "text/plain": [
       "3    89\n",
       "5    79\n",
       "4    64\n",
       "6    59\n",
       "2    20\n",
       "7     7\n",
       "8     1\n",
       "Name: 대표자연령대, dtype: int64"
      ]
     },
     "execution_count": 101,
     "metadata": {},
     "output_type": "execute_result"
    }
   ],
   "source": [
    "df_total.loc[ (df_total['시군구']=='마포구') | (df_total['시군구']=='영등포구')]['대표자연령대'].value_counts()"
   ]
  },
  {
   "cell_type": "code",
   "execution_count": 102,
   "id": "f617f25f-7cb3-4e9b-bfc5-e7058142e214",
   "metadata": {
    "execution": {
     "iopub.execute_input": "2022-12-14T03:22:36.030463Z",
     "iopub.status.busy": "2022-12-14T03:22:36.029241Z",
     "iopub.status.idle": "2022-12-14T03:22:36.066731Z",
     "shell.execute_reply": "2022-12-14T03:22:36.064732Z",
     "shell.execute_reply.started": "2022-12-14T03:22:36.030463Z"
    }
   },
   "outputs": [
    {
     "data": {
      "text/plain": [
       "3    75\n",
       "4    32\n",
       "5    24\n",
       "2    19\n",
       "6     8\n",
       "7     2\n",
       "Name: 대표자연령대, dtype: int64"
      ]
     },
     "execution_count": 102,
     "metadata": {},
     "output_type": "execute_result"
    }
   ],
   "source": [
    "df_total.loc[ (df_total['시군구']=='마포구') | (df_total['시군구']=='영등포구')] \\\n",
    ".loc[ (df_total['창업년도'] >= 2012 ) ]['대표자연령대'].value_counts() "
   ]
  },
  {
   "cell_type": "markdown",
   "id": "1eacbe10-69e3-47d7-a32f-31f703a8107c",
   "metadata": {
    "execution": {
     "iopub.execute_input": "2022-12-14T03:20:58.371047Z",
     "iopub.status.busy": "2022-12-14T03:20:58.370112Z",
     "iopub.status.idle": "2022-12-14T03:20:58.395185Z",
     "shell.execute_reply": "2022-12-14T03:20:58.394430Z",
     "shell.execute_reply.started": "2022-12-14T03:20:58.371047Z"
    }
   },
   "source": [
    "마포구, 영등포구에서 대표자 연령대는 3 -> 5 -> 4 십대 순이며, 2012년 이후 창업 비율은 3 -> 5 십대 순이다."
   ]
  },
  {
   "cell_type": "markdown",
   "id": "ed8b4a88-bf91-496b-983c-482e8552f926",
   "metadata": {
    "execution": {
     "iopub.execute_input": "2022-12-14T03:21:18.705603Z",
     "iopub.status.busy": "2022-12-14T03:21:18.705603Z",
     "iopub.status.idle": "2022-12-14T03:21:18.725422Z",
     "shell.execute_reply": "2022-12-14T03:21:18.724422Z",
     "shell.execute_reply.started": "2022-12-14T03:21:18.705603Z"
    }
   },
   "source": [
    "#### 6. 결론"
   ]
  },
  {
   "cell_type": "markdown",
   "id": "da774829-0481-4e58-9f27-d2b9920f810d",
   "metadata": {},
   "source": [
    "1. 서울시내 (화초 및 식물 소매업) 으로 등록된 사업체는 총 3108개 이다.  \n",
    "2. 대표자 성별은 70% 가 여성, 30% 가 남성이다.  \n",
    "3. 대표자 연령대는 50 대가 30%, 40대가 20%, 60 대, 30 대가 약 18% 정도이다.  \n",
    "4. 조직형태코드는 개인사업체 형태(1) 가 압도적으로 많다.  \n",
    "사업체구분코드는 단독사업체(1) 가 압도적으로 많다.  \n",
    "결론적으로 주산업분류코드 가 47851 (화초 및 식물 소매업)은, 개인사업체이며, 단독사업체 형태가 압도적으로 많다.  \n",
    "5. 1인 자영업자 가 3108개 사업체중 3029개로 압도적으로 많다.  \n",
    "상용근로자가 없는 사업체가 압도적으로 많다.  \n",
    "종사자합계가 1명인 사업체가 가장 많으며, 이들 중 여성이 높은 비율을 차지하고 있다.  \n",
    "6. 서울시내 상위 TOP8 의 구별 분포를 보면, 크게 위치적으로 3권역 으로 나눌 수 있다.  \n",
    " 1_서초,강남, 송파구, 강동구 (38%)  \n",
    " 2_종로구,중구 (14%)  \n",
    " 3_마포, 영등포구 (10% )  \n",
    "서초구, 강남구에서 대표자 연령대는 5 -> 4 -> 3 십대 순이며, 2012년 이후 창업 비율은 3 -> 4 십대 순이다.  \n",
    "송파구, 강동구에서 대표자 연령대는 5 -> 4 -> 6 십대 순이며, 2012년 이후 창업 비율은 3 -> 5 십대 순이다.  \n",
    "마포구, 영등포구에서 대표자 연령대는 3 -> 5 -> 4 십대 순이며, 2012년 이후 창업 비율은 3 -> 5 십대 순이다.  "
   ]
  },
  {
   "cell_type": "code",
   "execution_count": null,
   "id": "278b0ed1-c7b8-4605-a14d-341f2c209aec",
   "metadata": {},
   "outputs": [],
   "source": []
  }
 ],
 "metadata": {
  "kernelspec": {
   "display_name": "Python 3 (ipykernel)",
   "language": "python",
   "name": "python3"
  },
  "language_info": {
   "codemirror_mode": {
    "name": "ipython",
    "version": 3
   },
   "file_extension": ".py",
   "mimetype": "text/x-python",
   "name": "python",
   "nbconvert_exporter": "python",
   "pygments_lexer": "ipython3",
   "version": "3.9.13"
  }
 },
 "nbformat": 4,
 "nbformat_minor": 5
}
